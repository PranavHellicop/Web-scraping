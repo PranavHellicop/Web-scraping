{
 "cells": [
  {
   "cell_type": "code",
   "execution_count": 1,
   "id": "0fb263f9",
   "metadata": {},
   "outputs": [],
   "source": [
    "import pandas as pd\n",
    "from csv import writer\n",
    "from urllib.parse import urljoin\n",
    "import unicodedata\n",
    "import pandas as pd\n",
    "import numpy as np\n",
    "import warnings\n",
    "warnings.filterwarnings('ignore')\n",
    "\n",
    "pd.set_option('display.max_columns', None)\n",
    "pd.set_option('display.expand_frame_repr', False)\n",
    "pd.set_option('max_colwidth', -1)"
   ]
  },
  {
   "cell_type": "code",
   "execution_count": null,
   "id": "bfa9acb1",
   "metadata": {},
   "outputs": [],
   "source": [
    "from selenium import webdriver\n",
    "from selenium.webdriver.common.by import By\n",
    "from selenium.webdriver.support.ui import WebDriverWait\n",
    "from selenium.webdriver.support import expected_conditions as EC\n",
    "from selenium.webdriver.support.select import Select\n",
    "from selenium.common.exceptions import TimeoutException\n",
    "from selenium.webdriver.common.action_chains import ActionChains\n",
    "from selenium.webdriver.common.keys import Keys\n",
    "import time\n",
    "import requests\n",
    "from bs4 import BeautifulSoup"
   ]
  },
  {
   "cell_type": "code",
   "execution_count": null,
   "id": "292a3148",
   "metadata": {},
   "outputs": [],
   "source": [
    "html = requests.get('https://www.bcci.tv/events/54/south-africa-tour-of-india-t20-series-2022/match/427/1st-t20i').content"
   ]
  },
  {
   "cell_type": "code",
   "execution_count": null,
   "id": "319c809c",
   "metadata": {},
   "outputs": [],
   "source": [
    "html"
   ]
  },
  {
   "cell_type": "code",
   "execution_count": null,
   "id": "4e506831",
   "metadata": {},
   "outputs": [],
   "source": [
    "sel = Selector(text=html)"
   ]
  },
  {
   "cell_type": "code",
   "execution_count": null,
   "id": "41bf14cf",
   "metadata": {},
   "outputs": [],
   "source": [
    "s = sel.css('div.cmdEvent fourCmd mcBall mcBall mcBall mcBall mcBall mcBall>p::text').extract()"
   ]
  },
  {
   "cell_type": "code",
   "execution_count": null,
   "id": "94e67bba",
   "metadata": {},
   "outputs": [],
   "source": [
    "s"
   ]
  },
  {
   "cell_type": "code",
   "execution_count": null,
   "id": "9af7acf8",
   "metadata": {},
   "outputs": [],
   "source": [
    "s = s[0:14]"
   ]
  },
  {
   "cell_type": "code",
   "execution_count": null,
   "id": "b3c57d4d",
   "metadata": {},
   "outputs": [],
   "source": [
    "d = sel.xpath('//div[@class =\"ds-p-0\"]/div/div/table/tbody/tr/td/span/text()').extract()"
   ]
  },
  {
   "cell_type": "code",
   "execution_count": null,
   "id": "228af591",
   "metadata": {},
   "outputs": [],
   "source": [
    "test_bowl = d[0:14]\n",
    "odi_bowl = d[14:28]\n",
    "fc_bowl = d[28:42]\n",
    "listA_bowl = d[42:56]"
   ]
  },
  {
   "cell_type": "code",
   "execution_count": null,
   "id": "d5df3777",
   "metadata": {},
   "outputs": [],
   "source": [
    "df = pd.DataFrame(columns =s)\n",
    "df"
   ]
  },
  {
   "cell_type": "code",
   "execution_count": null,
   "id": "d0fe4925",
   "metadata": {},
   "outputs": [],
   "source": [
    "df =pd.DataFrame({s[0]:test_bowl[0],s[1]:test_bowl[1],'Inns':test_bowl[2],'Balls':test_bowl[3],'Runs':test_bowl[4],'Wkts':[test_bowl[5]],'BBI':[test_bowl[6]],'BBM':[test_bowl[7]],'Ave':[test_bowl[8]],'Econ':[test_bowl[9]],'SR':[test_bowl[10]],'4w':[test_bowl[11]],'5w':[test_bowl[12]],'10w':[test_bowl[13]]},index = [0,1,2,3])"
   ]
  },
  {
   "cell_type": "code",
   "execution_count": null,
   "id": "60a910c1",
   "metadata": {},
   "outputs": [],
   "source": [
    "d"
   ]
  },
  {
   "cell_type": "code",
   "execution_count": null,
   "id": "f0b7f58d",
   "metadata": {},
   "outputs": [],
   "source": [
    "df =pd.DataFrame({'names':'good', 'like':'nice'},index = [0])"
   ]
  },
  {
   "cell_type": "code",
   "execution_count": null,
   "id": "8f53ec82",
   "metadata": {},
   "outputs": [],
   "source": [
    "for i in range(0,len(s)):\n",
    "    df.iloc[[0],i] = pd.DataFrame({s[i]:test_bowl[i]}, index = [0])\n",
    "    df.iloc[[1],i] = pd.DataFrame({s[i]:odi_bowl[i]}, index = [0])\n",
    "    df.iloc[[2],i] = pd.DataFrame({s[i]:fc_bowl[i]}, index = [0])\n",
    "    df.iloc[[3],i] = pd.DataFrame({s[i]:listA_bowl[i]}, index = [0])"
   ]
  },
  {
   "cell_type": "code",
   "execution_count": null,
   "id": "3ccad87a",
   "metadata": {},
   "outputs": [],
   "source": [
    "df"
   ]
  },
  {
   "cell_type": "code",
   "execution_count": null,
   "id": "22cebb6c",
   "metadata": {},
   "outputs": [],
   "source": [
    "class My_spider(scrapy.Spider):\n",
    "    name = 'my_spider'\n",
    "    \n",
    "    def start_request(self):\n",
    "        url = \"http://books.toscrape.com/\"\n",
    "        \n",
    "        yield scrapy.Request(url = url, callback = self.parse1)\n",
    "    \n",
    "    def parse1(self,response):\n",
    "        \n",
    "        links_to_follow = response.xpath('//h3/a/@href').extract()\n",
    "        \n",
    "        for link in links_to_follow:\n",
    "            yield response.follow(url = link, callback = self.parse2)\n",
    "            \n",
    "    def parse2(self,response):\n",
    "        \n",
    "        titles = response.xpath('//div[@class=\"col-sm-6 product_main\"]/h1/text()').extract()\n",
    "        \n",
    "        \n",
    "        price  = response.xpath('//div[@class=\"col-sm-6 product_main\"]/p[@class=\"price_color\"]/text()').extract()\n",
    "        \n",
    "        dc_dict[titles]=price\n",
    "        \n",
    "        "
   ]
  },
  {
   "cell_type": "code",
   "execution_count": null,
   "id": "0c9fa323",
   "metadata": {},
   "outputs": [],
   "source": [
    "dc_dict = dict()"
   ]
  },
  {
   "cell_type": "code",
   "execution_count": null,
   "id": "91aada58",
   "metadata": {},
   "outputs": [],
   "source": []
  },
  {
   "cell_type": "code",
   "execution_count": null,
   "id": "b19699fc",
   "metadata": {},
   "outputs": [],
   "source": [
    "process = CrawlerProcess()\n",
    "process.crawl(My_spider)\n",
    "process.start()"
   ]
  },
  {
   "cell_type": "code",
   "execution_count": null,
   "id": "3180c1b4",
   "metadata": {},
   "outputs": [],
   "source": [
    "dc_dict"
   ]
  },
  {
   "cell_type": "code",
   "execution_count": null,
   "id": "aac1be06",
   "metadata": {},
   "outputs": [],
   "source": [
    "a = [[2,32],[1,43],[5,6]]"
   ]
  },
  {
   "cell_type": "code",
   "execution_count": null,
   "id": "59c9b006",
   "metadata": {},
   "outputs": [],
   "source": [
    "a[1]"
   ]
  },
  {
   "cell_type": "code",
   "execution_count": null,
   "id": "ce161678",
   "metadata": {},
   "outputs": [],
   "source": [
    "a.sort(key = sorting)"
   ]
  },
  {
   "cell_type": "code",
   "execution_count": null,
   "id": "496541f2",
   "metadata": {},
   "outputs": [],
   "source": [
    "from bs4 import BeautifulSoup\n",
    "import requests\n",
    "from csv import writer"
   ]
  },
  {
   "cell_type": "code",
   "execution_count": null,
   "id": "d769cde7",
   "metadata": {},
   "outputs": [],
   "source": [
    "area = class=\"illustrated-features__item illustrated-features__item--surface-area\"\n",
    "price = class=\"listing-search-item__price\"\n"
   ]
  },
  {
   "cell_type": "code",
   "execution_count": null,
   "id": "b8c740e3",
   "metadata": {},
   "outputs": [],
   "source": [
    "url = \"https://www.bcci.tv/events/54/south-africa-tour-of-india-t20-series-2022/match/427/1st-t20i\"\n",
    "res = requests.get(url).content"
   ]
  },
  {
   "cell_type": "code",
   "execution_count": null,
   "id": "96959215",
   "metadata": {},
   "outputs": [],
   "source": [
    "bs = BeautifulSoup(res,'html.parser')\n",
    "\n",
    "overs = bs.find_all('p', class_=\"cmdOver mcBall mcBall mcBall mcBall mcBall mcBall mcBall\")\n",
    "com = bs.find_all('div',class_= \"cmdText ng-binding ng-scope\")\n",
    "\n",
    "\n",
    "with open('housing.csv','w', encoding = 'utf8' , newline = '') as f:\n",
    "    writer_file = writer(f)\n",
    "    header = ['Title','Price','Area']\n",
    "    writer_file.writerow(header)\n",
    "    z = []\n",
    "    for i,j,k in zip(title,price,area):\n",
    "        t = i.text.replace('\\n','').strip()\n",
    "        p = j.text.replace('\\n','').strip()\n",
    "        a = k.text.replace('\\n','').strip()\n",
    "        li = [t,p,a]\n",
    "        writer_file.writerow(li)\n"
   ]
  },
  {
   "cell_type": "code",
   "execution_count": null,
   "id": "02439a62",
   "metadata": {},
   "outputs": [],
   "source": [
    "bs = BeautifulSoup(res,'html.parser')\n",
    "\n",
    "overs = bs.find_all('p', class_=\"cmdOver mcBall mcBall mcBall mcBall mcBall mcBall mcBall\")\n",
    "com = bs.find_all('div',class_= \"cmdText ng-binding ng-scope\")\n",
    "\n",
    "s = dict()\n",
    "for i,j in zip(overs,com):\n",
    "    t = i.text\n",
    "    p = j.text\n",
    "    \n",
    "    li = [t,p]"
   ]
  },
  {
   "cell_type": "code",
   "execution_count": null,
   "id": "5095f433",
   "metadata": {},
   "outputs": [],
   "source": [
    "bs"
   ]
  },
  {
   "cell_type": "code",
   "execution_count": 2,
   "id": "798a5e3b",
   "metadata": {},
   "outputs": [],
   "source": []
  },
  {
   "cell_type": "code",
   "execution_count": null,
   "id": "845dd884",
   "metadata": {
    "scrolled": true
   },
   "outputs": [],
   "source": [
    "driver = webdriver.Edge()\n",
    "\n",
    "\n",
    "\n",
    "for page in range(1,23):\n",
    "    \n",
    "    driver.get('https://www.bizbuysell.com/liquor-stores-for-sale/'+str(page)+'/')\n",
    "\n",
    "    webelem = driver.find_elements_by_css_selector('#search-results>app-bfs-listing-container>div>app-listing-diamond>a')\n",
    "\n",
    "    link = []\n",
    "    for i in webelem:\n",
    "        links = i.get_attribute('href')\n",
    "        link.append(links)\n",
    "\n",
    "\n",
    "    price = []\n",
    "    cash = []\n",
    "    revenue = []\n",
    "    inventory = []\n",
    "    ebitda = []\n",
    "    realest = []\n",
    "    ffe=[]\n",
    "    est = []\n",
    "    descr = []\n",
    "    loc = []\n",
    "    realest_type = []\n",
    "    building = []\n",
    "    emp = []\n",
    "    fin = []\n",
    "    sup = []\n",
    "    reason = []\n",
    "\n",
    "    for url in link:\n",
    "        driver.get(url)\n",
    "\n",
    "        pr_elem = driver.find_element_by_css_selector('div.row-fluid.b-margin.financials.clearfix > div > div.row-fluid.lgFinancials > div>p>b')\n",
    "        asking_price = pr_elem.text\n",
    "        price.append(asking_price)\n",
    "\n",
    "        cash_elem = driver.find_element_by_css_selector('div.row-fluid.b-margin.financials.clearfix>div>div.row-fluid.lgFinancials>div:nth-child(2)>p>b')\n",
    "        cash_flow = cash_elem.text\n",
    "        cash.append(cash_flow)\n",
    "\n",
    "        rev_elem = driver.find_element_by_css_selector('div.row-fluid.b-margin.financials.clearfix > div > div:nth-child(2) > div:nth-child(1) > p:nth-child(1) > b')\n",
    "        gross_rev = rev_elem.text\n",
    "        revenue.append(gross_rev)\n",
    "\n",
    "        inv_elem = driver.find_element_by_css_selector('div.row-fluid.b-margin.financials.clearfix > div > div:nth-child(2) > div:nth-child(2) > p.notDisclosed.help > b')\n",
    "        inv = inv_elem.text\n",
    "        inventory.append(inv)\n",
    "\n",
    "        ebitda_elem = driver.find_element_by_css_selector('div.row-fluid.b-margin.financials.clearfix > div > div:nth-child(2) > div:nth-child(1) > p.notDisclosed.help > b')\n",
    "        ebit = ebitda_elem.text\n",
    "        ebitda.append(ebit)\n",
    "\n",
    "        real_elem = driver.find_element_by_css_selector('div.row-fluid.b-margin.financials.clearfix > div > div:nth-child(2) > div:nth-child(2) > p.odd > b')\n",
    "        real = real_elem.text\n",
    "        realest.append(real)\n",
    "\n",
    "        ffe_elem = driver.find_element_by_css_selector('div.row-fluid.b-margin.financials.clearfix > div > div:nth-child(2) > div:nth-child(1) > p:nth-child(3) > b')\n",
    "        fft = ffe_elem.text\n",
    "        ffe.append(fft)\n",
    "\n",
    "        est_elem = driver.find_element_by_css_selector('div.row-fluid.b-margin.financials.clearfix > div > div:nth-child(2) > div:nth-child(2) > p.notDisclosed > b')\n",
    "        estd = est_elem.text\n",
    "        est.append(estd)\n",
    "\n",
    "        descr_elem = driver.find_element_by_css_selector('div.print-body > div > div > div > div > div:nth-child(3) > div.span8 > div.businessDescription')\n",
    "        desc = descr_elem.text\n",
    "        descr.append(desc)\n",
    "\n",
    "        loc_elem = driver.find_element_by_css_selector('dl#ctl00_ctl00_Content_ContentPlaceHolder1_wideProfile_listingDetails_dlDetailedInformation > dd:nth-child(2)')\n",
    "        loct = loc_elem.text\n",
    "        loc.append(loct)\n",
    "\n",
    "        realt_elem = driver.find_element_by_css_selector('dl#ctl00_ctl00_Content_ContentPlaceHolder1_wideProfile_listingDetails_dlDetailedInformation >dd:nth-')\n",
    "        realt_tex =  realt_elem.text\n",
    "        realest_type.append(realt_tex)\n",
    "\n",
    "        build_elem = driver.find_element_by_css_selector('dl#ctl00_ctl00_Content_ContentPlaceHolder1_wideProfile_listingDetails_dlDetailedInformation > dd:nth-child(9)')\n",
    "        build_tex = build_elem.text\n",
    "        building.append(build_tex)\n",
    "\n",
    "        emp_elem = driver.find_element_by_css_selector('dl#ctl00_ctl00_Content_ContentPlaceHolder1_wideProfile_listingDetails_dlDetailedInformation > dd:nth-child(11)')\n",
    "        emp_tex = emp_elem.text\n",
    "        emp.append(emp_tex)\n",
    "\n",
    "        fin_elem = driver.find_element_by_css_selector('dl#ctl00_ctl00_Content_ContentPlaceHolder1_wideProfile_listingDetails_dlDetailedInformation > dd:nth-child(13)')\n",
    "        find_tex = fin_elem.text\n",
    "        fin.append(find_tex)\n",
    "\n",
    "        sup_elem = driver.find_element_by_css_selector('dl#ctl00_ctl00_Content_ContentPlaceHolder1_wideProfile_listingDetails_dlDetailedInformation > dd:nth-child(15)')\n",
    "        sup_tex = sup_elem.text\n",
    "        sup.append(sup_tex)\n",
    "\n",
    "        reas_elem = driver.find_element_by_css_selector('dl#ctl00_ctl00_Content_ContentPlaceHolder1_wideProfile_listingDetails_dlDetailedInformation > dd:nth-child(17)')\n",
    "        reas_tex = reas_elem.text\n",
    "        reason.append(reas_tex)\n",
    "        \n",
    "        \n",
    "        \n",
    "        with open('upw.xlsx','w') as file:\n",
    "            file.append(price[0],cash[0],revenue[0],inventory[0],ebitda[0],realest[0],ffe[0],est[0].descr[0],loc[0],realest_type[0],building[0],emp[0],fin[0],sup[0],sup[0])\n",
    "        file.close()\n",
    "    \n",
    "    "
   ]
  },
  {
   "cell_type": "code",
   "execution_count": null,
   "id": "eed66bf9",
   "metadata": {},
   "outputs": [],
   "source": [
    "driver = webdriver.Edge()\n",
    "\n",
    "for page in range(1,2):\n",
    "    \n",
    "    driver.get('https://www.bizbuysell.com/liquor-stores-for-sale/'+str(page)+'/')\n",
    "\n",
    "    webelem = driver.find_elements_by_css_selector('#search-results>app-bfs-listing-container>div>app-listing-diamond>a')\n",
    "\n",
    "    link = []\n",
    "    for i in webelem:\n",
    "        links = i.get_attribute('href')\n",
    "        link.append(links)\n",
    "\n",
    "\n",
    "    #price = []\n",
    "    #cash = []\n",
    "    #revenue = []\n",
    "    #inventory = []\n",
    "    #ebitda = []\n",
    "    #realest = []\n",
    "    #ffe=[]\n",
    "    #est = []\n",
    "    #descr = []\n",
    "    #loc = []\n",
    "    #realest_type = []\n",
    "    #building = []\n",
    "    #emp = []\n",
    "    #fin = []\n",
    "    #sup = []\n",
    "    #reason = []\n",
    "    master_list = []\n",
    "    for url in link:\n",
    "        \n",
    "        list_ = []\n",
    "        driver.get(url)\n",
    "        print(url)\n",
    "        try:\n",
    "            pr_elem = driver.find_element_by_css_selector('div.row-fluid.b-margin.financials.clearfix > div > div.row-fluid.lgFinancials > div>p>b')\n",
    "            asking_price = pr_elem.text\n",
    "            list_.append(asking_price)\n",
    "        except:\n",
    "            pass\n",
    "         \n",
    "        try:\n",
    "            \n",
    "            cash_elem = driver.find_element_by_css_selector('div.row-fluid.b-margin.financials.clearfix>div>div.row-fluid.lgFinancials>div:nth-child(2)>p>b')\n",
    "            cash_flow = cash_elem.text\n",
    "            list_.append(cash_flow)\n",
    "        except:\n",
    "            pass\n",
    "\n",
    "        try:\n",
    "            rev_elem = driver.find_element_by_css_selector('div.row-fluid.b-margin.financials.clearfix > div > div:nth-child(2) > div:nth-child(1) > p:nth-child(1) > b')\n",
    "            gross_rev = rev_elem.text\n",
    "            list_.append(gross_rev)\n",
    "        except:\n",
    "            pass\n",
    "        \n",
    "        try:\n",
    "            \n",
    "            inv_elem = driver.find_element_by_css_selector('div.row-fluid.b-margin.financials.clearfix > div > div:nth-child(2) > div:nth-child(2) > p[class*=\"help\"] > b')\n",
    "            inv = inv_elem.text\n",
    "            list_.append(inv)\n",
    "        except:\n",
    "            pass\n",
    "        \n",
    "            \n",
    "        try:       \n",
    "            ebitda_elem = driver.find_element_by_css_selector('div.row-fluid.b-margin.financials.clearfix > div > div:nth-child(2) > div:nth-child(1) > p:nth-child(2) > b')\n",
    "            ebit = ebitda_elem.text\n",
    "            list_.append(ebit)\n",
    "        except:\n",
    "            ebitda_elem = driver.find_element_by_css_selector('div.row-fluid.b-margin.financials.clearfix > div > div:nth-child(2) > div:nth-child(1) > p.notDisclosed.help > b')\n",
    "            ebit = ebitda_elem.text\n",
    "            list_.append(ebit)\n",
    "        finally:\n",
    "            pass\n",
    "            \n",
    "            \n",
    "        try:   \n",
    "            real_elem = driver.find_element_by_css_selector('div.row-fluid.b-margin.financials.clearfix > div > div:nth-child(2) > div:nth-child(2) > p.odd > b')\n",
    "            real = real_elem.text\n",
    "            list_.append(real)\n",
    "        except:\n",
    "            real_elem = driver.find_element_by_css_selector('div.row-fluid.b-margin.financials.clearfix > div > div:nth-child(2) > div:nth-child(2) > p.notDisclosed.odd > b')\n",
    "            real = real_elem.text\n",
    "            list_.append(real)\n",
    "        finally:\n",
    "            pass\n",
    "            \n",
    "           \n",
    "        try:\n",
    "            \n",
    "            ffe_elem = driver.find_element_by_css_selector('div.row-fluid.b-margin.financials.clearfix > div > div:nth-child(2) > div:nth-child(1) > p:nth-child(3) > b')\n",
    "            fft = ffe_elem.text\n",
    "            list_.append(fft)\n",
    "        except:\n",
    "            pass\n",
    "        \n",
    "        try:\n",
    "            \n",
    "            est_elem = driver.find_element_by_css_selector('div.row-fluid.b-margin.financials.clearfix > div > div:nth-child(2) > div:nth-child(2) > p:nth-child(3) > b')\n",
    "            estd = est_elem.text\n",
    "            list_.append(estd)\n",
    "        except:\n",
    "            est_elem = driver.find_element_by_css_selector('div.span8 > div.row-fluid.b-margin.financials.clearfix > div > div:nth-child(2) > div:nth-child(2) > p.notDisclosed > b')\n",
    "            estd = est_elem.text\n",
    "            list_.append(estd)\n",
    "        finally:\n",
    "            pass\n",
    "            \n",
    "        try:\n",
    "            descr_elem = driver.find_element_by_css_selector('div.print-body > div > div > div > div > div:nth-child(3) > div.span8 > div.businessDescription')\n",
    "            desc = descr_elem.text\n",
    "            list_.append(desc)\n",
    "        except:\n",
    "            pass\n",
    "        \n",
    "        master_list.append(list_)\n",
    "        \n",
    "        \n",
    "        \n",
    "        \n",
    "        "
   ]
  },
  {
   "cell_type": "code",
   "execution_count": null,
   "id": "572ee83d",
   "metadata": {},
   "outputs": [],
   "source": [
    "lower_elem = driver.find_element_by_css_selector('dl#ctl00_ctl00_Content_ContentPlaceHolder1_wideProfile_listingDetails_dlDetailedInformation')"
   ]
  },
  {
   "cell_type": "code",
   "execution_count": null,
   "id": "d0f229bd",
   "metadata": {
    "scrolled": true
   },
   "outputs": [],
   "source": [
    "driver = webdriver.Edge()\n",
    "driver.get('https://www.bizbuysell.com/Business-Opportunity/retail-liquor-and-wine-store/1875209/?d=L2xpcXVvci1zdG9yZXMtZm9yLXNhbGUv')\n",
    "lower_elem = driver.find_element_by_css_selector('dl#ctl00_ctl00_Content_ContentPlaceHolder1_wideProfile_listingDetails_dlDetailedInformation')\n",
    "\n",
    "print(lower_elem.text)\n",
    "\n"
   ]
  },
  {
   "cell_type": "markdown",
   "id": "601dcd91",
   "metadata": {},
   "source": [
    "# extract the price, store \n",
    "\n",
    "\n",
    "#dataframe using a dictionary with columns---\n",
    "##asking price, cash_flow, Gross revenue, Inventory, EBITDA, Real Estate, FF&E, Established,\n",
    "##Business description, Location, Real_Estate, Building SF,Employees, Financing, Support & Training, Reason for selling"
   ]
  },
  {
   "cell_type": "code",
   "execution_count": null,
   "id": "76082b1c",
   "metadata": {},
   "outputs": [],
   "source": [
    "dictionary = {'url': [], 'asking_price':[], 'cash_flow':[],.......}"
   ]
  },
  {
   "cell_type": "code",
   "execution_count": null,
   "id": "1a4f6a77",
   "metadata": {},
   "outputs": [],
   "source": [
    "link[:10]"
   ]
  },
  {
   "cell_type": "code",
   "execution_count": null,
   "id": "96ed108f",
   "metadata": {
    "scrolled": true
   },
   "outputs": [],
   "source": [
    "driver = webdriver.Edge()\n",
    "driver.get(link[0])"
   ]
  },
  {
   "cell_type": "code",
   "execution_count": null,
   "id": "62cc4b29",
   "metadata": {},
   "outputs": [],
   "source": [
    "dic =defaultdict()\n",
    "dic = {\"d\":[1,2],\"e\":[3]}"
   ]
  },
  {
   "cell_type": "code",
   "execution_count": null,
   "id": "fc87e80c",
   "metadata": {
    "scrolled": true
   },
   "outputs": [],
   "source": [
    "driver = webdriver.Edge()\n",
    "driver.get('https://www.javatpoint.com/css-nth-child-selector')\n",
    "\n",
    "rgb = driver.find_element_by_css_selector(\"#___gcse_1 > div > div > form > table > tbody > tr > td.gsc-search-button > button\")\n",
    "\n",
    "\n",
    "properties = driver.execute_script('return window.getComputedStyle(arguments[0], null);', rgb)\n",
    "for propert in properties:\n",
    "    if propert =='text-decoration-color':\n",
    "        print(rgb.value_of_css_property(propert))\n"
   ]
  },
  {
   "cell_type": "code",
   "execution_count": null,
   "id": "203850b6",
   "metadata": {},
   "outputs": [],
   "source": [
    "'#{:02x}{:02x}{:02x}'.format( 76, 175 , 80 )"
   ]
  },
  {
   "cell_type": "code",
   "execution_count": null,
   "id": "1a3c9e7a",
   "metadata": {},
   "outputs": [],
   "source": [
    "driver = webdriver.Edge()\n",
    "\n",
    "driver.get('https://www.napaonline.com/en/search?text=curt&referer=v2&page=1')\n",
    "time.sleep(10)\n",
    "\n",
    "element = driver.find_elements_by_css_selector('div.geo-pod-detail.tablet-desktop > div.geo-pod-title.geo-productpod-top > a')\n",
    "\n",
    "for i in element:\n",
    "    print(i.get_attribute('href'))"
   ]
  },
  {
   "cell_type": "markdown",
   "id": "08a91e2b",
   "metadata": {},
   "source": [
    "# webcrawling"
   ]
  },
  {
   "cell_type": "code",
   "execution_count": 14,
   "id": "d8dc7d90",
   "metadata": {},
   "outputs": [],
   "source": [
    "from urllib.parse import urljoin"
   ]
  },
  {
   "cell_type": "code",
   "execution_count": null,
   "id": "c047daae",
   "metadata": {},
   "outputs": [],
   "source": [
    "base_url = 'http://www.webscrapingfordatascience.com/crawler/'\n",
    "\n",
    "link_list = set()\n",
    "\n",
    "url = 'http://www.webscrapingfordatascience.com/crawler/'\n",
    "res = requests.get(url).text\n",
    "\n",
    "soup = BeautifulSoup(res,'html.parser')\n",
    "\n",
    "tagobj = soup.find_all('a')\n",
    "#link_list.add(url)\n",
    "#for obj in tagobj:\n",
    " #   link_url = obj.get('href')\n",
    "  #  \n",
    "   # if link_url is None:\n",
    "    #    continue\n",
    "    #full_link = urljoin(url,link_url)\n",
    "    \n",
    "  #  if full_link in link_list:\n",
    "   #     continue\n",
    "\n",
    "\n",
    "def visit(url):\n",
    "    \n",
    "    links = []\n",
    "    for i in tagobj:\n",
    "        part_url = i.get('href')\n",
    "\n",
    "        full_url = urljoin(base_url,part_url)\n",
    "\n",
    "\n",
    "\n",
    "        link_list.add(full_url)\n",
    "        print('found new url:', full_url)\n",
    "        links.append(full_url)\n",
    "    return links\n",
    "\n",
    "\n",
    "while True:\n",
    "    url_to_visit = links[-1]\n",
    "    new_links = visit(url_to_visit)\n",
    "    print(len(new_links),\"new links found\")\n",
    "    links += new_links"
   ]
  },
  {
   "cell_type": "code",
   "execution_count": null,
   "id": "d809e0a7",
   "metadata": {},
   "outputs": [],
   "source": [
    "base_url = 'http://www.webscrapingfordatascience.com/crawler/'\n",
    "links_seen = set()\n",
    "def visit(url, links_seen):\n",
    "    html = requests.get(url).text\n",
    "    html_soup = BeautifulSoup(html, 'html.parser')\n",
    "    links_seen.add(url)\n",
    "    for link in html_soup.find_all(\"a\"):\n",
    "        link_url = link.get('href')\n",
    "        if link_url is None:\n",
    "            continue\n",
    "        full_url = urljoin(url, link_url)\n",
    "        if full_url in links_seen:\n",
    "            continue\n",
    "        print('Found a new page:', full_url)\n",
    "            # Normally, we'd store the results here too\n",
    "        visit(full_url, links_seen)"
   ]
  },
  {
   "cell_type": "code",
   "execution_count": null,
   "id": "78ceec70",
   "metadata": {
    "scrolled": true
   },
   "outputs": [],
   "source": [
    "visit(base_url,links_seen)"
   ]
  },
  {
   "cell_type": "code",
   "execution_count": null,
   "id": "922eff50",
   "metadata": {},
   "outputs": [],
   "source": [
    "type(link_list)"
   ]
  },
  {
   "cell_type": "code",
   "execution_count": null,
   "id": "cb337855",
   "metadata": {},
   "outputs": [],
   "source": [
    "bool([start])"
   ]
  },
  {
   "cell_type": "code",
   "execution_count": null,
   "id": "a76abc25",
   "metadata": {},
   "outputs": [],
   "source": [
    "from csv import writer"
   ]
  },
  {
   "cell_type": "code",
   "execution_count": null,
   "id": "d2c959be",
   "metadata": {},
   "outputs": [],
   "source": [
    "driver = webdriver.Edge()\n",
    "base_url = 'https://news.google.com'\n",
    "driver.get('https://news.google.com/search?q=bjp%20when%3A1d&hl=en-IN&gl=IN&ceid=IN%3Aen&v2prv=1')\n",
    "\n",
    "elements = WebDriverWait(driver,10).until(EC.presence_of_all_elements_located((By.CSS_SELECTOR, 'h3.ipQwMb.ekueJc.RD0gLb>a')))\n",
    "\n",
    "articles = []\n",
    "with open ('articles_bjp.csv','w') as file:\n",
    "    \n",
    "    writer_file = writer(file)\n",
    "    header = ['Article','Link']\n",
    "    writer_file.writerow(header)\n",
    "    for i in elements:\n",
    "\n",
    "        text = i.text\n",
    "        link = i.get_attribute('href')\n",
    "        full_link = urljoin(base_url,link)\n",
    "        lis = [text,full_link]\n",
    "        writer_file.writerow(lis)\n",
    "        \n",
    "        "
   ]
  },
  {
   "cell_type": "code",
   "execution_count": null,
   "id": "3bb9e47d",
   "metadata": {},
   "outputs": [],
   "source": [
    "driver = webdriver.Edge()\n",
    "base_url = 'https://download.cnet.com'\n",
    "master_list = []\n",
    "\n",
    "for i in range(1,91):\n",
    "    driver.get('https://download.cnet.com/security/windows/'+ str(i)+ '?sort=mostPopular&price=free')\n",
    "\n",
    "\n",
    "\n",
    "    elements = driver.find_elements_by_xpath('//div[@class=\"c-globalCard lg:u-col-3 md:u-col-3 sm:u-col-2 c-productCard u-flexbox-column c-productCard-detailed\"]/a')\n",
    "\n",
    "    \n",
    "    for i in elements:\n",
    "\n",
    "        half_link = i.get_attribute('href')\n",
    "        full_link = urljoin(base_url,half_link)\n",
    "        \n",
    "        master_list.append(full_link)"
   ]
  },
  {
   "cell_type": "code",
   "execution_count": null,
   "id": "e528b52f",
   "metadata": {
    "scrolled": true
   },
   "outputs": [],
   "source": [
    "master_list[:100]"
   ]
  },
  {
   "cell_type": "code",
   "execution_count": null,
   "id": "acc8cf5c",
   "metadata": {},
   "outputs": [],
   "source": [
    "with open('info.csv','w') as file:\n",
    "    writer_file = writer(file)\n",
    "    header = ['App Name','last updated','Downloads last week','website','email']\n",
    "    writer_file.writerow(header)   \n",
    "    \n",
    "    for link in master_list:\n",
    "        driver.get(link)\n",
    "\n",
    "        app_ele = driver.find_element_by_css_selector('div.c-productSummary_summary>h1')\n",
    "        app_name = app_ele.text\n",
    "        try:\n",
    "            upd_ele = driver.find_element_by_css_selector('div.c-productDetails_body.g-outer-spacing-left-medium>ul>li:nth-child(2)')\n",
    "            update = upd_ele.text\n",
    "        except:\n",
    "            update = 'NA'\n",
    "        try:\n",
    "            dwd_ele = driver.find_element_by_xpath('//*[@id=\"__layout\"]/div/div[2]/div[2]/div/div[1]/div[3]/div[1]/div[7]/div[2]/div[2]/div[2]/span[2]')\n",
    "            download = dwd_ele.text\n",
    "        except:\n",
    "            download = 'NA'\n",
    "\n",
    "        url = driver.find_element_by_css_selector('div.c-productSummary_details > span.c-productSummary_publisher.g-text-small > a').get_attribute('href')\n",
    "\n",
    "        full_url = urljoin(base_url,url)\n",
    "\n",
    "        driver.get(full_url)\n",
    "\n",
    "        try:\n",
    "            web_link = driver.find_element_by_css_selector('div.c-productCompanyInfo.g-text-small>ul > li:nth-child(1) > a').get_attribute('href')\n",
    "        except:\n",
    "            web_link = 'NA'`b\n",
    "        try:\n",
    "            email = driver.find_element_by_css_selector('div.c-productCompanyInfo.g-text-small>ul > li:nth-child(2)>a').text\n",
    "        except:\n",
    "            email = 'NA'\n",
    "    \n",
    "        lis = [app_name,update,download,web_link,email]\n",
    "        \n",
    "        writer_file.writerow(lis)"
   ]
  },
  {
   "cell_type": "code",
   "execution_count": null,
   "id": "4ee3d5fa",
   "metadata": {},
   "outputs": [],
   "source": [
    "driver = webdriver.Edge()\n",
    "\n",
    "driver.get('https://www.hellopeter.com/sars')\n",
    "\n",
    "fivestar_el = driver.find_element_by_css_selector('label[for = \"21_fiveStar\"]>span>i')\n",
    "\n",
    "fivestar_el.click()\n",
    "\n",
    "5star_review = \n",
    "\n"
   ]
  },
  {
   "cell_type": "code",
   "execution_count": null,
   "id": "b41ff686",
   "metadata": {},
   "outputs": [],
   "source": [
    "import glob"
   ]
  },
  {
   "cell_type": "code",
   "execution_count": null,
   "id": "0b5283ff",
   "metadata": {},
   "outputs": [],
   "source": [
    "li = []\n",
    "for i in glob.glob('C:\\\\Users\\\\prana\\\\*.xlsx'):\n",
    "    files = pd.read_excel(i)\n",
    "    li.append(files)\n",
    "    "
   ]
  },
  {
   "cell_type": "code",
   "execution_count": null,
   "id": "a5ec3fe9",
   "metadata": {},
   "outputs": [],
   "source": [
    "df = pd.concat(li)"
   ]
  },
  {
   "cell_type": "code",
   "execution_count": null,
   "id": "5393324e",
   "metadata": {},
   "outputs": [],
   "source": []
  },
  {
   "cell_type": "code",
   "execution_count": null,
   "id": "6e66ef6d",
   "metadata": {},
   "outputs": [],
   "source": [
    "driver = webdriver.Edge()\n",
    "\n",
    "driver.get('https://www.izmostock.com/car-stock-photos-by-brand')\n",
    "\n",
    "element = driver.find_elements_by_css_selector('div#by_brand>a')\n",
    "\n",
    "brand_link = []\n",
    "for brand in element:\n",
    "    link = brand.get_attribute('href')\n",
    "    brand_link.append(link)"
   ]
  },
  {
   "cell_type": "code",
   "execution_count": null,
   "id": "2259defc",
   "metadata": {},
   "outputs": [],
   "source": [
    "for url in brand_link:\n",
    "    driver.get(url)\n",
    "    \n",
    "    car_image_el = driver.find_elements_by_css_selector('td.slide>a')\n",
    "    car_name_el  = driver.find_elements_by_css_selector('td[valign=\"top\"]>a')\n",
    "    \n",
    "    for image,name in zip(car_image_el,car_name_el):\n",
    "        "
   ]
  },
  {
   "cell_type": "code",
   "execution_count": null,
   "id": "ca118a08",
   "metadata": {},
   "outputs": [],
   "source": []
  },
  {
   "cell_type": "code",
   "execution_count": null,
   "id": "a6c7f506",
   "metadata": {},
   "outputs": [],
   "source": []
  },
  {
   "cell_type": "code",
   "execution_count": null,
   "id": "f953d137",
   "metadata": {},
   "outputs": [],
   "source": [
    "driver = webdriver.Edge()\n",
    "\n",
    "driver.get('https://trailhead.salesforce.com/trailblazer-community/groups/0F9300000001sX6CAI?sort=LAST_MODIFIED_DATE_DESC&tab=members')\n",
    "while True:\n",
    "    try:\n",
    "        button = driver.find_element_by_xpath('//div[@slot=\"pagination\"]/tbc-button/tbc-tds-theme-provider/slot/tbc-tds-button/button')\n",
    "        button.click()\n",
    "        time.sleep(3)\n",
    "    except:\n",
    "        break\n",
    "\n",
    "elem = driver.find_elements_by_xpath('//slot/div[@class=\"group-member-list\"]/div[@class=\"slds-p-vertical_xx-small group-member-list__actor\"]/tbc-actor-item/tbc-media/div/div[@class=\"slds-media__body\"]/slot/div/a')\n",
    "\n",
    "master_url = []\n",
    "for link in elem:\n",
    "    url_to_visit = link.get_attribute('href')\n",
    "    master_url.append(url_to_visit)\n",
    "    \n",
    "\n",
    "\n",
    "\n",
    "    "
   ]
  },
  {
   "cell_type": "code",
   "execution_count": null,
   "id": "8afcea19",
   "metadata": {},
   "outputs": [],
   "source": [
    "len(master_url)"
   ]
  },
  {
   "cell_type": "code",
   "execution_count": null,
   "id": "61e387bb",
   "metadata": {},
   "outputs": [],
   "source": []
  },
  {
   "cell_type": "code",
   "execution_count": null,
   "id": "004679fb",
   "metadata": {
    "scrolled": true
   },
   "outputs": [],
   "source": [
    "driver = webdriver.Edge()\n",
    "\n",
    "driver.get('https://www.atsu.edu/faculty-staff-profiles/')\n",
    "\n",
    "cl = WebDriverWait(driver,10).until(EC.presence_of_element_located((By.XPATH, '//div[@id=\"directory-nav-tabs\"]/ul/li/a')))\n",
    "cl.click()\n",
    "time.sleep(5)\n",
    "el = WebDriverWait(driver,10).until(EC.presence_of_all_elements_located((By.CSS_SELECTOR,'div.directory-items>div')))\n",
    "for i in el:\n",
    "    i.click()\n",
    "    time.sleep(2)"
   ]
  },
  {
   "cell_type": "markdown",
   "id": "ed834a3b",
   "metadata": {},
   "source": [
    "# Scraping Project"
   ]
  },
  {
   "cell_type": "markdown",
   "id": "3d91ffe7",
   "metadata": {},
   "source": [
    "### Scraping businessname, address,phone,website"
   ]
  },
  {
   "cell_type": "code",
   "execution_count": 38,
   "id": "f03267f4",
   "metadata": {},
   "outputs": [],
   "source": [
    "from csv import writer"
   ]
  },
  {
   "cell_type": "code",
   "execution_count": 39,
   "id": "12204dc3",
   "metadata": {
    "scrolled": true
   },
   "outputs": [
    {
     "name": "stdout",
     "output_type": "stream",
     "text": [
      "Currently scraping:  Auto Stop\n",
      "Currently scraping:  Express Mobile Mechanics & Auto Electricians\n",
      "Currently scraping:  Traralgon 4WD Centre\n",
      "Currently scraping:  SG Off Road\n",
      "Currently scraping:  Repco Authorised Service\n",
      "Currently scraping:  Southey's Mechanical Repairs\n",
      "Currently scraping:  Odin Auto Repairs\n",
      "Currently scraping:  Moore's Auto Electrical & Mechanical Pty Ltd\n",
      "Currently scraping:  SP Automotive\n",
      "Currently scraping:  Sol's Garage\n",
      "Currently scraping:  B & S Automatics\n",
      "Currently scraping:  Orange Auto Repairs\n",
      "Currently scraping:  Frank's Mobile Mechanic\n",
      "Currently scraping:  TM Mechanical And Auto Electrical\n",
      "Currently scraping:  Mackey Electrical & Mechanical Pty Ltd\n",
      "Currently scraping:  Mallacoota Automotive & Towing\n",
      "Currently scraping:  Vince Williams Mechanical Repairs\n",
      "Currently scraping:  Bridgestone Select\n",
      "Currently scraping:  BestDrive Artarmon\n",
      "Currently scraping:  1st Choice Mechanical Repairs\n",
      "Currently scraping:  Auto Express Service Centre & Mobile Mechanics\n",
      "Currently scraping:  Midcoast Mobile Servicing\n",
      "Currently scraping:  Noel Barr Toyota\n",
      "Currently scraping:  Treg Smith Auto's Pty Ltd\n",
      "Currently scraping:  Bowen Hills Exhaust & Car Care\n",
      "Currently scraping:  Accelerate Automotive\n",
      "Currently scraping:  Vince Williams Mechanical Repair\n",
      "Currently scraping:  Silver Spanner Mechanics\n",
      "Currently scraping:  Prodyno\n",
      "Currently scraping:  Jose St Auto Centre\n",
      "Currently scraping:  Carite Auto Repairs\n",
      "Currently scraping:  Rudi's Auto Service\n",
      "Currently scraping:  South Coast Auto Services\n",
      "Currently scraping:  Blue Ribbon Motors\n",
      "Currently scraping:  All Four X 4 Service Centre\n"
     ]
    }
   ],
   "source": [
    "driver = webdriver.Edge()\n",
    "driver.get('https://www.yellowpages.com.au/search/listings?clue=auto+mechanics&pageNumber=1')\n",
    "\n",
    "el = driver.find_elements_by_css_selector('div.Box__Div-sc-dws99b-0.iOfhmk.MuiPaper-root.MuiCard-root.MuiPaper-elevation1.MuiPaper-rounded')\n",
    "\n",
    "websites = []\n",
    "with open('auto_mechanics.csv','w') as file:\n",
    "    writer_file = writer(file)\n",
    "    header = ['Business Name','Address','Phone','Website']\n",
    "    writer_file.writerow(header)   \n",
    "    for i in el[1:]:\n",
    " \n",
    "        name_el = i.find_element_by_css_selector('div.Box__Div-sc-dws99b-0.dAyAhR > div.Box__Div-sc-dws99b-0.jxCSTY > div.Box__Div-sc-dws99b-0.fYIHHU > a > h3')\n",
    "        nam_tex = name_el.text\n",
    "        print('Currently scraping: ',nam_tex)\n",
    "        \n",
    "        try:\n",
    "            address_el = i.find_element_by_css_selector('div.MuiCollapse-container.MuiCollapse-entered > div > div > div > div.Box__Div-sc-dws99b-0.dAhoQB > div.Box__Div-sc-dws99b-0.cdNnEE > div > a > p')\n",
    "            ad_tex = address_el.text\n",
    "        except:\n",
    "            address_el = i.find_element_by_css_selector('div.Box__Div-sc-dws99b-0.dAyAhR > div.Box__Div-sc-dws99b-0.jxCSTY > div.Box__Div-sc-dws99b-0.fYIHHU > div > p')\n",
    "            ad_tex = address_el.text\n",
    "\n",
    "        ph_el = i.find_element_by_css_selector('div.MuiCollapse-container.MuiCollapse-entered > div > div > div > div.Box__Div-sc-dws99b-0.hnXqeF > div > div:nth-child(1) > div.Box__Div-sc-dws99b-0.drWGzL > button > span.MuiButton-label')\n",
    "        ph_tex = ph_el.text\n",
    "        \n",
    "        try:\n",
    "            web_el = i.find_element_by_css_selector('div.MuiCollapse-container.MuiCollapse-entered > div > div > div > div.Box__Div-sc-dws99b-0.hnXqeF > div > div:nth-child(2) > a')\n",
    "            web_tex = web_el.get_attribute('href')\n",
    "            websites.append(web_tex)\n",
    "        except:\n",
    "            web_tex = 'NA'\n",
    "            websites.append(web_tex)\n",
    "        \n",
    "            \n",
    "        lis = [nam_tex,ad_tex,ph_tex,web_tex]\n",
    "        \n",
    "        writer_file.writerow(lis)\n",
    "    "
   ]
  },
  {
   "cell_type": "code",
   "execution_count": 40,
   "id": "6b3cf710",
   "metadata": {},
   "outputs": [
    {
     "data": {
      "text/plain": [
       "35"
      ]
     },
     "execution_count": 40,
     "metadata": {},
     "output_type": "execute_result"
    }
   ],
   "source": [
    "len(websites)"
   ]
  },
  {
   "cell_type": "markdown",
   "id": "3bf26bbe",
   "metadata": {},
   "source": [
    "### Scraping all the emails of above businesses"
   ]
  },
  {
   "cell_type": "code",
   "execution_count": 41,
   "id": "7090a5d2",
   "metadata": {
    "scrolled": true
   },
   "outputs": [
    {
     "name": "stdout",
     "output_type": "stream",
     "text": [
      "scraping: http://www.autostop.com.au/\n",
      "scraping: http://www.expressmobilemechanics.com.au/\n",
      "scraping: http://www.expressmobilemechanics.com.au/contact\n",
      "scraping: http://www.expressmobilemechanics.com.au/contact-us\n",
      "No email found\n",
      "scraping: https://traralgon4wd.com.au/\n",
      "scraping: https://sgoffroad.com.au/\n",
      "scraping: https://sgoffroad.com.au/contact\n",
      "scraping: https://sgoffroad.com.au/contact-us\n",
      "No email found\n",
      "scraping: http://www.portersmechanical.com.au/\n",
      "scraping: http://www.portersmechanical.com.au/contact\n",
      "scraping: http://www.portersmechanical.com.au/contact-us\n",
      "No email found\n",
      "scraping: http://www.southeysmechanicalrepairs.repcoservice.net/\n",
      "scraping: http://www.southeysmechanicalrepairs.repcoservice.net/contact\n",
      "scraping: http://www.southeysmechanicalrepairs.repcoservice.net/contact-us\n",
      "No email found\n",
      "scraping: http://www.odinautoparts.com.au/\n",
      "scraping: http://www.odinautoparts.com.au/contact\n",
      "scraping: http://www.odinautoparts.com.au/contact-us\n",
      "No email found\n",
      "scraping: http://www.mooresauto.com.au/\n",
      "scraping: http://www.mooresauto.com.au/contact\n",
      "scraping: http://www.mooresauto.com.au/contact-us\n",
      "No email found\n",
      "scraping: http://spautomotive.com.au/\n",
      "scraping: http://spautomotive.com.au/contact\n",
      "scraping: http://spautomotive.com.au/contact-us\n",
      "No email found\n",
      "scraping: https://sols-garage.business.site/\n",
      "scraping: https://sols-garage.business.site/contact\n",
      "scraping: https://sols-garage.business.site/contact-us\n",
      "No email found\n",
      "scraping: NA\n",
      "scraping: /contact\n",
      "scraping: /contact-us\n",
      "No email found\n",
      "scraping: NA\n",
      "scraping: /contact\n",
      "scraping: /contact-us\n",
      "No email found\n",
      "scraping: NA\n",
      "scraping: /contact\n",
      "scraping: /contact-us\n",
      "No email found\n",
      "scraping: NA\n",
      "scraping: /contact\n",
      "scraping: /contact-us\n",
      "No email found\n",
      "scraping: http://www.mackeyelectrical.com.au/\n",
      "scraping: http://www.mackeyelectrical.com.au/contact\n",
      "scraping: NA\n",
      "scraping: /contact\n",
      "scraping: /contact-us\n",
      "No email found\n",
      "scraping: http://www.vincesworkshop.com.au/\n",
      "scraping: https://www.bridgestonetyres.com.au/frankston\n",
      "scraping: https://www.bridgestonetyres.com.au/contact\n",
      "scraping: https://www.bridgestonetyres.com.au/contact-us\n",
      "No email found\n",
      "scraping: https://www.bestdrive.com.au/\n",
      "scraping: http://www.wollongongmechanical.com.au/\n",
      "scraping: http://www.wollongongmechanical.com.au/contact\n",
      "scraping: http://www.autoexpress.net.au/\n",
      "scraping: https://www.midcoast4wdcentre.com.au/\n",
      "scraping: http://www.noelbarrtoyota.com.au/\n",
      "scraping: http://www.noelbarrtoyota.com.au/contact\n",
      "scraping: http://www.noelbarrtoyota.com.au/contact-us\n",
      "No email found\n",
      "scraping: http://www.tregsmithsautos.com.au/\n",
      "scraping: http://www.tregsmithsautos.com.au/contact\n",
      "scraping: http://www.tregsmithsautos.com.au/contact-us\n",
      "No email found\n",
      "scraping: http://www.bhecc.com.au/\n",
      "scraping: http://www.accelerateauto.com/\n",
      "scraping: http://www.accelerateauto.com/contact\n",
      "scraping: http://www.accelerateauto.com/contact-us\n",
      "No email found\n",
      "scraping: https://www.vincesworkshop.com.au/\n",
      "scraping: http://www.silverspannermechanics.com.au/\n",
      "scraping: http://www.prodynoqld.com.au/\n",
      "scraping: http://www.prodynoqld.com.au/contact\n",
      "scraping: http://www.prodynoqld.com.au/contact-us\n",
      "No email found\n",
      "scraping: http://www.josestreetauto.com.au/\n",
      "scraping: http://www.cariteautorepairs.com.au/\n",
      "scraping: https://www.rudisauto.com/\n",
      "scraping: http://www.scas.com.au/\n",
      "scraping: http://www.blueribbonmotors.com.au/\n",
      "scraping: http://www.blueribbonmotors.com.au/contact\n",
      "scraping: http://www.blueribbonmotors.com.au/contact-us\n",
      "No email found\n",
      "scraping: http://www.allfourx4.com.au/\n"
     ]
    }
   ],
   "source": [
    "driver = webdriver.Edge()\n",
    "mails = []        \n",
    "for url in websites:\n",
    "    \n",
    "   \n",
    "    try:\n",
    "        try:\n",
    "            print('scraping:', url)\n",
    "            driver.get(url)\n",
    "            em_el = driver.find_element_by_css_selector('a[href^=\"mailto\"]')\n",
    "            tex = em_el.get_attribute('href')\n",
    "            mails.append(tex)\n",
    "            time.sleep(3)\n",
    "\n",
    "        except:\n",
    "            try:\n",
    "                print('scraping:', urljoin(url,'/contact'))\n",
    "                driver.get(urljoin(url,'/contact'))\n",
    "                em_el = driver.find_element_by_css_selector('a[href^=\"mailto\"]')\n",
    "                tex = em_el.get_attribute('href')\n",
    "                mails.append(tex)\n",
    "\n",
    "            except:\n",
    "                print('scraping:', urljoin(url,'/contact-us'))\n",
    "                driver.get(urljoin(url,'/contact-us'))\n",
    "                em_el = driver.find_element_by_css_selector('a[href^=\"mailto\"]')\n",
    "                tex = em_el.get_attribute('href')\n",
    "                mails.append(tex)\n",
    "\n",
    "    except:\n",
    "        print('No email found')\n",
    "        tex = \"NA\"\n",
    "        mails.append(tex)\n"
   ]
  },
  {
   "cell_type": "code",
   "execution_count": 42,
   "id": "805d6dc2",
   "metadata": {},
   "outputs": [
    {
     "data": {
      "text/plain": [
       "35"
      ]
     },
     "execution_count": 42,
     "metadata": {},
     "output_type": "execute_result"
    }
   ],
   "source": [
    "len(mails)"
   ]
  },
  {
   "cell_type": "markdown",
   "id": "554d015e",
   "metadata": {},
   "source": [
    "### writing the emails into the previosuly created csv"
   ]
  },
  {
   "cell_type": "code",
   "execution_count": 43,
   "id": "219c78a7",
   "metadata": {},
   "outputs": [],
   "source": [
    "df = pd.read_csv('auto_mechanics.csv')"
   ]
  },
  {
   "cell_type": "code",
   "execution_count": 44,
   "id": "67d9be95",
   "metadata": {},
   "outputs": [
    {
     "data": {
      "text/html": [
       "<div>\n",
       "<style scoped>\n",
       "    .dataframe tbody tr th:only-of-type {\n",
       "        vertical-align: middle;\n",
       "    }\n",
       "\n",
       "    .dataframe tbody tr th {\n",
       "        vertical-align: top;\n",
       "    }\n",
       "\n",
       "    .dataframe thead th {\n",
       "        text-align: right;\n",
       "    }\n",
       "</style>\n",
       "<table border=\"1\" class=\"dataframe\">\n",
       "  <thead>\n",
       "    <tr style=\"text-align: right;\">\n",
       "      <th></th>\n",
       "      <th>Business Name</th>\n",
       "      <th>Address</th>\n",
       "      <th>Phone</th>\n",
       "      <th>Website</th>\n",
       "    </tr>\n",
       "  </thead>\n",
       "  <tbody>\n",
       "    <tr>\n",
       "      <th>0</th>\n",
       "      <td>Auto Stop</td>\n",
       "      <td>Mechanics &amp; Motor Engineers, Camp Hill, QLD 4152</td>\n",
       "      <td>(07) 3027 1523</td>\n",
       "      <td>http://www.autostop.com.au/</td>\n",
       "    </tr>\n",
       "    <tr>\n",
       "      <th>1</th>\n",
       "      <td>Express Mobile Mechanics &amp; Auto Electricians</td>\n",
       "      <td>Mechanics &amp; Motor Engineers, South Melbourne, VIC 3205</td>\n",
       "      <td>1300 304 590</td>\n",
       "      <td>http://www.expressmobilemechanics.com.au/</td>\n",
       "    </tr>\n",
       "    <tr>\n",
       "      <th>2</th>\n",
       "      <td>Traralgon 4WD Centre</td>\n",
       "      <td>150 Argyle Street, Traralgon, VIC, 3844</td>\n",
       "      <td>(03) 5176 0102</td>\n",
       "      <td>https://traralgon4wd.com.au/</td>\n",
       "    </tr>\n",
       "    <tr>\n",
       "      <th>3</th>\n",
       "      <td>SG Off Road</td>\n",
       "      <td>2 Tilson Ct, Leongatha, VIC, 3953</td>\n",
       "      <td>(03) 5662 5554</td>\n",
       "      <td>https://sgoffroad.com.au/</td>\n",
       "    </tr>\n",
       "    <tr>\n",
       "      <th>4</th>\n",
       "      <td>Repco Authorised Service</td>\n",
       "      <td>34 Beauchamp St, Kyneton, VIC, 3444</td>\n",
       "      <td>(03) 5422 3016</td>\n",
       "      <td>http://www.portersmechanical.com.au/</td>\n",
       "    </tr>\n",
       "  </tbody>\n",
       "</table>\n",
       "</div>"
      ],
      "text/plain": [
       "                                  Business Name                                                 Address           Phone                                    Website\n",
       "0  Auto Stop                                     Mechanics & Motor Engineers, Camp Hill, QLD 4152        (07) 3027 1523  http://www.autostop.com.au/              \n",
       "1  Express Mobile Mechanics & Auto Electricians  Mechanics & Motor Engineers, South Melbourne, VIC 3205  1300 304 590    http://www.expressmobilemechanics.com.au/\n",
       "2  Traralgon 4WD Centre                          150 Argyle Street, Traralgon, VIC, 3844                 (03) 5176 0102  https://traralgon4wd.com.au/             \n",
       "3  SG Off Road                                   2 Tilson Ct, Leongatha, VIC, 3953                       (03) 5662 5554  https://sgoffroad.com.au/                \n",
       "4  Repco Authorised Service                      34 Beauchamp St, Kyneton, VIC, 3444                     (03) 5422 3016  http://www.portersmechanical.com.au/     "
      ]
     },
     "execution_count": 44,
     "metadata": {},
     "output_type": "execute_result"
    }
   ],
   "source": [
    "df.head()"
   ]
  },
  {
   "cell_type": "code",
   "execution_count": 45,
   "id": "d30aaea9",
   "metadata": {},
   "outputs": [],
   "source": [
    "df['Email'] = mails"
   ]
  },
  {
   "cell_type": "code",
   "execution_count": 46,
   "id": "3708e5d2",
   "metadata": {},
   "outputs": [
    {
     "data": {
      "text/html": [
       "<div>\n",
       "<style scoped>\n",
       "    .dataframe tbody tr th:only-of-type {\n",
       "        vertical-align: middle;\n",
       "    }\n",
       "\n",
       "    .dataframe tbody tr th {\n",
       "        vertical-align: top;\n",
       "    }\n",
       "\n",
       "    .dataframe thead th {\n",
       "        text-align: right;\n",
       "    }\n",
       "</style>\n",
       "<table border=\"1\" class=\"dataframe\">\n",
       "  <thead>\n",
       "    <tr style=\"text-align: right;\">\n",
       "      <th></th>\n",
       "      <th>Business Name</th>\n",
       "      <th>Address</th>\n",
       "      <th>Phone</th>\n",
       "      <th>Website</th>\n",
       "      <th>Email</th>\n",
       "    </tr>\n",
       "  </thead>\n",
       "  <tbody>\n",
       "    <tr>\n",
       "      <th>0</th>\n",
       "      <td>Auto Stop</td>\n",
       "      <td>Mechanics &amp; Motor Engineers, Camp Hill, QLD 4152</td>\n",
       "      <td>(07) 3027 1523</td>\n",
       "      <td>http://www.autostop.com.au/</td>\n",
       "      <td>mailto:autostop@autostop.com.au</td>\n",
       "    </tr>\n",
       "    <tr>\n",
       "      <th>1</th>\n",
       "      <td>Express Mobile Mechanics &amp; Auto Electricians</td>\n",
       "      <td>Mechanics &amp; Motor Engineers, South Melbourne, VIC 3205</td>\n",
       "      <td>1300 304 590</td>\n",
       "      <td>http://www.expressmobilemechanics.com.au/</td>\n",
       "      <td>NA</td>\n",
       "    </tr>\n",
       "    <tr>\n",
       "      <th>2</th>\n",
       "      <td>Traralgon 4WD Centre</td>\n",
       "      <td>150 Argyle Street, Traralgon, VIC, 3844</td>\n",
       "      <td>(03) 5176 0102</td>\n",
       "      <td>https://traralgon4wd.com.au/</td>\n",
       "      <td>mailto:info@traralgon4wd.com.au</td>\n",
       "    </tr>\n",
       "    <tr>\n",
       "      <th>3</th>\n",
       "      <td>SG Off Road</td>\n",
       "      <td>2 Tilson Ct, Leongatha, VIC, 3953</td>\n",
       "      <td>(03) 5662 5554</td>\n",
       "      <td>https://sgoffroad.com.au/</td>\n",
       "      <td>NA</td>\n",
       "    </tr>\n",
       "    <tr>\n",
       "      <th>4</th>\n",
       "      <td>Repco Authorised Service</td>\n",
       "      <td>34 Beauchamp St, Kyneton, VIC, 3444</td>\n",
       "      <td>(03) 5422 3016</td>\n",
       "      <td>http://www.portersmechanical.com.au/</td>\n",
       "      <td>NA</td>\n",
       "    </tr>\n",
       "  </tbody>\n",
       "</table>\n",
       "</div>"
      ],
      "text/plain": [
       "                                  Business Name                                                 Address           Phone                                    Website                            Email\n",
       "0  Auto Stop                                     Mechanics & Motor Engineers, Camp Hill, QLD 4152        (07) 3027 1523  http://www.autostop.com.au/                mailto:autostop@autostop.com.au\n",
       "1  Express Mobile Mechanics & Auto Electricians  Mechanics & Motor Engineers, South Melbourne, VIC 3205  1300 304 590    http://www.expressmobilemechanics.com.au/  NA                             \n",
       "2  Traralgon 4WD Centre                          150 Argyle Street, Traralgon, VIC, 3844                 (03) 5176 0102  https://traralgon4wd.com.au/               mailto:info@traralgon4wd.com.au\n",
       "3  SG Off Road                                   2 Tilson Ct, Leongatha, VIC, 3953                       (03) 5662 5554  https://sgoffroad.com.au/                  NA                             \n",
       "4  Repco Authorised Service                      34 Beauchamp St, Kyneton, VIC, 3444                     (03) 5422 3016  http://www.portersmechanical.com.au/       NA                             "
      ]
     },
     "execution_count": 46,
     "metadata": {},
     "output_type": "execute_result"
    }
   ],
   "source": [
    "df.head()"
   ]
  },
  {
   "cell_type": "code",
   "execution_count": 49,
   "id": "72d0fedf",
   "metadata": {},
   "outputs": [],
   "source": [
    "df.to_csv('auto_mechanics_new.csv')"
   ]
  },
  {
   "cell_type": "code",
   "execution_count": null,
   "id": "4d649ef8",
   "metadata": {},
   "outputs": [],
   "source": []
  },
  {
   "cell_type": "code",
   "execution_count": null,
   "id": "3d35d1c1",
   "metadata": {},
   "outputs": [],
   "source": []
  },
  {
   "cell_type": "code",
   "execution_count": 85,
   "id": "e7554146",
   "metadata": {},
   "outputs": [
    {
     "ename": "NoSuchElementException",
     "evalue": "Message: no such element: Unable to locate element: {\"method\":\"css selector\",\"selector\":\"div.border-color--default__09f24__NPAKY>div.container__09f24__mpR8_.hoverable__09f24__wQ_on.border-color--default__09f24__NPAKY > div > div > div.arrange-unit__09f24__rqHTg.arrange-unit-fill__09f24__CUubG.border-color--default__09f24__NPAKY > div:nth-child(1) > div:nth-child(1) > div:nth-child(1) > div > div > h3 > span > a\"}\n  (Session info: MicrosoftEdge=104.0.1293.63)\nStacktrace:\nBacktrace:\n\tMicrosoft::Applications::Events::EventProperties::unpack [0x00007FF707414182+26370]\n\tMicrosoft::Applications::Events::GUID_t::GUID_t [0x00007FF7073694E2+339106]\n\tOrdinal0 [0x00007FF706EF7821+620577]\n\tOrdinal0 [0x00007FF706F33E41+867905]\n\tOrdinal0 [0x00007FF706F34053+868435]\n\tOrdinal0 [0x00007FF706F27E1C+818716]\n\tOrdinal0 [0x00007FF706F4F48F+980111]\n\tOrdinal0 [0x00007FF706F27D44+818500]\n\tOrdinal0 [0x00007FF706F4F750+980816]\n\tOrdinal0 [0x00007FF706F6358F+1062287]\n\tOrdinal0 [0x00007FF706F4F263+979555]\n\tOrdinal0 [0x00007FF706F26070+811120]\n\tOrdinal0 [0x00007FF706F27668+816744]\n\tMicrosoft::Applications::Events::EventProperty::EventProperty [0x00007FF7071C2998+128088]\n\tMicrosoft::Applications::Events::EventProperty::EventProperty [0x00007FF7071AC2EB+36267]\n\tMicrosoft::Applications::Events::EventProperty::EventProperty [0x00007FF7071AF30C+48588]\n\tMicrosoft::Applications::Events::EventProperty::to_string [0x00007FF707004393+22115]\n\tMicrosoft::Applications::Events::GUID_t::GUID_t [0x00007FF707370B0B+369355]\n\tMicrosoft::Applications::Events::GUID_t::GUID_t [0x00007FF7073759A4+389476]\n\tMicrosoft::Applications::Events::GUID_t::GUID_t [0x00007FF707375AFD+389821]\n\tMicrosoft::Applications::Events::time_ticks_t::time_ticks_t [0x00007FF707380589+40761]\n\tBaseThreadInitThunk [0x00007FFD09A654E0+16]\n\tRtlUserThreadStart [0x00007FFD0B90485B+43]\n",
     "output_type": "error",
     "traceback": [
      "\u001b[1;31m---------------------------------------------------------------------------\u001b[0m",
      "\u001b[1;31mNoSuchElementException\u001b[0m                    Traceback (most recent call last)",
      "\u001b[1;32m~\\AppData\\Local\\Temp/ipykernel_19764/1583891911.py\u001b[0m in \u001b[0;36m<module>\u001b[1;34m\u001b[0m\n\u001b[0;32m     11\u001b[0m     \u001b[1;32mfor\u001b[0m \u001b[0mi\u001b[0m \u001b[1;32min\u001b[0m \u001b[0mel\u001b[0m\u001b[1;33m[\u001b[0m\u001b[1;36m8\u001b[0m\u001b[1;33m:\u001b[0m\u001b[1;36m17\u001b[0m\u001b[1;33m]\u001b[0m\u001b[1;33m:\u001b[0m\u001b[1;33m\u001b[0m\u001b[1;33m\u001b[0m\u001b[0m\n\u001b[0;32m     12\u001b[0m \u001b[1;33m\u001b[0m\u001b[0m\n\u001b[1;32m---> 13\u001b[1;33m         \u001b[0mname_el\u001b[0m \u001b[1;33m=\u001b[0m \u001b[0mi\u001b[0m\u001b[1;33m.\u001b[0m\u001b[0mfind_element_by_css_selector\u001b[0m\u001b[1;33m(\u001b[0m\u001b[1;34m'div.border-color--default__09f24__NPAKY>div.container__09f24__mpR8_.hoverable__09f24__wQ_on.border-color--default__09f24__NPAKY > div > div > div.arrange-unit__09f24__rqHTg.arrange-unit-fill__09f24__CUubG.border-color--default__09f24__NPAKY > div:nth-child(1) > div:nth-child(1) > div:nth-child(1) > div > div > h3 > span > a'\u001b[0m\u001b[1;33m)\u001b[0m\u001b[1;33m\u001b[0m\u001b[1;33m\u001b[0m\u001b[0m\n\u001b[0m\u001b[0;32m     14\u001b[0m         \u001b[0mnam_tex\u001b[0m \u001b[1;33m=\u001b[0m \u001b[0mname_el\u001b[0m\u001b[1;33m.\u001b[0m\u001b[0mtext\u001b[0m\u001b[1;33m\u001b[0m\u001b[1;33m\u001b[0m\u001b[0m\n\u001b[0;32m     15\u001b[0m \u001b[1;33m\u001b[0m\u001b[0m\n",
      "\u001b[1;32m~\\anaconda3\\lib\\site-packages\\selenium\\webdriver\\remote\\webelement.py\u001b[0m in \u001b[0;36mfind_element_by_css_selector\u001b[1;34m(self, css_selector)\u001b[0m\n\u001b[0;32m    540\u001b[0m             \u001b[0mDeprecationWarning\u001b[0m\u001b[1;33m,\u001b[0m\u001b[1;33m\u001b[0m\u001b[1;33m\u001b[0m\u001b[0m\n\u001b[0;32m    541\u001b[0m             stacklevel=2)\n\u001b[1;32m--> 542\u001b[1;33m         \u001b[1;32mreturn\u001b[0m \u001b[0mself\u001b[0m\u001b[1;33m.\u001b[0m\u001b[0mfind_element\u001b[0m\u001b[1;33m(\u001b[0m\u001b[0mby\u001b[0m\u001b[1;33m=\u001b[0m\u001b[0mBy\u001b[0m\u001b[1;33m.\u001b[0m\u001b[0mCSS_SELECTOR\u001b[0m\u001b[1;33m,\u001b[0m \u001b[0mvalue\u001b[0m\u001b[1;33m=\u001b[0m\u001b[0mcss_selector\u001b[0m\u001b[1;33m)\u001b[0m\u001b[1;33m\u001b[0m\u001b[1;33m\u001b[0m\u001b[0m\n\u001b[0m\u001b[0;32m    543\u001b[0m \u001b[1;33m\u001b[0m\u001b[0m\n\u001b[0;32m    544\u001b[0m     \u001b[1;32mdef\u001b[0m \u001b[0mfind_elements_by_css_selector\u001b[0m\u001b[1;33m(\u001b[0m\u001b[0mself\u001b[0m\u001b[1;33m,\u001b[0m \u001b[0mcss_selector\u001b[0m\u001b[1;33m)\u001b[0m\u001b[1;33m:\u001b[0m\u001b[1;33m\u001b[0m\u001b[1;33m\u001b[0m\u001b[0m\n",
      "\u001b[1;32m~\\anaconda3\\lib\\site-packages\\selenium\\webdriver\\remote\\webelement.py\u001b[0m in \u001b[0;36mfind_element\u001b[1;34m(self, by, value)\u001b[0m\n\u001b[0;32m    794\u001b[0m             \u001b[0mvalue\u001b[0m \u001b[1;33m=\u001b[0m \u001b[1;34m'[name=\"%s\"]'\u001b[0m \u001b[1;33m%\u001b[0m \u001b[0mvalue\u001b[0m\u001b[1;33m\u001b[0m\u001b[1;33m\u001b[0m\u001b[0m\n\u001b[0;32m    795\u001b[0m \u001b[1;33m\u001b[0m\u001b[0m\n\u001b[1;32m--> 796\u001b[1;33m         return self._execute(Command.FIND_CHILD_ELEMENT,\n\u001b[0m\u001b[0;32m    797\u001b[0m                              {\"using\": by, \"value\": value})['value']\n\u001b[0;32m    798\u001b[0m \u001b[1;33m\u001b[0m\u001b[0m\n",
      "\u001b[1;32m~\\anaconda3\\lib\\site-packages\\selenium\\webdriver\\remote\\webelement.py\u001b[0m in \u001b[0;36m_execute\u001b[1;34m(self, command, params)\u001b[0m\n\u001b[0;32m    771\u001b[0m             \u001b[0mparams\u001b[0m \u001b[1;33m=\u001b[0m \u001b[1;33m{\u001b[0m\u001b[1;33m}\u001b[0m\u001b[1;33m\u001b[0m\u001b[1;33m\u001b[0m\u001b[0m\n\u001b[0;32m    772\u001b[0m         \u001b[0mparams\u001b[0m\u001b[1;33m[\u001b[0m\u001b[1;34m'id'\u001b[0m\u001b[1;33m]\u001b[0m \u001b[1;33m=\u001b[0m \u001b[0mself\u001b[0m\u001b[1;33m.\u001b[0m\u001b[0m_id\u001b[0m\u001b[1;33m\u001b[0m\u001b[1;33m\u001b[0m\u001b[0m\n\u001b[1;32m--> 773\u001b[1;33m         \u001b[1;32mreturn\u001b[0m \u001b[0mself\u001b[0m\u001b[1;33m.\u001b[0m\u001b[0m_parent\u001b[0m\u001b[1;33m.\u001b[0m\u001b[0mexecute\u001b[0m\u001b[1;33m(\u001b[0m\u001b[0mcommand\u001b[0m\u001b[1;33m,\u001b[0m \u001b[0mparams\u001b[0m\u001b[1;33m)\u001b[0m\u001b[1;33m\u001b[0m\u001b[1;33m\u001b[0m\u001b[0m\n\u001b[0m\u001b[0;32m    774\u001b[0m \u001b[1;33m\u001b[0m\u001b[0m\n\u001b[0;32m    775\u001b[0m     \u001b[1;32mdef\u001b[0m \u001b[0mfind_element\u001b[0m\u001b[1;33m(\u001b[0m\u001b[0mself\u001b[0m\u001b[1;33m,\u001b[0m \u001b[0mby\u001b[0m\u001b[1;33m=\u001b[0m\u001b[0mBy\u001b[0m\u001b[1;33m.\u001b[0m\u001b[0mID\u001b[0m\u001b[1;33m,\u001b[0m \u001b[0mvalue\u001b[0m\u001b[1;33m=\u001b[0m\u001b[1;32mNone\u001b[0m\u001b[1;33m)\u001b[0m\u001b[1;33m:\u001b[0m\u001b[1;33m\u001b[0m\u001b[1;33m\u001b[0m\u001b[0m\n",
      "\u001b[1;32m~\\anaconda3\\lib\\site-packages\\selenium\\webdriver\\remote\\webdriver.py\u001b[0m in \u001b[0;36mexecute\u001b[1;34m(self, driver_command, params)\u001b[0m\n\u001b[0;32m    428\u001b[0m         \u001b[0mresponse\u001b[0m \u001b[1;33m=\u001b[0m \u001b[0mself\u001b[0m\u001b[1;33m.\u001b[0m\u001b[0mcommand_executor\u001b[0m\u001b[1;33m.\u001b[0m\u001b[0mexecute\u001b[0m\u001b[1;33m(\u001b[0m\u001b[0mdriver_command\u001b[0m\u001b[1;33m,\u001b[0m \u001b[0mparams\u001b[0m\u001b[1;33m)\u001b[0m\u001b[1;33m\u001b[0m\u001b[1;33m\u001b[0m\u001b[0m\n\u001b[0;32m    429\u001b[0m         \u001b[1;32mif\u001b[0m \u001b[0mresponse\u001b[0m\u001b[1;33m:\u001b[0m\u001b[1;33m\u001b[0m\u001b[1;33m\u001b[0m\u001b[0m\n\u001b[1;32m--> 430\u001b[1;33m             \u001b[0mself\u001b[0m\u001b[1;33m.\u001b[0m\u001b[0merror_handler\u001b[0m\u001b[1;33m.\u001b[0m\u001b[0mcheck_response\u001b[0m\u001b[1;33m(\u001b[0m\u001b[0mresponse\u001b[0m\u001b[1;33m)\u001b[0m\u001b[1;33m\u001b[0m\u001b[1;33m\u001b[0m\u001b[0m\n\u001b[0m\u001b[0;32m    431\u001b[0m             response['value'] = self._unwrap_value(\n\u001b[0;32m    432\u001b[0m                 response.get('value', None))\n",
      "\u001b[1;32m~\\anaconda3\\lib\\site-packages\\selenium\\webdriver\\remote\\errorhandler.py\u001b[0m in \u001b[0;36mcheck_response\u001b[1;34m(self, response)\u001b[0m\n\u001b[0;32m    245\u001b[0m                 \u001b[0malert_text\u001b[0m \u001b[1;33m=\u001b[0m \u001b[0mvalue\u001b[0m\u001b[1;33m[\u001b[0m\u001b[1;34m'alert'\u001b[0m\u001b[1;33m]\u001b[0m\u001b[1;33m.\u001b[0m\u001b[0mget\u001b[0m\u001b[1;33m(\u001b[0m\u001b[1;34m'text'\u001b[0m\u001b[1;33m)\u001b[0m\u001b[1;33m\u001b[0m\u001b[1;33m\u001b[0m\u001b[0m\n\u001b[0;32m    246\u001b[0m             \u001b[1;32mraise\u001b[0m \u001b[0mexception_class\u001b[0m\u001b[1;33m(\u001b[0m\u001b[0mmessage\u001b[0m\u001b[1;33m,\u001b[0m \u001b[0mscreen\u001b[0m\u001b[1;33m,\u001b[0m \u001b[0mstacktrace\u001b[0m\u001b[1;33m,\u001b[0m \u001b[0malert_text\u001b[0m\u001b[1;33m)\u001b[0m  \u001b[1;31m# type: ignore[call-arg]  # mypy is not smart enough here\u001b[0m\u001b[1;33m\u001b[0m\u001b[1;33m\u001b[0m\u001b[0m\n\u001b[1;32m--> 247\u001b[1;33m         \u001b[1;32mraise\u001b[0m \u001b[0mexception_class\u001b[0m\u001b[1;33m(\u001b[0m\u001b[0mmessage\u001b[0m\u001b[1;33m,\u001b[0m \u001b[0mscreen\u001b[0m\u001b[1;33m,\u001b[0m \u001b[0mstacktrace\u001b[0m\u001b[1;33m)\u001b[0m\u001b[1;33m\u001b[0m\u001b[1;33m\u001b[0m\u001b[0m\n\u001b[0m\u001b[0;32m    248\u001b[0m \u001b[1;33m\u001b[0m\u001b[0m\n\u001b[0;32m    249\u001b[0m     \u001b[1;32mdef\u001b[0m \u001b[0m_value_or_default\u001b[0m\u001b[1;33m(\u001b[0m\u001b[0mself\u001b[0m\u001b[1;33m,\u001b[0m \u001b[0mobj\u001b[0m\u001b[1;33m:\u001b[0m \u001b[0mMapping\u001b[0m\u001b[1;33m[\u001b[0m\u001b[0m_KT\u001b[0m\u001b[1;33m,\u001b[0m \u001b[0m_VT\u001b[0m\u001b[1;33m]\u001b[0m\u001b[1;33m,\u001b[0m \u001b[0mkey\u001b[0m\u001b[1;33m:\u001b[0m \u001b[0m_KT\u001b[0m\u001b[1;33m,\u001b[0m \u001b[0mdefault\u001b[0m\u001b[1;33m:\u001b[0m \u001b[0m_VT\u001b[0m\u001b[1;33m)\u001b[0m \u001b[1;33m->\u001b[0m \u001b[0m_VT\u001b[0m\u001b[1;33m:\u001b[0m\u001b[1;33m\u001b[0m\u001b[1;33m\u001b[0m\u001b[0m\n",
      "\u001b[1;31mNoSuchElementException\u001b[0m: Message: no such element: Unable to locate element: {\"method\":\"css selector\",\"selector\":\"div.border-color--default__09f24__NPAKY>div.container__09f24__mpR8_.hoverable__09f24__wQ_on.border-color--default__09f24__NPAKY > div > div > div.arrange-unit__09f24__rqHTg.arrange-unit-fill__09f24__CUubG.border-color--default__09f24__NPAKY > div:nth-child(1) > div:nth-child(1) > div:nth-child(1) > div > div > h3 > span > a\"}\n  (Session info: MicrosoftEdge=104.0.1293.63)\nStacktrace:\nBacktrace:\n\tMicrosoft::Applications::Events::EventProperties::unpack [0x00007FF707414182+26370]\n\tMicrosoft::Applications::Events::GUID_t::GUID_t [0x00007FF7073694E2+339106]\n\tOrdinal0 [0x00007FF706EF7821+620577]\n\tOrdinal0 [0x00007FF706F33E41+867905]\n\tOrdinal0 [0x00007FF706F34053+868435]\n\tOrdinal0 [0x00007FF706F27E1C+818716]\n\tOrdinal0 [0x00007FF706F4F48F+980111]\n\tOrdinal0 [0x00007FF706F27D44+818500]\n\tOrdinal0 [0x00007FF706F4F750+980816]\n\tOrdinal0 [0x00007FF706F6358F+1062287]\n\tOrdinal0 [0x00007FF706F4F263+979555]\n\tOrdinal0 [0x00007FF706F26070+811120]\n\tOrdinal0 [0x00007FF706F27668+816744]\n\tMicrosoft::Applications::Events::EventProperty::EventProperty [0x00007FF7071C2998+128088]\n\tMicrosoft::Applications::Events::EventProperty::EventProperty [0x00007FF7071AC2EB+36267]\n\tMicrosoft::Applications::Events::EventProperty::EventProperty [0x00007FF7071AF30C+48588]\n\tMicrosoft::Applications::Events::EventProperty::to_string [0x00007FF707004393+22115]\n\tMicrosoft::Applications::Events::GUID_t::GUID_t [0x00007FF707370B0B+369355]\n\tMicrosoft::Applications::Events::GUID_t::GUID_t [0x00007FF7073759A4+389476]\n\tMicrosoft::Applications::Events::GUID_t::GUID_t [0x00007FF707375AFD+389821]\n\tMicrosoft::Applications::Events::time_ticks_t::time_ticks_t [0x00007FF707380589+40761]\n\tBaseThreadInitThunk [0x00007FFD09A654E0+16]\n\tRtlUserThreadStart [0x00007FFD0B90485B+43]\n"
     ]
    }
   ],
   "source": [
    "driver = webdriver.Edge()\n",
    "driver.get('https://www.yelp.com/search?find_desc=pizza+restaurants&find_loc=usa')\n",
    "\n",
    "el = driver.find_elements_by_css_selector('#main-content > div > ul>li.border-color--default__09f24__NPAKY')\n",
    "\n",
    "\n",
    "with open('pizza_restaurants.csv','w') as file:\n",
    "    writer_file = writer(file)\n",
    "    header = ['Company Name','Phone','Fb url','Email']\n",
    "    writer_file.writerow(header)   \n",
    "    for i in el[8:17]:\n",
    " \n",
    "        name_el = i.find_element_by_css_selector('div.border-color--default__09f24__NPAKY>div.container__09f24__mpR8_.hoverable__09f24__wQ_on.border-color--default__09f24__NPAKY > div > div > div.arrange-unit__09f24__rqHTg.arrange-unit-fill__09f24__CUubG.border-color--default__09f24__NPAKY > div:nth-child(1) > div:nth-child(1) > div:nth-child(1) > div > div > h3 > span > a')\n",
    "        nam_tex = name_el.text\n",
    "        \n",
    "        nam_link = name_el.get_attribute('href')\n",
    "        nam_link.click()\n",
    "        \n",
    "        time.sleep(3)\n",
    "        \n",
    "        ph_el = driver.find_element_by_css_selector('section.margin-b3__09f24__l9v5d.border-color--default__09f24__NPAKY > div > div:nth-child(2) > div > div.arrange-unit__09f24__rqHTg.arrange-unit-fill__09f24__CUubG.border-color--default__09f24__NPAKY > p.css-1p9ibgf')\n",
    "        ph_tex = ph_el.text\n",
    "        \n",
    "        comp_web_el = driver.find_element_by_css_selector('section.margin-b3__09f24__l9v5d.border-color--default__09f24__NPAKY> div > div:nth-child(1) > div > div.arrange-unit__09f24__rqHTg.arrange-unit-fill__09f24__CUubG.border-color--default__09f24__NPAKY > p.css-1p9ibgf>a')\n",
    "        web_link = comp_web_el.get_attribute('href')\n",
    "        web_link.click()\n",
    "        \n",
    "        time.sleep(5)\n",
    "        url = driver.current_url\n",
    "        \n",
    "        print('Checking for fb_url')\n",
    "        \n",
    "        try:\n",
    "            try:\n",
    "                print('Now scraping:',url)\n",
    "                fb_el = driver.find_element_by_css_selector('a[href^=\"https://www.facebook.com/\"]')\n",
    "                fb_url = fb_el.get_attribute('href')\n",
    "                time.sleep(2)\n",
    "                \n",
    "            except:\n",
    "                try:\n",
    "                    print('Now checking :',urljoin(url,'/contact'))\n",
    "                    driver.get(urljoin(url,'/contact'))\n",
    "                    fb_el = driver.find_element_by_css_selector('a[href^=\"https://www.facebook.com/\"]')\n",
    "                    fb_url = fb_el.get_attribute('href')\n",
    "                    time.sleep(2)\n",
    "                   \n",
    "                    \n",
    "                except:\n",
    "                    print('Now checking:',urljoin(url,'/contact-us'))\n",
    "                    driver.get(urljoin(url,'/contact-us'))\n",
    "                    fb_el = driver.find_element_by_css_selector('a[href^=\"https://www.facebook.com/\"]')\n",
    "                    fb_url = fb_el.get_attribute('href')\n",
    "                    time.sleep(2)\n",
    "                    \n",
    "        except:\n",
    "            print('fb url not found')\n",
    "            fb_url = \"NA\"\n",
    "           \n",
    "        print('Now checking for email')\n",
    "        \n",
    "        try:\n",
    "            try:\n",
    "                print('Scraping:',url)\n",
    "                em_el = driver.find_element_by_css_selector('a[href^=\"mailto\"]')\n",
    "                email = em_el.get_attribute('href')\n",
    "                time.sleep(2)\n",
    "            except:\n",
    "                try:\n",
    "                    print('Now checking:',urljoin(url,'/contact'))\n",
    "                    driver.get(urljoin(url,'/contact'))\n",
    "                    em_el = driver.find_element_by_css_selector('a[href^=\"mailto\"]')\n",
    "                    email = em_el.get_attribute('href')\n",
    "                    time.sleep(2)\n",
    "                except:\n",
    "                    print('Now checking:',urljoin(url,'/contact-us'))\n",
    "                    driver.get(urljoin(url,'/contact-us'))\n",
    "                    em_el = driver.find_element_by_css_selector('a[href^=\"mailto\"]')\n",
    "                    email = em_el.get_attribute('href')\n",
    "            \n",
    "            \n",
    "        except:\n",
    "            print('Email Not Found')\n",
    "            email = \"NA\"\n",
    "        \n",
    "            \n",
    "        lis = [nam_tex,ph_tex,fb_url,email]\n",
    "        \n",
    "        writer_file.writerow(lis)"
   ]
  },
  {
   "cell_type": "code",
   "execution_count": 83,
   "id": "5151841f",
   "metadata": {},
   "outputs": [],
   "source": [
    "driver = webdriver.Edge()\n",
    "driver.get('https://www.yelp.com/search?find_desc=pizza+restaurants&find_loc=usa')\n",
    "\n",
    "el = driver.find_elements_by_css_selector('#main-content > div > ul>li.border-color--default__09f24__NPAKY')\n"
   ]
  },
  {
   "cell_type": "code",
   "execution_count": 80,
   "id": "08a3f1db",
   "metadata": {},
   "outputs": [
    {
     "ename": "SyntaxError",
     "evalue": "unexpected EOF while parsing (Temp/ipykernel_19764/931985298.py, line 1)",
     "output_type": "error",
     "traceback": [
      "\u001b[1;36m  File \u001b[1;32m\"C:\\Users\\prana\\AppData\\Local\\Temp/ipykernel_19764/931985298.py\"\u001b[1;36m, line \u001b[1;32m1\u001b[0m\n\u001b[1;33m    name_el = WebDriverWait(driver,10).until(EC.presence_of_element_located((By.CSS_SELECTOR,'li.border-color--default__09f24__NPAKY>'))\u001b[0m\n\u001b[1;37m                                                                                                                                        ^\u001b[0m\n\u001b[1;31mSyntaxError\u001b[0m\u001b[1;31m:\u001b[0m unexpected EOF while parsing\n"
     ]
    }
   ],
   "source": [
    "name_el = WebDriverWait(driver,10).until(EC.presence_of_element_located((By.CSS_SELECTOR,'li.border-color--default__09f24__NPAKY>'))\n"
   ]
  },
  {
   "cell_type": "markdown",
   "id": "e29ccf97",
   "metadata": {},
   "source": [
    "## scraping https://nileusedbooks.com"
   ]
  },
  {
   "cell_type": "code",
   "execution_count": 37,
   "id": "006e0a77",
   "metadata": {
    "collapsed": true
   },
   "outputs": [
    {
     "name": "stdout",
     "output_type": "stream",
     "text": [
      "currently on page: 1\n",
      "currently scraping:  https://nileusedbooks.com/product/the-solomon-key/\n"
     ]
    },
    {
     "ename": "StaleElementReferenceException",
     "evalue": "Message: stale element reference: element is not attached to the page document\n  (Session info: MicrosoftEdge=104.0.1293.63)\nStacktrace:\nBacktrace:\n\tMicrosoft::Applications::Events::EventProperties::unpack [0x00007FF7EA4E4182+26370]\n\tMicrosoft::Applications::Events::GUID_t::GUID_t [0x00007FF7EA4394E2+339106]\n\tOrdinal0 [0x00007FF7E9FC7821+620577]\n\tOrdinal0 [0x00007FF7E9FCAD9A+634266]\n\tOrdinal0 [0x00007FF7E9FCAB1B+633627]\n\tOrdinal0 [0x00007FF7E9FCAED0+634576]\n\tOrdinal0 [0x00007FF7EA003B58+867160]\n\tOrdinal0 [0x00007FF7EA004053+868435]\n\tOrdinal0 [0x00007FF7E9FF7E1C+818716]\n\tOrdinal0 [0x00007FF7EA01F48F+980111]\n\tOrdinal0 [0x00007FF7E9FF7D44+818500]\n\tOrdinal0 [0x00007FF7EA01F750+980816]\n\tOrdinal0 [0x00007FF7EA03358F+1062287]\n\tOrdinal0 [0x00007FF7EA01F263+979555]\n\tOrdinal0 [0x00007FF7E9FF6070+811120]\n\tOrdinal0 [0x00007FF7E9FF7668+816744]\n\tMicrosoft::Applications::Events::EventProperty::EventProperty [0x00007FF7EA292998+128088]\n\tMicrosoft::Applications::Events::EventProperty::EventProperty [0x00007FF7EA27C2EB+36267]\n\tMicrosoft::Applications::Events::EventProperty::EventProperty [0x00007FF7EA27F30C+48588]\n\tMicrosoft::Applications::Events::EventProperty::to_string [0x00007FF7EA0D4393+22115]\n\tMicrosoft::Applications::Events::GUID_t::GUID_t [0x00007FF7EA440B0B+369355]\n\tMicrosoft::Applications::Events::GUID_t::GUID_t [0x00007FF7EA4459A4+389476]\n\tMicrosoft::Applications::Events::GUID_t::GUID_t [0x00007FF7EA445AFD+389821]\n\tMicrosoft::Applications::Events::time_ticks_t::time_ticks_t [0x00007FF7EA450589+40761]\n\tBaseThreadInitThunk [0x00007FFD09A654E0+16]\n\tRtlUserThreadStart [0x00007FFD0B90485B+43]\n",
     "output_type": "error",
     "traceback": [
      "\u001b[1;31m---------------------------------------------------------------------------\u001b[0m",
      "\u001b[1;31mStaleElementReferenceException\u001b[0m            Traceback (most recent call last)",
      "\u001b[1;32m~\\AppData\\Local\\Temp/ipykernel_21288/3290631269.py\u001b[0m in \u001b[0;36m<module>\u001b[1;34m\u001b[0m\n\u001b[0;32m     14\u001b[0m \u001b[1;33m\u001b[0m\u001b[0m\n\u001b[0;32m     15\u001b[0m             \u001b[0mtime\u001b[0m\u001b[1;33m.\u001b[0m\u001b[0msleep\u001b[0m\u001b[1;33m(\u001b[0m\u001b[1;36m3\u001b[0m\u001b[1;33m)\u001b[0m\u001b[1;33m\u001b[0m\u001b[1;33m\u001b[0m\u001b[0m\n\u001b[1;32m---> 16\u001b[1;33m             \u001b[0mlink_el\u001b[0m \u001b[1;33m=\u001b[0m \u001b[0mbook\u001b[0m\u001b[1;33m.\u001b[0m\u001b[0mfind_element_by_css_selector\u001b[0m\u001b[1;33m(\u001b[0m\u001b[1;34m' div > div > div.item-img.products-thumb > a'\u001b[0m\u001b[1;33m)\u001b[0m\u001b[1;33m\u001b[0m\u001b[1;33m\u001b[0m\u001b[0m\n\u001b[0m\u001b[0;32m     17\u001b[0m             \u001b[0mlink\u001b[0m \u001b[1;33m=\u001b[0m \u001b[0mlink_el\u001b[0m\u001b[1;33m.\u001b[0m\u001b[0mget_attribute\u001b[0m\u001b[1;33m(\u001b[0m\u001b[1;34m'href'\u001b[0m\u001b[1;33m)\u001b[0m\u001b[1;33m\u001b[0m\u001b[1;33m\u001b[0m\u001b[0m\n\u001b[0;32m     18\u001b[0m \u001b[1;33m\u001b[0m\u001b[0m\n",
      "\u001b[1;32m~\\anaconda3\\lib\\site-packages\\selenium\\webdriver\\remote\\webelement.py\u001b[0m in \u001b[0;36mfind_element_by_css_selector\u001b[1;34m(self, css_selector)\u001b[0m\n\u001b[0;32m    540\u001b[0m             \u001b[0mDeprecationWarning\u001b[0m\u001b[1;33m,\u001b[0m\u001b[1;33m\u001b[0m\u001b[1;33m\u001b[0m\u001b[0m\n\u001b[0;32m    541\u001b[0m             stacklevel=2)\n\u001b[1;32m--> 542\u001b[1;33m         \u001b[1;32mreturn\u001b[0m \u001b[0mself\u001b[0m\u001b[1;33m.\u001b[0m\u001b[0mfind_element\u001b[0m\u001b[1;33m(\u001b[0m\u001b[0mby\u001b[0m\u001b[1;33m=\u001b[0m\u001b[0mBy\u001b[0m\u001b[1;33m.\u001b[0m\u001b[0mCSS_SELECTOR\u001b[0m\u001b[1;33m,\u001b[0m \u001b[0mvalue\u001b[0m\u001b[1;33m=\u001b[0m\u001b[0mcss_selector\u001b[0m\u001b[1;33m)\u001b[0m\u001b[1;33m\u001b[0m\u001b[1;33m\u001b[0m\u001b[0m\n\u001b[0m\u001b[0;32m    543\u001b[0m \u001b[1;33m\u001b[0m\u001b[0m\n\u001b[0;32m    544\u001b[0m     \u001b[1;32mdef\u001b[0m \u001b[0mfind_elements_by_css_selector\u001b[0m\u001b[1;33m(\u001b[0m\u001b[0mself\u001b[0m\u001b[1;33m,\u001b[0m \u001b[0mcss_selector\u001b[0m\u001b[1;33m)\u001b[0m\u001b[1;33m:\u001b[0m\u001b[1;33m\u001b[0m\u001b[1;33m\u001b[0m\u001b[0m\n",
      "\u001b[1;32m~\\anaconda3\\lib\\site-packages\\selenium\\webdriver\\remote\\webelement.py\u001b[0m in \u001b[0;36mfind_element\u001b[1;34m(self, by, value)\u001b[0m\n\u001b[0;32m    794\u001b[0m             \u001b[0mvalue\u001b[0m \u001b[1;33m=\u001b[0m \u001b[1;34m'[name=\"%s\"]'\u001b[0m \u001b[1;33m%\u001b[0m \u001b[0mvalue\u001b[0m\u001b[1;33m\u001b[0m\u001b[1;33m\u001b[0m\u001b[0m\n\u001b[0;32m    795\u001b[0m \u001b[1;33m\u001b[0m\u001b[0m\n\u001b[1;32m--> 796\u001b[1;33m         return self._execute(Command.FIND_CHILD_ELEMENT,\n\u001b[0m\u001b[0;32m    797\u001b[0m                              {\"using\": by, \"value\": value})['value']\n\u001b[0;32m    798\u001b[0m \u001b[1;33m\u001b[0m\u001b[0m\n",
      "\u001b[1;32m~\\anaconda3\\lib\\site-packages\\selenium\\webdriver\\remote\\webelement.py\u001b[0m in \u001b[0;36m_execute\u001b[1;34m(self, command, params)\u001b[0m\n\u001b[0;32m    771\u001b[0m             \u001b[0mparams\u001b[0m \u001b[1;33m=\u001b[0m \u001b[1;33m{\u001b[0m\u001b[1;33m}\u001b[0m\u001b[1;33m\u001b[0m\u001b[1;33m\u001b[0m\u001b[0m\n\u001b[0;32m    772\u001b[0m         \u001b[0mparams\u001b[0m\u001b[1;33m[\u001b[0m\u001b[1;34m'id'\u001b[0m\u001b[1;33m]\u001b[0m \u001b[1;33m=\u001b[0m \u001b[0mself\u001b[0m\u001b[1;33m.\u001b[0m\u001b[0m_id\u001b[0m\u001b[1;33m\u001b[0m\u001b[1;33m\u001b[0m\u001b[0m\n\u001b[1;32m--> 773\u001b[1;33m         \u001b[1;32mreturn\u001b[0m \u001b[0mself\u001b[0m\u001b[1;33m.\u001b[0m\u001b[0m_parent\u001b[0m\u001b[1;33m.\u001b[0m\u001b[0mexecute\u001b[0m\u001b[1;33m(\u001b[0m\u001b[0mcommand\u001b[0m\u001b[1;33m,\u001b[0m \u001b[0mparams\u001b[0m\u001b[1;33m)\u001b[0m\u001b[1;33m\u001b[0m\u001b[1;33m\u001b[0m\u001b[0m\n\u001b[0m\u001b[0;32m    774\u001b[0m \u001b[1;33m\u001b[0m\u001b[0m\n\u001b[0;32m    775\u001b[0m     \u001b[1;32mdef\u001b[0m \u001b[0mfind_element\u001b[0m\u001b[1;33m(\u001b[0m\u001b[0mself\u001b[0m\u001b[1;33m,\u001b[0m \u001b[0mby\u001b[0m\u001b[1;33m=\u001b[0m\u001b[0mBy\u001b[0m\u001b[1;33m.\u001b[0m\u001b[0mID\u001b[0m\u001b[1;33m,\u001b[0m \u001b[0mvalue\u001b[0m\u001b[1;33m=\u001b[0m\u001b[1;32mNone\u001b[0m\u001b[1;33m)\u001b[0m\u001b[1;33m:\u001b[0m\u001b[1;33m\u001b[0m\u001b[1;33m\u001b[0m\u001b[0m\n",
      "\u001b[1;32m~\\anaconda3\\lib\\site-packages\\selenium\\webdriver\\remote\\webdriver.py\u001b[0m in \u001b[0;36mexecute\u001b[1;34m(self, driver_command, params)\u001b[0m\n\u001b[0;32m    428\u001b[0m         \u001b[0mresponse\u001b[0m \u001b[1;33m=\u001b[0m \u001b[0mself\u001b[0m\u001b[1;33m.\u001b[0m\u001b[0mcommand_executor\u001b[0m\u001b[1;33m.\u001b[0m\u001b[0mexecute\u001b[0m\u001b[1;33m(\u001b[0m\u001b[0mdriver_command\u001b[0m\u001b[1;33m,\u001b[0m \u001b[0mparams\u001b[0m\u001b[1;33m)\u001b[0m\u001b[1;33m\u001b[0m\u001b[1;33m\u001b[0m\u001b[0m\n\u001b[0;32m    429\u001b[0m         \u001b[1;32mif\u001b[0m \u001b[0mresponse\u001b[0m\u001b[1;33m:\u001b[0m\u001b[1;33m\u001b[0m\u001b[1;33m\u001b[0m\u001b[0m\n\u001b[1;32m--> 430\u001b[1;33m             \u001b[0mself\u001b[0m\u001b[1;33m.\u001b[0m\u001b[0merror_handler\u001b[0m\u001b[1;33m.\u001b[0m\u001b[0mcheck_response\u001b[0m\u001b[1;33m(\u001b[0m\u001b[0mresponse\u001b[0m\u001b[1;33m)\u001b[0m\u001b[1;33m\u001b[0m\u001b[1;33m\u001b[0m\u001b[0m\n\u001b[0m\u001b[0;32m    431\u001b[0m             response['value'] = self._unwrap_value(\n\u001b[0;32m    432\u001b[0m                 response.get('value', None))\n",
      "\u001b[1;32m~\\anaconda3\\lib\\site-packages\\selenium\\webdriver\\remote\\errorhandler.py\u001b[0m in \u001b[0;36mcheck_response\u001b[1;34m(self, response)\u001b[0m\n\u001b[0;32m    245\u001b[0m                 \u001b[0malert_text\u001b[0m \u001b[1;33m=\u001b[0m \u001b[0mvalue\u001b[0m\u001b[1;33m[\u001b[0m\u001b[1;34m'alert'\u001b[0m\u001b[1;33m]\u001b[0m\u001b[1;33m.\u001b[0m\u001b[0mget\u001b[0m\u001b[1;33m(\u001b[0m\u001b[1;34m'text'\u001b[0m\u001b[1;33m)\u001b[0m\u001b[1;33m\u001b[0m\u001b[1;33m\u001b[0m\u001b[0m\n\u001b[0;32m    246\u001b[0m             \u001b[1;32mraise\u001b[0m \u001b[0mexception_class\u001b[0m\u001b[1;33m(\u001b[0m\u001b[0mmessage\u001b[0m\u001b[1;33m,\u001b[0m \u001b[0mscreen\u001b[0m\u001b[1;33m,\u001b[0m \u001b[0mstacktrace\u001b[0m\u001b[1;33m,\u001b[0m \u001b[0malert_text\u001b[0m\u001b[1;33m)\u001b[0m  \u001b[1;31m# type: ignore[call-arg]  # mypy is not smart enough here\u001b[0m\u001b[1;33m\u001b[0m\u001b[1;33m\u001b[0m\u001b[0m\n\u001b[1;32m--> 247\u001b[1;33m         \u001b[1;32mraise\u001b[0m \u001b[0mexception_class\u001b[0m\u001b[1;33m(\u001b[0m\u001b[0mmessage\u001b[0m\u001b[1;33m,\u001b[0m \u001b[0mscreen\u001b[0m\u001b[1;33m,\u001b[0m \u001b[0mstacktrace\u001b[0m\u001b[1;33m)\u001b[0m\u001b[1;33m\u001b[0m\u001b[1;33m\u001b[0m\u001b[0m\n\u001b[0m\u001b[0;32m    248\u001b[0m \u001b[1;33m\u001b[0m\u001b[0m\n\u001b[0;32m    249\u001b[0m     \u001b[1;32mdef\u001b[0m \u001b[0m_value_or_default\u001b[0m\u001b[1;33m(\u001b[0m\u001b[0mself\u001b[0m\u001b[1;33m,\u001b[0m \u001b[0mobj\u001b[0m\u001b[1;33m:\u001b[0m \u001b[0mMapping\u001b[0m\u001b[1;33m[\u001b[0m\u001b[0m_KT\u001b[0m\u001b[1;33m,\u001b[0m \u001b[0m_VT\u001b[0m\u001b[1;33m]\u001b[0m\u001b[1;33m,\u001b[0m \u001b[0mkey\u001b[0m\u001b[1;33m:\u001b[0m \u001b[0m_KT\u001b[0m\u001b[1;33m,\u001b[0m \u001b[0mdefault\u001b[0m\u001b[1;33m:\u001b[0m \u001b[0m_VT\u001b[0m\u001b[1;33m)\u001b[0m \u001b[1;33m->\u001b[0m \u001b[0m_VT\u001b[0m\u001b[1;33m:\u001b[0m\u001b[1;33m\u001b[0m\u001b[1;33m\u001b[0m\u001b[0m\n",
      "\u001b[1;31mStaleElementReferenceException\u001b[0m: Message: stale element reference: element is not attached to the page document\n  (Session info: MicrosoftEdge=104.0.1293.63)\nStacktrace:\nBacktrace:\n\tMicrosoft::Applications::Events::EventProperties::unpack [0x00007FF7EA4E4182+26370]\n\tMicrosoft::Applications::Events::GUID_t::GUID_t [0x00007FF7EA4394E2+339106]\n\tOrdinal0 [0x00007FF7E9FC7821+620577]\n\tOrdinal0 [0x00007FF7E9FCAD9A+634266]\n\tOrdinal0 [0x00007FF7E9FCAB1B+633627]\n\tOrdinal0 [0x00007FF7E9FCAED0+634576]\n\tOrdinal0 [0x00007FF7EA003B58+867160]\n\tOrdinal0 [0x00007FF7EA004053+868435]\n\tOrdinal0 [0x00007FF7E9FF7E1C+818716]\n\tOrdinal0 [0x00007FF7EA01F48F+980111]\n\tOrdinal0 [0x00007FF7E9FF7D44+818500]\n\tOrdinal0 [0x00007FF7EA01F750+980816]\n\tOrdinal0 [0x00007FF7EA03358F+1062287]\n\tOrdinal0 [0x00007FF7EA01F263+979555]\n\tOrdinal0 [0x00007FF7E9FF6070+811120]\n\tOrdinal0 [0x00007FF7E9FF7668+816744]\n\tMicrosoft::Applications::Events::EventProperty::EventProperty [0x00007FF7EA292998+128088]\n\tMicrosoft::Applications::Events::EventProperty::EventProperty [0x00007FF7EA27C2EB+36267]\n\tMicrosoft::Applications::Events::EventProperty::EventProperty [0x00007FF7EA27F30C+48588]\n\tMicrosoft::Applications::Events::EventProperty::to_string [0x00007FF7EA0D4393+22115]\n\tMicrosoft::Applications::Events::GUID_t::GUID_t [0x00007FF7EA440B0B+369355]\n\tMicrosoft::Applications::Events::GUID_t::GUID_t [0x00007FF7EA4459A4+389476]\n\tMicrosoft::Applications::Events::GUID_t::GUID_t [0x00007FF7EA445AFD+389821]\n\tMicrosoft::Applications::Events::time_ticks_t::time_ticks_t [0x00007FF7EA450589+40761]\n\tBaseThreadInitThunk [0x00007FFD09A654E0+16]\n\tRtlUserThreadStart [0x00007FFD0B90485B+43]\n"
     ]
    }
   ],
   "source": [
    "driver = webdriver.Edge()\n",
    "for i in range(1,3):\n",
    "\n",
    "    driver.get(urljoin('https://nileusedbooks.com/product-category/english/page/',str(i),'/?doing_wp_cron=1661405637.8800849914550781250000&product_count=36'))\n",
    "    print('currently on page:',i)\n",
    "    el = driver.find_elements_by_css_selector('li.item.col-lg-3.col-md-4.col-sm-6.clear_lg.clear_md.clear_sm.col-xs-6.post-7653.product.type-product.status-publish.has-post-thumbnail.product_cat-english.product_tag-w-frederick-zimmerman.first.instock.sale.shipping-taxable.purchasable.product-type-simple')\n",
    "    with open('nilebooks.csv','w') as file:\n",
    "        writer_file = writer(file)\n",
    "        header = ['Title','ISBN','EGP']\n",
    "        writer_file.writerow(header)  \n",
    "\n",
    "\n",
    "        for book in el:\n",
    "            \n",
    "            time.sleep(3)\n",
    "            link_el = book.find_element_by_css_selector(' div > div > div.item-img.products-thumb > a')\n",
    "            link = link_el.get_attribute('href')\n",
    "\n",
    "            driver.get(link)\n",
    "            print('currently scraping: ', link)\n",
    "\n",
    "\n",
    "            title = driver.find_element_by_css_selector('div.product_detail.row > div.col-lg-6.col-md-6.col-sm-12.col-xs-12.clear_xs > div > h1').text\n",
    "\n",
    "            egp = driver.find_element_by_css_selector('div.product_detail.row>div:nth-child(2)>div>div:nth-child(2)>p>ins>span').text\n",
    "\n",
    "            isbn = driver.find_element_by_css_selector('#tab-description > p:nth-child(3)').text\n",
    "            lis = [title,isbn,egp]\n",
    "            writer_file.writerow(lis)\n",
    "            driver.back()\n",
    "            time.sleep(3)\n",
    "            el = driver.find_elements_by_css_selector('li.item.col-lg-3.col-md-4.col-sm-6.clear_lg.clear_md.clear_sm.col-xs-6.post-7653.product.type-product.status-publish.has-post-thumbnail.product_cat-english.product_tag-w-frederick-zimmerman.first.instock.sale.shipping-taxable.purchasable.product-type-simple')\n"
   ]
  },
  {
   "cell_type": "markdown",
   "id": "4a2ebea7",
   "metadata": {},
   "source": [
    "## stale element exception, so we'll use beautiful soup instead"
   ]
  },
  {
   "cell_type": "code",
   "execution_count": 109,
   "id": "c5959ad6",
   "metadata": {
    "collapsed": true
   },
   "outputs": [
    {
     "name": "stdout",
     "output_type": "stream",
     "text": [
      "currently on page: 1\n",
      "Now scraping:  https://nileusedbooks.com/product/the-solomon-key/\n",
      "Now scraping:  https://nileusedbooks.com/product/the-solomon-key-and-beyond/\n",
      "Now scraping:  https://nileusedbooks.com/product/upstream-level-b2-2-2/\n",
      "Now scraping:  https://nileusedbooks.com/product/101-word-games/\n",
      "Now scraping:  https://nileusedbooks.com/product/1100-words-you-need-to-know/\n",
      "Now scraping:  https://nileusedbooks.com/product/1100-words-you-need-to-know-2/\n",
      "Now scraping:  https://nileusedbooks.com/product/300-successful-business/\n",
      "Now scraping:  https://nileusedbooks.com/product/404-essential-tests-for-ielts/\n",
      "Now scraping:  https://nileusedbooks.com/product/555-sticker-fun-pirate-ship/\n",
      "Now scraping:  https://nileusedbooks.com/product/a-book-of-english-essays/\n",
      "Now scraping:  https://nileusedbooks.com/product/a-course-in-basic-scientific-english/\n",
      "Now scraping:  https://nileusedbooks.com/product/a-course-in-language-teaching/\n",
      "Now scraping:  https://nileusedbooks.com/product/a-dictionary-of-english-synonyms/\n",
      "Now scraping:  https://nileusedbooks.com/product/a-dictionary-of-historical-slang/\n",
      "Now scraping:  https://nileusedbooks.com/product/a-graded-secondary-school-english-course/\n",
      "Now scraping:  https://nileusedbooks.com/product/a-graded-secondary-school-english-course-2/\n",
      "Now scraping:  https://nileusedbooks.com/product/a-graded-secondary-school-english-course-3/\n",
      "Now scraping:  https://nileusedbooks.com/product/a-hog-on-ice/\n",
      "Now scraping:  https://nileusedbooks.com/product/a-linguistic-theory-of-translation/\n",
      "Now scraping:  https://nileusedbooks.com/product/a-manual-for-writers-of-term-papers-theses-and-dissertations/\n",
      "Now scraping:  https://nileusedbooks.com/product/a-midsummer-nights-dream/\n",
      "Now scraping:  https://nileusedbooks.com/product/a-new-day/\n",
      "Now scraping:  https://nileusedbooks.com/product/a-pocket-guide-to-writing-in-history/\n",
      "Now scraping:  https://nileusedbooks.com/product/a-practical-english-grammar/\n",
      "Now scraping:  https://nileusedbooks.com/product/a-promise-kept/\n",
      "Now scraping:  https://nileusedbooks.com/product/a-way-to-measure-time/\n",
      "Now scraping:  https://nileusedbooks.com/product/a-window-on-literature/\n",
      "Now scraping:  https://nileusedbooks.com/product/a-word-a-day/\n",
      "Now scraping:  https://nileusedbooks.com/product/abacus-evolve-framework-2/\n",
      "Now scraping:  https://nileusedbooks.com/product/abacus-evolve-framework/\n",
      "Now scraping:  https://nileusedbooks.com/product/abacus-evolve-year/\n",
      "Now scraping:  https://nileusedbooks.com/product/abacus-evolve-year-2/\n",
      "Now scraping:  https://nileusedbooks.com/product/abacus-year-3-textbook-1/\n"
     ]
    },
    {
     "ename": "WebDriverException",
     "evalue": "Message: chrome not reachable\n  (Session info: MicrosoftEdge=104.0.1293.63)\nStacktrace:\nBacktrace:\n\tMicrosoft::Applications::Events::EventProperties::unpack [0x00007FF7EA4E4182+26370]\n\tMicrosoft::Applications::Events::GUID_t::GUID_t [0x00007FF7EA4394E2+339106]\n\tOrdinal0 [0x00007FF7E9FC76DA+620250]\n\tOrdinal0 [0x00007FF7E9FB93BE+562110]\n\tOrdinal0 [0x00007FF7E9FA96B9+497337]\n\tOrdinal0 [0x00007FF7E9FAED8D+519565]\n\tOrdinal0 [0x00007FF7E9FB448F+541839]\n\tOrdinal0 [0x00007FF7E9FC8B81+625537]\n\tOrdinal0 [0x00007FF7EA032B26+1059622]\n\tOrdinal0 [0x00007FF7EA01F263+979555]\n\tOrdinal0 [0x00007FF7E9FF6070+811120]\n\tOrdinal0 [0x00007FF7E9FF7668+816744]\n\tMicrosoft::Applications::Events::EventProperty::EventProperty [0x00007FF7EA292998+128088]\n\tMicrosoft::Applications::Events::EventProperty::EventProperty [0x00007FF7EA27C2EB+36267]\n\tMicrosoft::Applications::Events::EventProperty::EventProperty [0x00007FF7EA27F30C+48588]\n\tMicrosoft::Applications::Events::EventProperty::to_string [0x00007FF7EA0D4393+22115]\n\tMicrosoft::Applications::Events::GUID_t::GUID_t [0x00007FF7EA440B0B+369355]\n\tMicrosoft::Applications::Events::GUID_t::GUID_t [0x00007FF7EA4459A4+389476]\n\tMicrosoft::Applications::Events::GUID_t::GUID_t [0x00007FF7EA445AFD+389821]\n\tMicrosoft::Applications::Events::time_ticks_t::time_ticks_t [0x00007FF7EA450589+40761]\n\tBaseThreadInitThunk [0x00007FFD09A654E0+16]\n\tRtlUserThreadStart [0x00007FFD0B90485B+43]\n",
     "output_type": "error",
     "traceback": [
      "\u001b[1;31m---------------------------------------------------------------------------\u001b[0m",
      "\u001b[1;31mWebDriverException\u001b[0m                        Traceback (most recent call last)",
      "\u001b[1;32m~\\AppData\\Local\\Temp/ipykernel_21288/807889636.py\u001b[0m in \u001b[0;36m<module>\u001b[1;34m\u001b[0m\n\u001b[0;32m     14\u001b[0m \u001b[1;33m\u001b[0m\u001b[0m\n\u001b[0;32m     15\u001b[0m \u001b[1;33m\u001b[0m\u001b[0m\n\u001b[1;32m---> 16\u001b[1;33m             \u001b[0mlink_el\u001b[0m \u001b[1;33m=\u001b[0m \u001b[0mbook\u001b[0m\u001b[1;33m.\u001b[0m\u001b[0mfind_element_by_css_selector\u001b[0m\u001b[1;33m(\u001b[0m\u001b[1;34m'div > div > div.item-img.products-thumb > a'\u001b[0m\u001b[1;33m)\u001b[0m\u001b[1;33m\u001b[0m\u001b[1;33m\u001b[0m\u001b[0m\n\u001b[0m\u001b[0;32m     17\u001b[0m             \u001b[0mlink\u001b[0m \u001b[1;33m=\u001b[0m \u001b[0mlink_el\u001b[0m\u001b[1;33m.\u001b[0m\u001b[0mget_attribute\u001b[0m\u001b[1;33m(\u001b[0m\u001b[1;34m'href'\u001b[0m\u001b[1;33m)\u001b[0m\u001b[1;33m\u001b[0m\u001b[1;33m\u001b[0m\u001b[0m\n\u001b[0;32m     18\u001b[0m             \u001b[0mprint\u001b[0m\u001b[1;33m(\u001b[0m\u001b[1;34m'Now scraping: '\u001b[0m\u001b[1;33m,\u001b[0m \u001b[0mlink\u001b[0m\u001b[1;33m)\u001b[0m\u001b[1;33m\u001b[0m\u001b[1;33m\u001b[0m\u001b[0m\n",
      "\u001b[1;32m~\\anaconda3\\lib\\site-packages\\selenium\\webdriver\\remote\\webelement.py\u001b[0m in \u001b[0;36mfind_element_by_css_selector\u001b[1;34m(self, css_selector)\u001b[0m\n\u001b[0;32m    540\u001b[0m             \u001b[0mDeprecationWarning\u001b[0m\u001b[1;33m,\u001b[0m\u001b[1;33m\u001b[0m\u001b[1;33m\u001b[0m\u001b[0m\n\u001b[0;32m    541\u001b[0m             stacklevel=2)\n\u001b[1;32m--> 542\u001b[1;33m         \u001b[1;32mreturn\u001b[0m \u001b[0mself\u001b[0m\u001b[1;33m.\u001b[0m\u001b[0mfind_element\u001b[0m\u001b[1;33m(\u001b[0m\u001b[0mby\u001b[0m\u001b[1;33m=\u001b[0m\u001b[0mBy\u001b[0m\u001b[1;33m.\u001b[0m\u001b[0mCSS_SELECTOR\u001b[0m\u001b[1;33m,\u001b[0m \u001b[0mvalue\u001b[0m\u001b[1;33m=\u001b[0m\u001b[0mcss_selector\u001b[0m\u001b[1;33m)\u001b[0m\u001b[1;33m\u001b[0m\u001b[1;33m\u001b[0m\u001b[0m\n\u001b[0m\u001b[0;32m    543\u001b[0m \u001b[1;33m\u001b[0m\u001b[0m\n\u001b[0;32m    544\u001b[0m     \u001b[1;32mdef\u001b[0m \u001b[0mfind_elements_by_css_selector\u001b[0m\u001b[1;33m(\u001b[0m\u001b[0mself\u001b[0m\u001b[1;33m,\u001b[0m \u001b[0mcss_selector\u001b[0m\u001b[1;33m)\u001b[0m\u001b[1;33m:\u001b[0m\u001b[1;33m\u001b[0m\u001b[1;33m\u001b[0m\u001b[0m\n",
      "\u001b[1;32m~\\anaconda3\\lib\\site-packages\\selenium\\webdriver\\remote\\webelement.py\u001b[0m in \u001b[0;36mfind_element\u001b[1;34m(self, by, value)\u001b[0m\n\u001b[0;32m    794\u001b[0m             \u001b[0mvalue\u001b[0m \u001b[1;33m=\u001b[0m \u001b[1;34m'[name=\"%s\"]'\u001b[0m \u001b[1;33m%\u001b[0m \u001b[0mvalue\u001b[0m\u001b[1;33m\u001b[0m\u001b[1;33m\u001b[0m\u001b[0m\n\u001b[0;32m    795\u001b[0m \u001b[1;33m\u001b[0m\u001b[0m\n\u001b[1;32m--> 796\u001b[1;33m         return self._execute(Command.FIND_CHILD_ELEMENT,\n\u001b[0m\u001b[0;32m    797\u001b[0m                              {\"using\": by, \"value\": value})['value']\n\u001b[0;32m    798\u001b[0m \u001b[1;33m\u001b[0m\u001b[0m\n",
      "\u001b[1;32m~\\anaconda3\\lib\\site-packages\\selenium\\webdriver\\remote\\webelement.py\u001b[0m in \u001b[0;36m_execute\u001b[1;34m(self, command, params)\u001b[0m\n\u001b[0;32m    771\u001b[0m             \u001b[0mparams\u001b[0m \u001b[1;33m=\u001b[0m \u001b[1;33m{\u001b[0m\u001b[1;33m}\u001b[0m\u001b[1;33m\u001b[0m\u001b[1;33m\u001b[0m\u001b[0m\n\u001b[0;32m    772\u001b[0m         \u001b[0mparams\u001b[0m\u001b[1;33m[\u001b[0m\u001b[1;34m'id'\u001b[0m\u001b[1;33m]\u001b[0m \u001b[1;33m=\u001b[0m \u001b[0mself\u001b[0m\u001b[1;33m.\u001b[0m\u001b[0m_id\u001b[0m\u001b[1;33m\u001b[0m\u001b[1;33m\u001b[0m\u001b[0m\n\u001b[1;32m--> 773\u001b[1;33m         \u001b[1;32mreturn\u001b[0m \u001b[0mself\u001b[0m\u001b[1;33m.\u001b[0m\u001b[0m_parent\u001b[0m\u001b[1;33m.\u001b[0m\u001b[0mexecute\u001b[0m\u001b[1;33m(\u001b[0m\u001b[0mcommand\u001b[0m\u001b[1;33m,\u001b[0m \u001b[0mparams\u001b[0m\u001b[1;33m)\u001b[0m\u001b[1;33m\u001b[0m\u001b[1;33m\u001b[0m\u001b[0m\n\u001b[0m\u001b[0;32m    774\u001b[0m \u001b[1;33m\u001b[0m\u001b[0m\n\u001b[0;32m    775\u001b[0m     \u001b[1;32mdef\u001b[0m \u001b[0mfind_element\u001b[0m\u001b[1;33m(\u001b[0m\u001b[0mself\u001b[0m\u001b[1;33m,\u001b[0m \u001b[0mby\u001b[0m\u001b[1;33m=\u001b[0m\u001b[0mBy\u001b[0m\u001b[1;33m.\u001b[0m\u001b[0mID\u001b[0m\u001b[1;33m,\u001b[0m \u001b[0mvalue\u001b[0m\u001b[1;33m=\u001b[0m\u001b[1;32mNone\u001b[0m\u001b[1;33m)\u001b[0m\u001b[1;33m:\u001b[0m\u001b[1;33m\u001b[0m\u001b[1;33m\u001b[0m\u001b[0m\n",
      "\u001b[1;32m~\\anaconda3\\lib\\site-packages\\selenium\\webdriver\\remote\\webdriver.py\u001b[0m in \u001b[0;36mexecute\u001b[1;34m(self, driver_command, params)\u001b[0m\n\u001b[0;32m    428\u001b[0m         \u001b[0mresponse\u001b[0m \u001b[1;33m=\u001b[0m \u001b[0mself\u001b[0m\u001b[1;33m.\u001b[0m\u001b[0mcommand_executor\u001b[0m\u001b[1;33m.\u001b[0m\u001b[0mexecute\u001b[0m\u001b[1;33m(\u001b[0m\u001b[0mdriver_command\u001b[0m\u001b[1;33m,\u001b[0m \u001b[0mparams\u001b[0m\u001b[1;33m)\u001b[0m\u001b[1;33m\u001b[0m\u001b[1;33m\u001b[0m\u001b[0m\n\u001b[0;32m    429\u001b[0m         \u001b[1;32mif\u001b[0m \u001b[0mresponse\u001b[0m\u001b[1;33m:\u001b[0m\u001b[1;33m\u001b[0m\u001b[1;33m\u001b[0m\u001b[0m\n\u001b[1;32m--> 430\u001b[1;33m             \u001b[0mself\u001b[0m\u001b[1;33m.\u001b[0m\u001b[0merror_handler\u001b[0m\u001b[1;33m.\u001b[0m\u001b[0mcheck_response\u001b[0m\u001b[1;33m(\u001b[0m\u001b[0mresponse\u001b[0m\u001b[1;33m)\u001b[0m\u001b[1;33m\u001b[0m\u001b[1;33m\u001b[0m\u001b[0m\n\u001b[0m\u001b[0;32m    431\u001b[0m             response['value'] = self._unwrap_value(\n\u001b[0;32m    432\u001b[0m                 response.get('value', None))\n",
      "\u001b[1;32m~\\anaconda3\\lib\\site-packages\\selenium\\webdriver\\remote\\errorhandler.py\u001b[0m in \u001b[0;36mcheck_response\u001b[1;34m(self, response)\u001b[0m\n\u001b[0;32m    245\u001b[0m                 \u001b[0malert_text\u001b[0m \u001b[1;33m=\u001b[0m \u001b[0mvalue\u001b[0m\u001b[1;33m[\u001b[0m\u001b[1;34m'alert'\u001b[0m\u001b[1;33m]\u001b[0m\u001b[1;33m.\u001b[0m\u001b[0mget\u001b[0m\u001b[1;33m(\u001b[0m\u001b[1;34m'text'\u001b[0m\u001b[1;33m)\u001b[0m\u001b[1;33m\u001b[0m\u001b[1;33m\u001b[0m\u001b[0m\n\u001b[0;32m    246\u001b[0m             \u001b[1;32mraise\u001b[0m \u001b[0mexception_class\u001b[0m\u001b[1;33m(\u001b[0m\u001b[0mmessage\u001b[0m\u001b[1;33m,\u001b[0m \u001b[0mscreen\u001b[0m\u001b[1;33m,\u001b[0m \u001b[0mstacktrace\u001b[0m\u001b[1;33m,\u001b[0m \u001b[0malert_text\u001b[0m\u001b[1;33m)\u001b[0m  \u001b[1;31m# type: ignore[call-arg]  # mypy is not smart enough here\u001b[0m\u001b[1;33m\u001b[0m\u001b[1;33m\u001b[0m\u001b[0m\n\u001b[1;32m--> 247\u001b[1;33m         \u001b[1;32mraise\u001b[0m \u001b[0mexception_class\u001b[0m\u001b[1;33m(\u001b[0m\u001b[0mmessage\u001b[0m\u001b[1;33m,\u001b[0m \u001b[0mscreen\u001b[0m\u001b[1;33m,\u001b[0m \u001b[0mstacktrace\u001b[0m\u001b[1;33m)\u001b[0m\u001b[1;33m\u001b[0m\u001b[1;33m\u001b[0m\u001b[0m\n\u001b[0m\u001b[0;32m    248\u001b[0m \u001b[1;33m\u001b[0m\u001b[0m\n\u001b[0;32m    249\u001b[0m     \u001b[1;32mdef\u001b[0m \u001b[0m_value_or_default\u001b[0m\u001b[1;33m(\u001b[0m\u001b[0mself\u001b[0m\u001b[1;33m,\u001b[0m \u001b[0mobj\u001b[0m\u001b[1;33m:\u001b[0m \u001b[0mMapping\u001b[0m\u001b[1;33m[\u001b[0m\u001b[0m_KT\u001b[0m\u001b[1;33m,\u001b[0m \u001b[0m_VT\u001b[0m\u001b[1;33m]\u001b[0m\u001b[1;33m,\u001b[0m \u001b[0mkey\u001b[0m\u001b[1;33m:\u001b[0m \u001b[0m_KT\u001b[0m\u001b[1;33m,\u001b[0m \u001b[0mdefault\u001b[0m\u001b[1;33m:\u001b[0m \u001b[0m_VT\u001b[0m\u001b[1;33m)\u001b[0m \u001b[1;33m->\u001b[0m \u001b[0m_VT\u001b[0m\u001b[1;33m:\u001b[0m\u001b[1;33m\u001b[0m\u001b[1;33m\u001b[0m\u001b[0m\n",
      "\u001b[1;31mWebDriverException\u001b[0m: Message: chrome not reachable\n  (Session info: MicrosoftEdge=104.0.1293.63)\nStacktrace:\nBacktrace:\n\tMicrosoft::Applications::Events::EventProperties::unpack [0x00007FF7EA4E4182+26370]\n\tMicrosoft::Applications::Events::GUID_t::GUID_t [0x00007FF7EA4394E2+339106]\n\tOrdinal0 [0x00007FF7E9FC76DA+620250]\n\tOrdinal0 [0x00007FF7E9FB93BE+562110]\n\tOrdinal0 [0x00007FF7E9FA96B9+497337]\n\tOrdinal0 [0x00007FF7E9FAED8D+519565]\n\tOrdinal0 [0x00007FF7E9FB448F+541839]\n\tOrdinal0 [0x00007FF7E9FC8B81+625537]\n\tOrdinal0 [0x00007FF7EA032B26+1059622]\n\tOrdinal0 [0x00007FF7EA01F263+979555]\n\tOrdinal0 [0x00007FF7E9FF6070+811120]\n\tOrdinal0 [0x00007FF7E9FF7668+816744]\n\tMicrosoft::Applications::Events::EventProperty::EventProperty [0x00007FF7EA292998+128088]\n\tMicrosoft::Applications::Events::EventProperty::EventProperty [0x00007FF7EA27C2EB+36267]\n\tMicrosoft::Applications::Events::EventProperty::EventProperty [0x00007FF7EA27F30C+48588]\n\tMicrosoft::Applications::Events::EventProperty::to_string [0x00007FF7EA0D4393+22115]\n\tMicrosoft::Applications::Events::GUID_t::GUID_t [0x00007FF7EA440B0B+369355]\n\tMicrosoft::Applications::Events::GUID_t::GUID_t [0x00007FF7EA4459A4+389476]\n\tMicrosoft::Applications::Events::GUID_t::GUID_t [0x00007FF7EA445AFD+389821]\n\tMicrosoft::Applications::Events::time_ticks_t::time_ticks_t [0x00007FF7EA450589+40761]\n\tBaseThreadInitThunk [0x00007FFD09A654E0+16]\n\tRtlUserThreadStart [0x00007FFD0B90485B+43]\n"
     ]
    }
   ],
   "source": [
    "driver = webdriver.Edge()\n",
    "for i in range(1,2):\n",
    "\n",
    "    driver.get('https://nileusedbooks.com/product-category/english/page/'+str(i)+'/?doing_wp_cron=1661405637.8800849914550781250000&product_count=36')\n",
    "    print('currently on page:',i)\n",
    "    el = driver.find_elements_by_css_selector('ul.products-loop.row.grid.clearfix li')\n",
    "    with open('nilebooks1.csv','w',newline = '') as file:\n",
    "        writer_file = writer(file)\n",
    "        header = ['Title','ISBN','EGP']\n",
    "        writer_file.writerow(header)  \n",
    "\n",
    "\n",
    "        for book in el:\n",
    "            \n",
    "            \n",
    "            link_el = book.find_element_by_css_selector('div > div > div.item-img.products-thumb > a')\n",
    "            link = link_el.get_attribute('href')\n",
    "            print('Now scraping: ', link)\n",
    "            \n",
    "            res = requests.get(link)\n",
    "            soup = BeautifulSoup(res.text,'html.parser')\n",
    "            try:\n",
    "                title = soup.select('div.product_detail.row > div.col-lg-6.col-md-6.col-sm-12.col-xs-12.clear_xs > div > h1')[0].text\n",
    "            except:\n",
    "                pass\n",
    "            try:\n",
    "                isbn = \"=\\\"\" + soup.select('#tab-description > p:nth-child(3)')[0].text+ \"\\\"\"  #so that the leading 0 remains intact\n",
    "            except:\n",
    "                pass\n",
    "            \n",
    "            try:\n",
    "                egp = soup.select('div.product_detail.row>div:nth-child(2)>div>div:nth-child(2)>p>ins>span')[0].text\n",
    "                egp = unicodedata.normalize(\"NFKD\",egp) \n",
    "                #unicodedata.normalize will return normal form of the string like it'll remove any characters such as line breaks etc\n",
    "            except:\n",
    "                pass\n",
    "            \n",
    "            lis = [title,isbn,egp]\n",
    "            writer_file.writerow(lis)\n",
    "            \n",
    "            time.sleep(3)"
   ]
  },
  {
   "cell_type": "code",
   "execution_count": 106,
   "id": "c94f0d1b",
   "metadata": {},
   "outputs": [],
   "source": [
    "with open ('test.csv','w') as file:\n",
    "    writer_file = writer(file)\n",
    "    \n",
    "    res = requests.get('https://nileusedbooks.com/product/a-graded-secondary-school-english-course-2/')\n",
    "    soup = BeautifulSoup(res.text,'html.parser')\n",
    "\n",
    "\n",
    "    title = soup.select('div.product_detail.row > div.col-lg-6.col-md-6.col-sm-12.col-xs-12.clear_xs > div > h1')[0].text\n",
    "\n",
    "    \n",
    "\n",
    "    egp = soup.select('div.product_detail.row>div:nth-child(2)>div>div:nth-child(2)>p>ins>span')[0].text\n",
    "    egp = unicodedata.normalize(\"NFKD\",egp) \n",
    "    \n",
    "    writer_file.writerow([title,egp])"
   ]
  }
 ],
 "metadata": {
  "kernelspec": {
   "display_name": "Python 3 (ipykernel)",
   "language": "python",
   "name": "python3"
  },
  "language_info": {
   "codemirror_mode": {
    "name": "ipython",
    "version": 3
   },
   "file_extension": ".py",
   "mimetype": "text/x-python",
   "name": "python",
   "nbconvert_exporter": "python",
   "pygments_lexer": "ipython3",
   "version": "3.9.7"
  }
 },
 "nbformat": 4,
 "nbformat_minor": 5
}
