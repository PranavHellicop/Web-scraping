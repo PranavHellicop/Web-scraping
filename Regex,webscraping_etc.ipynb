{
 "cells": [
  {
   "cell_type": "code",
   "execution_count": 1,
   "id": "057d88f8",
   "metadata": {},
   "outputs": [],
   "source": [
    "import re\n",
    "import pandas as pd\n",
    "import numpy as np\n",
    "import warnings\n",
    "warnings.filterwarnings('ignore')\n",
    "\n",
    "pd.set_option('display.max_columns', None)\n",
    "pd.set_option('display.expand_frame_repr', False)\n",
    "pd.set_option('max_colwidth', -1)"
   ]
  },
  {
   "cell_type": "code",
   "execution_count": 2,
   "id": "d7706dc3",
   "metadata": {},
   "outputs": [],
   "source": [
    "import warnings\n",
    "warnings.filterwarnings('ignore')\n",
    "\n",
    "#to display all rows columns \n",
    "pd.set_option('display.max_rows', None)\n",
    "pd.set_option('display.max_columns', None)  \n",
    "pd.set_option('display.expand_frame_repr', False)\n",
    "pd.set_option('max_colwidth', -1)"
   ]
  },
  {
   "cell_type": "code",
   "execution_count": null,
   "id": "1741d683",
   "metadata": {},
   "outputs": [],
   "source": [
    "# df = pd.read_csv('deliveries_updated.csv')\n",
    "df = pd.read_csv('deliveries.csv')"
   ]
  },
  {
   "cell_type": "code",
   "execution_count": null,
   "id": "b99b4517",
   "metadata": {},
   "outputs": [],
   "source": [
    "df.head()"
   ]
  },
  {
   "cell_type": "code",
   "execution_count": null,
   "id": "360ce8d3",
   "metadata": {},
   "outputs": [],
   "source": [
    "df.columns"
   ]
  },
  {
   "cell_type": "code",
   "execution_count": null,
   "id": "f0fa6292",
   "metadata": {},
   "outputs": [],
   "source": [
    "df.dtypes"
   ]
  },
  {
   "cell_type": "code",
   "execution_count": null,
   "id": "59a6f774",
   "metadata": {},
   "outputs": [],
   "source": [
    "# Create & Populate column - isNoRun\n",
    "# check for extras - isWide, isNoball, Byes, Legbyes\n",
    "# check for batsman_runs\n",
    "\n",
    "def populate_isnorun(batsman_runs, isWide, isNoBall, Byes, LegByes):\n",
    "    if batsman_runs + isWide + isNoBall + Byes + LegByes == 0:\n",
    "        return 1\n",
    "    else:\n",
    "        return 0"
   ]
  },
  {
   "cell_type": "code",
   "execution_count": null,
   "id": "010fc310",
   "metadata": {},
   "outputs": [],
   "source": [
    "# df['isNoRun'] = df.apply(lambda x: populate_isnorun(x['batsman_runs'], x['isWide'], x['isNoBall'], x['Byes'], x['LegByes']), axis = 1)\n",
    "df['isNoRun'] = df.apply(lambda x: populate_isnorun(x['batsman_runs'], x['wide_runs'], x['noball_runs'], x['bye_runs'], x['legbye_runs']), axis = 1)"
   ]
  },
  {
   "cell_type": "code",
   "execution_count": null,
   "id": "d2e4d2fb",
   "metadata": {},
   "outputs": [],
   "source": [
    "df.head()"
   ]
  },
  {
   "cell_type": "code",
   "execution_count": null,
   "id": "7b6e9852",
   "metadata": {},
   "outputs": [],
   "source": [
    "# pick a sample match\n",
    "df1 = df[df['match_id'] == 1]"
   ]
  },
  {
   "cell_type": "code",
   "execution_count": null,
   "id": "8c2a8715",
   "metadata": {},
   "outputs": [],
   "source": [
    "df1"
   ]
  },
  {
   "cell_type": "code",
   "execution_count": null,
   "id": "69d46c12",
   "metadata": {},
   "outputs": [],
   "source": [
    "new_df = pd.DataFrame(df1.groupby(['match_id', 'bowler', 'over']).apply(lambda x: list(x['isNoRun'])))"
   ]
  },
  {
   "cell_type": "code",
   "execution_count": null,
   "id": "e498a138",
   "metadata": {},
   "outputs": [],
   "source": [
    "new_df"
   ]
  },
  {
   "cell_type": "code",
   "execution_count": null,
   "id": "28b8c891",
   "metadata": {},
   "outputs": [],
   "source": [
    "new_df.reset_index(inplace = True)\n",
    "new_df = new_df.rename(columns={0:'over_outcomes'})"
   ]
  },
  {
   "cell_type": "code",
   "execution_count": null,
   "id": "927a1fe1",
   "metadata": {},
   "outputs": [],
   "source": [
    "new_df.head()"
   ]
  },
  {
   "cell_type": "code",
   "execution_count": null,
   "id": "21c7d0cc",
   "metadata": {},
   "outputs": [],
   "source": [
    "ls = [1, 0, 1, 1, 1, 1]\n",
    "ls = [str(i) for i in ls]\n",
    "\n",
    "pattern = r'(1111)'\n",
    "text = ''.join(ls)"
   ]
  },
  {
   "cell_type": "code",
   "execution_count": null,
   "id": "1e12d4e3",
   "metadata": {},
   "outputs": [],
   "source": [
    "pattern, text"
   ]
  },
  {
   "cell_type": "code",
   "execution_count": null,
   "id": "22d1287a",
   "metadata": {},
   "outputs": [],
   "source": [
    "left = 0\n",
    "count = 0\n",
    "\n",
    "while True:\n",
    "    match = re.search(pattern, text[left:])\n",
    "    if not match:\n",
    "        break\n",
    "    count += 1\n",
    "    left += match.start() + 1\n",
    "    \n",
    "print(count)"
   ]
  },
  {
   "cell_type": "code",
   "execution_count": null,
   "id": "38555709",
   "metadata": {},
   "outputs": [],
   "source": [
    "def consective_n_val_in_a_list(ls, pattern):\n",
    "    ls = [str(i) for i in ls]\n",
    "\n",
    "#     pattern = r'(111)'\n",
    "    text = ''.join(ls)\n",
    "    \n",
    "    left = 0\n",
    "    count = 0\n",
    "\n",
    "    while True:\n",
    "        match = re.search(pattern, text[left:])\n",
    "        if not match:\n",
    "            break\n",
    "        count += 1\n",
    "        left += match.start() + 1\n",
    "\n",
    "    return count"
   ]
  },
  {
   "cell_type": "code",
   "execution_count": null,
   "id": "ba1eee39",
   "metadata": {},
   "outputs": [],
   "source": [
    "new_df['3dots'] = new_df['over_outcomes'].apply(lambda x: consective_n_val_in_a_list(x, r'(111)'))"
   ]
  },
  {
   "cell_type": "code",
   "execution_count": null,
   "id": "4469b9e6",
   "metadata": {},
   "outputs": [],
   "source": [
    "new_df['4dots'] = new_df['over_outcomes'].apply(lambda x: consective_n_val_in_a_list(x, r'(1111)'))"
   ]
  },
  {
   "cell_type": "code",
   "execution_count": null,
   "id": "10d42884",
   "metadata": {},
   "outputs": [],
   "source": [
    "new_df"
   ]
  },
  {
   "cell_type": "markdown",
   "id": "b43cc82a",
   "metadata": {},
   "source": [
    "# REGEX"
   ]
  },
  {
   "cell_type": "code",
   "execution_count": null,
   "id": "f531dd37",
   "metadata": {},
   "outputs": [],
   "source": [
    "def you(name):\n",
    "    print('hello '+name)"
   ]
  },
  {
   "cell_type": "code",
   "execution_count": null,
   "id": "401a1841",
   "metadata": {},
   "outputs": [],
   "source": [
    "you1 = you('Johnny')"
   ]
  },
  {
   "cell_type": "code",
   "execution_count": null,
   "id": "c0dd5386",
   "metadata": {},
   "outputs": [],
   "source": [
    "print('hello' ,'world', 'hello', sep = ',')\n"
   ]
  },
  {
   "cell_type": "code",
   "execution_count": null,
   "id": "bf42c920",
   "metadata": {},
   "outputs": [],
   "source": [
    "101-345-5044"
   ]
  },
  {
   "cell_type": "code",
   "execution_count": null,
   "id": "431fa7ae",
   "metadata": {},
   "outputs": [],
   "source": [
    "def matchthepattern(text):\n",
    "    if len(text)!=12 :\n",
    "        return False\n",
    "    for i in range(0,3) :\n",
    "        if text[i].isdecimal() != True :\n",
    "            return False\n",
    "    if text[3] != '-':\n",
    "        return False\n",
    "    for i in range(4,7) :\n",
    "        if text[i].isdecimal() != True :\n",
    "            return False\n",
    "    if text[7] != '-':\n",
    "        return False\n",
    "    for i in range(8,12) :\n",
    "        if text[i].isdecimal() != True :\n",
    "            return False\n",
    "    return True"
   ]
  },
  {
   "cell_type": "code",
   "execution_count": null,
   "id": "949978be",
   "metadata": {},
   "outputs": [],
   "source": [
    "print('415-555-4242 is a phone number:')\n",
    "print(matchthepattern('415-555-4242'))\n",
    "print('Moshi moshi is a phone number:')\n",
    "print(matchthepattern('Moshi moshi'))"
   ]
  },
  {
   "cell_type": "code",
   "execution_count": null,
   "id": "176b24cb",
   "metadata": {},
   "outputs": [],
   "source": [
    "def isphonenumber(text):\n",
    "    for i in range(len(text)):\n",
    "        chunk = text[i:i+12]\n",
    "        if matchthepattern(chunk):\n",
    "            print('Phone Number is Found:', chunk)\n",
    "        \n"
   ]
  },
  {
   "cell_type": "code",
   "execution_count": null,
   "id": "7b8ec758",
   "metadata": {},
   "outputs": [],
   "source": [
    "print(isphonenumber('i have a phone number which goes like 415-555 but the actual phone number is 415-555-4242. I know your phone number is 316-789-6754'))"
   ]
  },
  {
   "cell_type": "code",
   "execution_count": null,
   "id": "8b1481b9",
   "metadata": {},
   "outputs": [],
   "source": [
    "! pip install pyperclip"
   ]
  },
  {
   "cell_type": "code",
   "execution_count": null,
   "id": "c9eb06f1",
   "metadata": {},
   "outputs": [],
   "source": [
    "import re\n",
    "import pyperclip"
   ]
  },
  {
   "cell_type": "code",
   "execution_count": null,
   "id": "cfe1c005",
   "metadata": {},
   "outputs": [],
   "source": [
    "regexobj = re.compile(r'(\\(\\d\\d\\d\\)) (\\d\\d\\d-\\d\\d\\d\\d)')\n",
    "mo = regexobj.search('my phone number is (456) 567-8900')\n",
    "print(mo.group(1))"
   ]
  },
  {
   "cell_type": "code",
   "execution_count": null,
   "id": "213b89ec",
   "metadata": {},
   "outputs": [],
   "source": [
    "print('this is area code:', mo.group(1))\n",
    "print('this is phone number:', mo.group(2))"
   ]
  },
  {
   "cell_type": "code",
   "execution_count": null,
   "id": "693cb535",
   "metadata": {},
   "outputs": [],
   "source": [
    "mo.groups()"
   ]
  },
  {
   "cell_type": "code",
   "execution_count": null,
   "id": "8ca9de07",
   "metadata": {},
   "outputs": [],
   "source": [
    "regexobj= re.compile(r'(ha){3,5}?')\n",
    "string = regexobj.search('hahahahaha')\n",
    "string.group()"
   ]
  },
  {
   "cell_type": "code",
   "execution_count": null,
   "id": "cf1d477e",
   "metadata": {},
   "outputs": [],
   "source": [
    "regexobj = re.compile(r'(\\d\\d\\d)(\\s|-|\\.?)(\\d\\d\\d)')\n",
    "mo = regexobj.findall('I have good marks and my number is 312-457, also take a look at 456 908')\n",
    "mo"
   ]
  },
  {
   "cell_type": "code",
   "execution_count": null,
   "id": "ebc7bcc1",
   "metadata": {},
   "outputs": [],
   "source": [
    "mo[0]"
   ]
  },
  {
   "cell_type": "code",
   "execution_count": null,
   "id": "40472db4",
   "metadata": {},
   "outputs": [],
   "source": [
    "for groups in mo:\n",
    "    print(groups[0])"
   ]
  },
  {
   "cell_type": "code",
   "execution_count": null,
   "id": "440996cc",
   "metadata": {},
   "outputs": [],
   "source": [
    "regexobj = re.compile(r'''\n",
    "                      [a-zA-Z0-9])"
   ]
  },
  {
   "cell_type": "code",
   "execution_count": null,
   "id": "ad93c3fd",
   "metadata": {},
   "outputs": [],
   "source": [
    "lis = [('a','b','c'),('g',1,'h')]"
   ]
  },
  {
   "cell_type": "code",
   "execution_count": null,
   "id": "cc96063c",
   "metadata": {},
   "outputs": [],
   "source": [
    "lis[1]"
   ]
  },
  {
   "cell_type": "code",
   "execution_count": null,
   "id": "c3e8cb2d",
   "metadata": {},
   "outputs": [],
   "source": [
    "pyperclip.paste()"
   ]
  },
  {
   "cell_type": "code",
   "execution_count": null,
   "id": "c678191c",
   "metadata": {},
   "outputs": [],
   "source": [
    "regexph = re.compile(r'''(\n",
    "                     (\\d{3}|\\(\\d{3}\\))?        \n",
    "                     (\\s|-|\\.)?                \n",
    "                     (\\d{3})                  \n",
    "                     (\\s|-|\\.)                \n",
    "                     (\\d{4})                   \n",
    "                      )''',re.VERBOSE)"
   ]
  },
  {
   "cell_type": "code",
   "execution_count": null,
   "id": "a767f3e6",
   "metadata": {},
   "outputs": [],
   "source": [
    "text"
   ]
  },
  {
   "cell_type": "code",
   "execution_count": null,
   "id": "4155a4f4",
   "metadata": {},
   "outputs": [],
   "source": [
    "text = pyperclip.paste()"
   ]
  },
  {
   "cell_type": "code",
   "execution_count": null,
   "id": "ae839c76",
   "metadata": {},
   "outputs": [],
   "source": [
    "match = []\n",
    "for group in regexph.findall(text):\n",
    "    phno = '-'.join([group[1],group[3],group[5]])\n",
    "    match.append(phno)"
   ]
  },
  {
   "cell_type": "code",
   "execution_count": null,
   "id": "94b24f10",
   "metadata": {},
   "outputs": [],
   "source": [
    "match"
   ]
  },
  {
   "cell_type": "code",
   "execution_count": null,
   "id": "f42552dc",
   "metadata": {},
   "outputs": [],
   "source": [
    "regexmail = re.compile(r'''(\n",
    "                       [a-zA-Z0-9._%$]+\n",
    "                       \\@\n",
    "                       [a-zA-Z0-9]+\n",
    "                       (\\.[a-zA-Z]{2,4})\n",
    "                       )''',re.VERBOSE)"
   ]
  },
  {
   "cell_type": "code",
   "execution_count": null,
   "id": "ff5c57a2",
   "metadata": {},
   "outputs": [],
   "source": [
    "for group in regexmail.findall(text):\n",
    "    match.append(group[0])\n"
   ]
  },
  {
   "cell_type": "code",
   "execution_count": null,
   "id": "34d7408b",
   "metadata": {},
   "outputs": [],
   "source": [
    "if len(match)>=0:\n",
    "    pyperclip.copy('\\n'.join(match))\n",
    "    print('\\n'.join(match))"
   ]
  },
  {
   "cell_type": "code",
   "execution_count": null,
   "id": "df954ddf",
   "metadata": {},
   "outputs": [],
   "source": [
    "text = pyperclip.paste()"
   ]
  },
  {
   "cell_type": "code",
   "execution_count": null,
   "id": "9f0a24aa",
   "metadata": {},
   "outputs": [],
   "source": [
    "text"
   ]
  },
  {
   "cell_type": "code",
   "execution_count": null,
   "id": "65798d5d",
   "metadata": {},
   "outputs": [],
   "source": [
    "http://pageplay.com  http://www.google.com"
   ]
  },
  {
   "cell_type": "code",
   "execution_count": null,
   "id": "f54b711e",
   "metadata": {},
   "outputs": [],
   "source": [
    "regexdomain = re.compile(r'((http:\\/\\/|https:\\/\\/)(www\\.)?[a-zA-Z0-9]+\\.[a-z/\\-]+)')   "
   ]
  },
  {
   "cell_type": "code",
   "execution_count": null,
   "id": "9fbc1474",
   "metadata": {},
   "outputs": [],
   "source": [
    "regexdomain.findall(text)"
   ]
  },
  {
   "cell_type": "code",
   "execution_count": null,
   "id": "bc16830d",
   "metadata": {},
   "outputs": [],
   "source": [
    "regex = re.compile(r'bat(wo)*man')\n",
    "mo = regex.search('I am a batman')\n",
    "mo.group()"
   ]
  },
  {
   "cell_type": "code",
   "execution_count": null,
   "id": "11ec8284",
   "metadata": {},
   "outputs": [],
   "source": [
    "(such as 3/14/2015, 03-14-2015,and 2015/3/14) "
   ]
  },
  {
   "cell_type": "code",
   "execution_count": null,
   "id": "15cc8670",
   "metadata": {},
   "outputs": [],
   "source": [
    "text = pyperclip.paste()"
   ]
  },
  {
   "cell_type": "code",
   "execution_count": null,
   "id": "049bcd57",
   "metadata": {},
   "outputs": [],
   "source": [
    "text"
   ]
  },
  {
   "cell_type": "code",
   "execution_count": null,
   "id": "a6a99df4",
   "metadata": {},
   "outputs": [],
   "source": [
    "regexdate = re.compile(r'(([0-9]{1,4})[/\\-]+([0-9])+[/\\-]+([0-9]{2,4}))')"
   ]
  },
  {
   "cell_type": "code",
   "execution_count": null,
   "id": "b56ececd",
   "metadata": {},
   "outputs": [],
   "source": [
    "regexdate.sub('14-03-2015',text)"
   ]
  },
  {
   "cell_type": "code",
   "execution_count": null,
   "id": "33548b0b",
   "metadata": {},
   "outputs": [],
   "source": [
    "regexdate.findall(text)"
   ]
  },
  {
   "cell_type": "code",
   "execution_count": null,
   "id": "48838e10",
   "metadata": {},
   "outputs": [],
   "source": [
    "text"
   ]
  },
  {
   "cell_type": "code",
   "execution_count": null,
   "id": "b168f16e",
   "metadata": {},
   "outputs": [],
   "source": [
    "text = pyperclip.paste()"
   ]
  },
  {
   "cell_type": "code",
   "execution_count": null,
   "id": "532d276d",
   "metadata": {},
   "outputs": [],
   "source": [
    "regexname = re.compile(r'([A-Z]{1}[a-z]+[A-Z]?[a-z]+\\sNakamoto)')"
   ]
  },
  {
   "cell_type": "code",
   "execution_count": null,
   "id": "a0879c90",
   "metadata": {},
   "outputs": [],
   "source": [
    "regexname.findall(text)"
   ]
  },
  {
   "cell_type": "code",
   "execution_count": null,
   "id": "4cf44dc2",
   "metadata": {},
   "outputs": [],
   "source": [
    "text = pyperclip.paste()"
   ]
  },
  {
   "cell_type": "code",
   "execution_count": null,
   "id": "b0be100d",
   "metadata": {},
   "outputs": [],
   "source": [
    "regexob = re.compile(r'([A-Z]+[a-z]*\\s[A-Z]*[a-z]*\\s[^F][A-Z]*[a-z]*\\.)')"
   ]
  },
  {
   "cell_type": "code",
   "execution_count": null,
   "id": "ce6a3fdf",
   "metadata": {},
   "outputs": [],
   "source": [
    "regexob.findall(text)"
   ]
  },
  {
   "cell_type": "markdown",
   "id": "2098c243",
   "metadata": {},
   "source": [
    "Write a function that uses regular expressions to make sure the password \n",
    "string it is passed is strong. A strong password is defined as one that is at \n",
    "least eight characters long, contains both uppercase and lowercase characters, and has at least one digit. You may need to test the string against multiple regex patterns to validate its strength"
   ]
  },
  {
   "cell_type": "code",
   "execution_count": null,
   "id": "b0b1d42b",
   "metadata": {},
   "outputs": [],
   "source": [
    "regexobj = re.compile(r'[a-zA-Z/\\-_@&#?+!]*[0-9]+')"
   ]
  },
  {
   "cell_type": "markdown",
   "id": "5395a58f",
   "metadata": {},
   "source": [
    "# Password Strength Detector"
   ]
  },
  {
   "cell_type": "code",
   "execution_count": null,
   "id": "bb555e63",
   "metadata": {},
   "outputs": [],
   "source": [
    "def passdetector(string):\n",
    "    regexobj = re.compile(r'([a-zA-Z/\\-_@&#?+!]*[0-9]+)')\n",
    "    if len(string)<8 :\n",
    "        return 'Password too short'\n",
    "    if regexobj.match(string)!=None:\n",
    "        return 'Your password is strong!!'\n",
    "    else:\n",
    "        return 'Your password is weak'"
   ]
  },
  {
   "cell_type": "code",
   "execution_count": null,
   "id": "70076259",
   "metadata": {},
   "outputs": [],
   "source": [
    "passdetector('bulls1')"
   ]
  },
  {
   "cell_type": "code",
   "execution_count": null,
   "id": "eb922b40",
   "metadata": {},
   "outputs": [],
   "source": [
    "import os"
   ]
  },
  {
   "cell_type": "code",
   "execution_count": null,
   "id": "5803f6c6",
   "metadata": {},
   "outputs": [],
   "source": [
    "os.path.join('pub','doc','game')"
   ]
  },
  {
   "cell_type": "code",
   "execution_count": null,
   "id": "976e9bfe",
   "metadata": {},
   "outputs": [],
   "source": [
    "os.getcwd()"
   ]
  },
  {
   "cell_type": "code",
   "execution_count": null,
   "id": "bc6e2250",
   "metadata": {},
   "outputs": [],
   "source": [
    "text = pyperclip.paste()"
   ]
  },
  {
   "cell_type": "code",
   "execution_count": null,
   "id": "b2863673",
   "metadata": {},
   "outputs": [],
   "source": [
    "regexpl = re.compile(r'([A-Z][a-z]+\\s[A-Z][a-z]+)')"
   ]
  },
  {
   "cell_type": "code",
   "execution_count": null,
   "id": "738e34ee",
   "metadata": {},
   "outputs": [],
   "source": [
    "for names in regexpl.findall(text):\n",
    "    if names[0]=='P':\n",
    "        print(names)"
   ]
  },
  {
   "cell_type": "code",
   "execution_count": null,
   "id": "f82a9f8b",
   "metadata": {},
   "outputs": [],
   "source": [
    "os.path.isabs(os.path.abspath('.'))"
   ]
  },
  {
   "cell_type": "code",
   "execution_count": null,
   "id": "33880671",
   "metadata": {},
   "outputs": [],
   "source": [
    "cal = 'C:\\\\Windows\\\\System32\\\\calc.exe'"
   ]
  },
  {
   "cell_type": "code",
   "execution_count": null,
   "id": "4aa91f06",
   "metadata": {},
   "outputs": [],
   "source": [
    "os.path.dirname(os.getcwd())"
   ]
  },
  {
   "cell_type": "code",
   "execution_count": null,
   "id": "f5f4c069",
   "metadata": {},
   "outputs": [],
   "source": [
    "os.path.basename(cal)"
   ]
  },
  {
   "cell_type": "code",
   "execution_count": null,
   "id": "a23e3daf",
   "metadata": {},
   "outputs": [],
   "source": [
    "os.path.split(os.getcwd())"
   ]
  },
  {
   "cell_type": "code",
   "execution_count": null,
   "id": "8d2edc2a",
   "metadata": {},
   "outputs": [],
   "source": [
    "cal.split(sep = os.path.sep)"
   ]
  },
  {
   "cell_type": "code",
   "execution_count": null,
   "id": "c7916d09",
   "metadata": {},
   "outputs": [],
   "source": [
    "os.listdir('D:\\Cricket Archives')"
   ]
  },
  {
   "cell_type": "code",
   "execution_count": null,
   "id": "0df6686f",
   "metadata": {},
   "outputs": [],
   "source": [
    "total = 0\n",
    "for files in os.listdir('D:\\Cricket Archives'):\n",
    "    total += os.path.getsize(os.path.join('D:\\Cricket Archives',files))\n",
    "print(total)"
   ]
  },
  {
   "cell_type": "code",
   "execution_count": null,
   "id": "635945e2",
   "metadata": {},
   "outputs": [],
   "source": [
    "file = os.path.join('D:\\Cricket Archives','it delh,madras,dhanbad MBA.pdf')"
   ]
  },
  {
   "cell_type": "code",
   "execution_count": null,
   "id": "b667a591",
   "metadata": {},
   "outputs": [],
   "source": [
    "os.path.getsize(file)"
   ]
  },
  {
   "cell_type": "code",
   "execution_count": null,
   "id": "3a8b4cae",
   "metadata": {},
   "outputs": [],
   "source": [
    "file = open('D:\\\\Cricket Archives\\\\IPL2022.txt')"
   ]
  },
  {
   "cell_type": "code",
   "execution_count": null,
   "id": "b335b22c",
   "metadata": {},
   "outputs": [],
   "source": [
    "content = file.read()"
   ]
  },
  {
   "cell_type": "code",
   "execution_count": null,
   "id": "ee65de56",
   "metadata": {},
   "outputs": [],
   "source": [
    "content"
   ]
  },
  {
   "cell_type": "code",
   "execution_count": null,
   "id": "d6363495",
   "metadata": {},
   "outputs": [],
   "source": [
    "player = open('players.txt','w')"
   ]
  },
  {
   "cell_type": "code",
   "execution_count": null,
   "id": "a0e7b5ce",
   "metadata": {},
   "outputs": [],
   "source": [
    "player.write(r'Virat Kohli is the 1st player!\\n')"
   ]
  },
  {
   "cell_type": "code",
   "execution_count": null,
   "id": "3234ad70",
   "metadata": {},
   "outputs": [],
   "source": [
    "player.close()"
   ]
  },
  {
   "cell_type": "code",
   "execution_count": null,
   "id": "698296da",
   "metadata": {},
   "outputs": [],
   "source": [
    "player = open('players.txt','a')\n",
    "player.write('MS Dhoni is also a great player!')\n",
    "player.close()"
   ]
  },
  {
   "cell_type": "code",
   "execution_count": null,
   "id": "d804c803",
   "metadata": {},
   "outputs": [],
   "source": [
    "player = open('players.txt','r')\n",
    "content = player.readlines()\n",
    "player.close()"
   ]
  },
  {
   "cell_type": "code",
   "execution_count": null,
   "id": "dbd0d0f3",
   "metadata": {},
   "outputs": [],
   "source": [
    "content"
   ]
  },
  {
   "cell_type": "code",
   "execution_count": null,
   "id": "e9dddc79",
   "metadata": {},
   "outputs": [],
   "source": [
    "os.path.getsize('.\\\\players.txt')"
   ]
  },
  {
   "cell_type": "code",
   "execution_count": null,
   "id": "bd6f055a",
   "metadata": {},
   "outputs": [],
   "source": [
    "os.listdir('.')"
   ]
  },
  {
   "cell_type": "markdown",
   "id": "524117b1",
   "metadata": {},
   "source": [
    "Creates 35 different quizzes.\n",
    "•\t Creates 50 multiple-choice questions for each quiz, in random order.\n",
    "•\t Provides the correct answer and three random wrong answers for each \n",
    "question, in random order.\n",
    "•\t Writes the quizzes to 35 text files.\n",
    "•\t Writes the answer keys to 35 text files.\n",
    "This means the code will need to do the following:\n",
    "•\t Store the states and their capitals in a dictionary.\n",
    "•\t Call open(), write(), and close() for the quiz and answer key text files.\n",
    "•\t Use random.shuffle() to randomize the order of the questions and \n",
    "multiple-choice options"
   ]
  },
  {
   "cell_type": "code",
   "execution_count": null,
   "id": "dbedc16d",
   "metadata": {},
   "outputs": [],
   "source": [
    "import random"
   ]
  },
  {
   "cell_type": "code",
   "execution_count": null,
   "id": "2067d703",
   "metadata": {},
   "outputs": [],
   "source": []
  },
  {
   "cell_type": "code",
   "execution_count": null,
   "id": "44456d03",
   "metadata": {},
   "outputs": [],
   "source": [
    "capitals = {'Alabama': 'Montgomery', 'Alaska': 'Juneau', 'Arizona': 'Phoenix', \n",
    "'Arkansas': 'Little Rock', 'California': 'Sacramento', 'Colorado': 'Denver', \n",
    "'Connecticut': 'Hartford', 'Delaware': 'Dover', 'Florida': 'Tallahassee', \n",
    "'Georgia': 'Atlanta', 'Hawaii': 'Honolulu', 'Idaho': 'Boise', 'Illinois': \n",
    "'Springfield', 'Indiana': 'Indianapolis', 'Iowa': 'Des Moines', 'Kansas': \n",
    "'Topeka', 'Kentucky': 'Frankfort', 'Louisiana': 'Baton Rouge', 'Maine': \n",
    "'Augusta', 'Maryland': 'Annapolis', 'Massachusetts': 'Boston', 'Michigan': \n",
    "'Lansing', 'Minnesota': 'Saint Paul', 'Mississippi': 'Jackson', 'Missouri': \n",
    "'Jefferson City', 'Montana': 'Helena', 'Nebraska': 'Lincoln', 'Nevada': \n",
    "'Carson City', 'New Hampshire': 'Concord', 'New Jersey': 'Trenton', 'New Mexico': 'Santa Fe', 'New York': 'Albany', 'North Carolina': 'Raleigh', \n",
    "'North Dakota': 'Bismarck', 'Ohio': 'Columbus', 'Oklahoma': 'Oklahoma City', \n",
    "'Oregon': 'Salem', 'Pennsylvania': 'Harrisburg', 'Rhode Island': 'Providence', \n",
    "'South Carolina': 'Columbia', 'South Dakota': 'Pierre', 'Tennessee': \n",
    "'Nashville', 'Texas': 'Austin', 'Utah': 'Salt Lake City', 'Vermont': \n",
    "'Montpelier', 'Virginia': 'Richmond', 'Washington': 'Olympia', 'West Virginia': 'Charleston', 'Wisconsin': 'Madison', 'Wyoming': 'Cheyenne'}"
   ]
  },
  {
   "cell_type": "code",
   "execution_count": null,
   "id": "bb752a8f",
   "metadata": {},
   "outputs": [],
   "source": [
    "capitals[list(capitals.keys())[0]]"
   ]
  },
  {
   "cell_type": "code",
   "execution_count": null,
   "id": "a6914191",
   "metadata": {},
   "outputs": [],
   "source": [
    "for i in capitals.items():\n",
    "    print(i)"
   ]
  },
  {
   "cell_type": "code",
   "execution_count": null,
   "id": "c203a844",
   "metadata": {},
   "outputs": [],
   "source": [
    "type(list(capitals.values()))"
   ]
  },
  {
   "cell_type": "code",
   "execution_count": null,
   "id": "2b86da9a",
   "metadata": {},
   "outputs": [],
   "source": [
    "random.shuffle(x)"
   ]
  },
  {
   "cell_type": "code",
   "execution_count": null,
   "id": "61587aaf",
   "metadata": {},
   "outputs": [],
   "source": [
    "x[0:3]"
   ]
  },
  {
   "cell_type": "code",
   "execution_count": null,
   "id": "3c0cfc0d",
   "metadata": {},
   "outputs": [],
   "source": [
    "print('a', 'abc' '\\n' + 'b','bca')"
   ]
  },
  {
   "cell_type": "code",
   "execution_count": null,
   "id": "90678874",
   "metadata": {},
   "outputs": [],
   "source": [
    "x = list(capitals.values())"
   ]
  },
  {
   "cell_type": "code",
   "execution_count": null,
   "id": "d3b2b048",
   "metadata": {},
   "outputs": [],
   "source": [
    "for i in range(1,36):\n",
    "    quiz = open('file' +str(i)+'.txt','a')\n",
    "    random.shuffle(capitals)\n",
    "    for j,k in capitals.items():\n",
    "        x = list(capitals.values())\n",
    "        random.shuffle(x)\n",
    "        op = [k]+x[0:3]\n",
    "        random.shuffle(op)\n",
    "        content = quiz.write('What is the capital of ' + j + '?\\n' + op[0]+' '+op[1]+' '+op[2]+' '+op[3] + '\\n'+'\\n') \n",
    "    \n",
    "    quiz.close()\n",
    "        "
   ]
  },
  {
   "cell_type": "code",
   "execution_count": null,
   "id": "54028272",
   "metadata": {},
   "outputs": [],
   "source": [
    "lis = list(capitals.keys())"
   ]
  },
  {
   "cell_type": "code",
   "execution_count": null,
   "id": "7b93dd20",
   "metadata": {},
   "outputs": [],
   "source": [
    "random.shuffle(lis)"
   ]
  },
  {
   "cell_type": "code",
   "execution_count": null,
   "id": "29fb0c5f",
   "metadata": {},
   "outputs": [],
   "source": [
    "lis"
   ]
  },
  {
   "cell_type": "code",
   "execution_count": null,
   "id": "9460e2b2",
   "metadata": {},
   "outputs": [],
   "source": [
    "quiz.close()"
   ]
  },
  {
   "cell_type": "code",
   "execution_count": null,
   "id": "4fb1c5d3",
   "metadata": {},
   "outputs": [],
   "source": [
    "lis = ['s','b','c']"
   ]
  },
  {
   "cell_type": "code",
   "execution_count": null,
   "id": "1d253497",
   "metadata": {},
   "outputs": [],
   "source": [
    "lis.index('c')"
   ]
  },
  {
   "cell_type": "code",
   "execution_count": null,
   "id": "7c9ebc27",
   "metadata": {},
   "outputs": [],
   "source": [
    "for i in range(1,36):\n",
    "    quiz = open('Quiz%s.txt' %i,'w')\n",
    "    quiz.write('Name:\\n\\n'+'Roll:\\n\\n'+'Date:\\n\\n')\n",
    "    quiz.write(\" \"*30 + 'State-Capital Quiz (Set-%s)' %i +'\\n\\n')\n",
    "    \n",
    "    states = list(capitals.keys())\n",
    "    random.shuffle(states)\n",
    "    \n",
    "    \n",
    "    for j in range(50):\n",
    "        quiz.write('%s.'%(j+1) +' '+ 'What is the capital of %s?'%states[j] + '\\n')\n",
    "        correct = capitals[states[j]]\n",
    "        wrong = list(capitals.values())\n",
    "        del wrong[wrong.index(correct)]\n",
    "        wrong = random.sample(wrong,3)\n",
    "        options = wrong +[correct]\n",
    "        random.shuffle(options)\n",
    "        quiz.write(' A. %s\\n B. %s\\n C. %s\\n D. %s\\n\\n' %(options[0],options[1],options[2],options[3]))\n",
    "    quiz.close()"
   ]
  },
  {
   "cell_type": "code",
   "execution_count": null,
   "id": "907758e6",
   "metadata": {},
   "outputs": [],
   "source": [
    "for i in range(1):\n",
    "    print('a:\\n\\n'+'b:')"
   ]
  },
  {
   "cell_type": "markdown",
   "id": "d329b47f",
   "metadata": {},
   "source": [
    "# Program that searches for specified words in a file and replaces it and saves the modified string in a new file "
   ]
  },
  {
   "cell_type": "code",
   "execution_count": null,
   "id": "7bbc9075",
   "metadata": {},
   "outputs": [],
   "source": [
    "import re"
   ]
  },
  {
   "cell_type": "code",
   "execution_count": null,
   "id": "9f62f2a4",
   "metadata": {},
   "outputs": [],
   "source": [
    "madlib = open('Madlibs.txt','r')\n",
    "content = madlib.read()\n",
    "regexob = re.compile(r'(ADJECTIVE|NOUN|VERB)')\n",
    "mo = regexob.findall(content)\n",
    "madlib.close()\n",
    "for i in mo:\n",
    "    print('Enter %s :' %i)\n",
    "    inp = input()\n",
    "    inpob = re.compile(i)\n",
    "    content = inpob.sub('%s'%inp,content)\n",
    "\n",
    "print(content)\n",
    "newfile = open('modified.txt','w')\n",
    "con = newfile.write(content)\n",
    "newfile.close()"
   ]
  },
  {
   "cell_type": "markdown",
   "id": "b34e18b9",
   "metadata": {},
   "source": [
    "# Program to search through a folder and find those line(s) which matches the user provided regex pattern "
   ]
  },
  {
   "cell_type": "code",
   "execution_count": null,
   "id": "7ec95531",
   "metadata": {},
   "outputs": [],
   "source": [
    "import glob\n",
    "import re\n",
    "import os"
   ]
  },
  {
   "cell_type": "code",
   "execution_count": null,
   "id": "a1f76450",
   "metadata": {},
   "outputs": [],
   "source": [
    "print('Please enter the regex pattern: ')\n",
    "inp = input()\n",
    "for file in glob.glob(os.getcwd()+'\\*.txt'):\n",
    "    openfile= open(file,'r')\n",
    "    textfile = openfile.read()\n",
    "    regexobj = re.compile(r'%s' %inp)\n",
    "    content = regexobj.search(textfile)\n",
    "    if content != None:\n",
    "        print(content.groups())\n",
    "    else:\n",
    "        print('No Match found')\n",
    "    openfile.close()"
   ]
  },
  {
   "cell_type": "code",
   "execution_count": null,
   "id": "94b4eb3a",
   "metadata": {},
   "outputs": [],
   "source": [
    "text = open('C:\\\\Users\\\\prana\\\\Madlibs.txt','r')"
   ]
  },
  {
   "cell_type": "code",
   "execution_count": null,
   "id": "491f0751",
   "metadata": {},
   "outputs": [],
   "source": [
    "text.read()"
   ]
  },
  {
   "cell_type": "code",
   "execution_count": null,
   "id": "4f3725cc",
   "metadata": {},
   "outputs": [],
   "source": [
    "import webbrowser\n",
    "import pyperclip\n",
    "import requests"
   ]
  },
  {
   "cell_type": "code",
   "execution_count": null,
   "id": "0110ddb1",
   "metadata": {},
   "outputs": [],
   "source": [
    "address = pyperclip.paste()"
   ]
  },
  {
   "cell_type": "code",
   "execution_count": null,
   "id": "e304718c",
   "metadata": {},
   "outputs": [],
   "source": [
    "webbrowser.open('https://www.google.com/maps/place/' +'dhanbad')"
   ]
  },
  {
   "cell_type": "code",
   "execution_count": null,
   "id": "1096882e",
   "metadata": {},
   "outputs": [],
   "source": [
    "import sys"
   ]
  },
  {
   "cell_type": "code",
   "execution_count": null,
   "id": "191f0319",
   "metadata": {},
   "outputs": [],
   "source": [
    "sys.argv"
   ]
  },
  {
   "cell_type": "code",
   "execution_count": null,
   "id": "d6e48792",
   "metadata": {},
   "outputs": [],
   "source": [
    "lis = ['https://www.thecricketmonthly.com/story/1321190/my-favourite-cricket-photo---a-young-sachin-tendulkar-leaves-a-ball-in-sydney-in-1992','https://regexr.com/']"
   ]
  },
  {
   "cell_type": "code",
   "execution_count": null,
   "id": "edaf4a60",
   "metadata": {},
   "outputs": [],
   "source": [
    "for links in lis:\n",
    "    webbrowser.open(links)"
   ]
  },
  {
   "cell_type": "code",
   "execution_count": null,
   "id": "9b1fd30b",
   "metadata": {},
   "outputs": [],
   "source": [
    "res = requests.get('http://inventwithpython.com/page_that_does_not_exist')"
   ]
  },
  {
   "cell_type": "code",
   "execution_count": null,
   "id": "acfd5f33",
   "metadata": {},
   "outputs": [],
   "source": [
    "res.status_code==requests.codes.ok"
   ]
  },
  {
   "cell_type": "code",
   "execution_count": null,
   "id": "1810bcdf",
   "metadata": {},
   "outputs": [],
   "source": [
    "try:\n",
    "    res.raise_for_status()\n",
    "except Exception as ex:\n",
    "    print('there was a problem: %s' %ex)"
   ]
  },
  {
   "cell_type": "code",
   "execution_count": null,
   "id": "c5ca10ad",
   "metadata": {},
   "outputs": [],
   "source": [
    "res = requests.get('https://automatetheboringstuff.com/files/rj.txt')"
   ]
  },
  {
   "cell_type": "code",
   "execution_count": null,
   "id": "153a5c1c",
   "metadata": {},
   "outputs": [],
   "source": [
    "res.raise_for_status"
   ]
  },
  {
   "cell_type": "code",
   "execution_count": null,
   "id": "af5f7a2c",
   "metadata": {},
   "outputs": [],
   "source": [
    "file = open('Romeo_Juliet.txt','wb')"
   ]
  },
  {
   "cell_type": "code",
   "execution_count": null,
   "id": "0fc85d2c",
   "metadata": {},
   "outputs": [],
   "source": [
    "for chunk in res.iter_content(100000):\n",
    "    file.write(chunk)\n"
   ]
  },
  {
   "cell_type": "code",
   "execution_count": null,
   "id": "75658670",
   "metadata": {},
   "outputs": [],
   "source": [
    "file.close()"
   ]
  },
  {
   "cell_type": "code",
   "execution_count": null,
   "id": "690705fa",
   "metadata": {},
   "outputs": [],
   "source": [
    "resn = requests.get('https://www.espncricinfo.com/ci/content/story/144221.html')"
   ]
  },
  {
   "cell_type": "code",
   "execution_count": null,
   "id": "6ecede7d",
   "metadata": {},
   "outputs": [],
   "source": [
    "resn.text"
   ]
  },
  {
   "cell_type": "markdown",
   "id": "504e2434",
   "metadata": {},
   "source": [
    "## BeautifulSoup and CSS Selector"
   ]
  },
  {
   "cell_type": "code",
   "execution_count": null,
   "id": "2223d46a",
   "metadata": {},
   "outputs": [],
   "source": [
    "import bs4\n",
    "import requests\n",
    "import webbrowser\n",
    "import os"
   ]
  },
  {
   "cell_type": "code",
   "execution_count": null,
   "id": "67a9f20b",
   "metadata": {},
   "outputs": [],
   "source": [
    "fi = open('example.html') #open a file from the current directory"
   ]
  },
  {
   "cell_type": "code",
   "execution_count": null,
   "id": "c76fde88",
   "metadata": {},
   "outputs": [],
   "source": [
    "fi.read()"
   ]
  },
  {
   "cell_type": "code",
   "execution_count": null,
   "id": "50a13e84",
   "metadata": {},
   "outputs": [],
   "source": [
    "bsobj = bs4.BeautifulSoup(fi.read()) #parse the html file using Beautifulsoup to get BeautifulSoup Object"
   ]
  },
  {
   "cell_type": "code",
   "execution_count": null,
   "id": "ce4774e9",
   "metadata": {},
   "outputs": [],
   "source": [
    "bsobj #Beautifulsoup object"
   ]
  },
  {
   "cell_type": "code",
   "execution_count": null,
   "id": "8df1b220",
   "metadata": {},
   "outputs": [],
   "source": [
    "element = bsobj.select('#author') #using CSS selector and BeautifulSoup object's select function we get list of all the matching elements"
   ]
  },
  {
   "cell_type": "code",
   "execution_count": null,
   "id": "752ef937",
   "metadata": {},
   "outputs": [],
   "source": [
    "element[0].getText() "
   ]
  },
  {
   "cell_type": "code",
   "execution_count": null,
   "id": "c6ccf7e2",
   "metadata": {},
   "outputs": [],
   "source": [
    "element[0].attrs #returns attribute and it's value as a dictionary"
   ]
  },
  {
   "cell_type": "code",
   "execution_count": null,
   "id": "d2c12b7b",
   "metadata": {},
   "outputs": [],
   "source": [
    "pelem = bsobj.select('p')"
   ]
  },
  {
   "cell_type": "code",
   "execution_count": null,
   "id": "9e483b0f",
   "metadata": {},
   "outputs": [],
   "source": [
    "len(pelem)"
   ]
  },
  {
   "cell_type": "code",
   "execution_count": null,
   "id": "a3489ab5",
   "metadata": {},
   "outputs": [],
   "source": [
    "pelem[0].getText()"
   ]
  },
  {
   "cell_type": "code",
   "execution_count": null,
   "id": "204e0391",
   "metadata": {},
   "outputs": [],
   "source": [
    "pelem[1].attrs"
   ]
  },
  {
   "cell_type": "code",
   "execution_count": null,
   "id": "657bf07c",
   "metadata": {},
   "outputs": [],
   "source": [
    "div class=\"yuRUbf\""
   ]
  },
  {
   "cell_type": "code",
   "execution_count": null,
   "id": "eb1fe324",
   "metadata": {},
   "outputs": [],
   "source": [
    "\n",
    "\n",
    "resp = requests.get('https://www.amazon.in/alm/storefront?almBrandId=ctnow&pf_rd_r=T2RMDCQ48NZG4GP8DSP0&pf_rd_p=dbcfb001-76fa-49bc-ada6-a13d343a1124')\n",
    "\n",
    "bsobj1 = bs4.BeautifulSoup(resp.text)\n",
    "\n",
    "elements = bsobj1.select('div.a-box-group standard-kepler-widget-product p13n-asin a[href]')"
   ]
  },
  {
   "cell_type": "code",
   "execution_count": null,
   "id": "61c7c93b",
   "metadata": {},
   "outputs": [],
   "source": [
    "elements"
   ]
  },
  {
   "cell_type": "code",
   "execution_count": null,
   "id": "3cacadec",
   "metadata": {},
   "outputs": [],
   "source": [
    "webbrowser.open('https://www.google.com/'+s)"
   ]
  },
  {
   "cell_type": "code",
   "execution_count": null,
   "id": "eec0835e",
   "metadata": {},
   "outputs": [],
   "source": [
    "bsobj1"
   ]
  },
  {
   "cell_type": "markdown",
   "id": "287d6dbe",
   "metadata": {},
   "source": [
    "# Loading the webcomic and downloading it "
   ]
  },
  {
   "cell_type": "code",
   "execution_count": null,
   "id": "675d8d93",
   "metadata": {},
   "outputs": [],
   "source": [
    "import bs4\n",
    "import requests\n",
    "import webbrowser\n",
    "import os"
   ]
  },
  {
   "cell_type": "code",
   "execution_count": null,
   "id": "082a099e",
   "metadata": {},
   "outputs": [],
   "source": [
    "os.makedirs('comics-xkcd',exist_ok = True)\n",
    "url = 'https://xkcd.com/1037/'\n",
    "\n",
    "while url.endswith('#')==False :\n",
    "    print('downloading url: %s' %url)\n",
    "    res = requests.get(url)\n",
    "    \n",
    "    res.raise_for_status\n",
    "    \n",
    "    soup = bs4.BeautifulSoup(res.text)\n",
    "    tag_obj = soup.select('#middleContainer>a')\n",
    "    try:\n",
    "        if tag_obj == []:\n",
    "            print('Could not find comics image, please try again')\n",
    "        else:\n",
    "            comic_link = tag_obj[1].get('href')\n",
    "    except:\n",
    "        pass\n",
    "    get_com = requests.get(comic_link)\n",
    "    get_com.raise_for_status\n",
    "    \n",
    "    \n",
    "    try:\n",
    "        \n",
    "        filename = open(os.path.join('comics-xkcd',os.path.basename(comic_link)),'wb')\n",
    "        for chunk in get_com.iter_content(100000):\n",
    "            print('downloading comic image: %s' %os.path.basename(comic_link) )\n",
    "            filename.write(chunk)\n",
    "        filename.close()   \n",
    "    except:\n",
    "        pass\n",
    "    \n",
    "    prev_url = soup.select('a[rel=\"prev\"]')[0]\n",
    "    url = 'https://xkcd.com'+ prev_url.get('href')"
   ]
  },
  {
   "cell_type": "code",
   "execution_count": null,
   "id": "93cb870a",
   "metadata": {},
   "outputs": [],
   "source": [
    "class=\"xl:ds-w-[730px]\""
   ]
  },
  {
   "cell_type": "markdown",
   "id": "57d2a1f6",
   "metadata": {},
   "source": [
    "# Dowloading Book Images from Flipkart"
   ]
  },
  {
   "cell_type": "code",
   "execution_count": null,
   "id": "35a7e580",
   "metadata": {},
   "outputs": [],
   "source": [
    "url = 'https://www.flipkart.com/search?q=books&otracker=search&otracker1=search&marketplace=FLIPKART&as-show=off&as=off'\n",
    "os.makedirs('flipkart_books',exist_ok=True)\n",
    "print(url)\n",
    "\n",
    "for j in range(5):\n",
    "    res_com =requests.get(url)\n",
    "    res_com.raise_for_status\n",
    "    soup_com = bs4.BeautifulSoup(res_com.text)\n",
    "    tag_com = soup_com.select('div.CXW8mj>img')\n",
    "    try:\n",
    "        for i in range(len(tag_com)):\n",
    "            s = tag_com[i].get('src')\n",
    "            cn = requests.get(s)\n",
    "            name = os.path.basename(s)[:-5]\n",
    "            file = open(os.path.join('flipkart_books',name),'wb')\n",
    "            for chunk in cn.iter_content():\n",
    "                print('dowloading book image: %s' %name)\n",
    "                file.write(chunk)\n",
    "            file.close()\n",
    "\n",
    "        element = soup_com.select('div._2MImiq>a')\n",
    "        next_url = 'https://www.flipkart.com/'+element[0].get('href')\n",
    "    except:\n",
    "        pass"
   ]
  },
  {
   "cell_type": "code",
   "execution_count": null,
   "id": "e11f47de",
   "metadata": {},
   "outputs": [],
   "source": [
    "s = \"https://rukminim1.flixcart.com/image/612/612/l3vxbbk0/book/y/w/2/mindf-ked-original-imagewkkszjrzzug.jpeg?q=70\""
   ]
  },
  {
   "cell_type": "code",
   "execution_count": null,
   "id": "42ed9563",
   "metadata": {},
   "outputs": [],
   "source": [
    "s[:-1]"
   ]
  },
  {
   "cell_type": "markdown",
   "id": "b598051c",
   "metadata": {},
   "source": [
    "# Using Selenium"
   ]
  },
  {
   "cell_type": "code",
   "execution_count": null,
   "id": "a5fcaa72",
   "metadata": {},
   "outputs": [],
   "source": [
    "from selenium import webdriver"
   ]
  },
  {
   "cell_type": "code",
   "execution_count": null,
   "id": "384d8ebd",
   "metadata": {},
   "outputs": [],
   "source": [
    "browser= webdriver.Edge()\n",
    "browser.get('http://inventwithpython.com/')\n",
    "\n",
    "elem = browser.find_element_by_link_text(\"Read Online for Free\")\n",
    "print('The <%s> tag contains the required element' %(elem.tag_name))\n",
    "elem.click()\n"
   ]
  },
  {
   "cell_type": "code",
   "execution_count": null,
   "id": "381bcb95",
   "metadata": {},
   "outputs": [],
   "source": [
    "print('Sorting out recaptcha:')\n",
    "recaptcha = browser.find_element_by_id('recaptcha-anchor')\n",
    "recaptcha.click()\n",
    "recaptcha_sub = browser.find_element_by_id('recaptcha-submit')\n",
    "recaptcha_sub.click()"
   ]
  },
  {
   "cell_type": "code",
   "execution_count": null,
   "id": "bb10b006",
   "metadata": {
    "scrolled": true
   },
   "outputs": [],
   "source": [
    "browser = webdriver.Edge()\n",
    "browser.get('https://login.yahoo.com/?.src=ym&pspid=159600001&activity=mail-direct&.lang=en-IN&.intl=in&.done=https%3A%2F%2Fin.mail.yahoo.com%2Fd%2F%3F.intl%3Din%26.lang%3Den-IN')\n",
    "username = browser.find_element_by_id('login-username')\n",
    "print('Enter Username:')\n",
    "name = input()\n",
    "username.send_keys(name)\n",
    "print('Entered the username: %s'%name)\n",
    "next_bt= browser.find_element_by_id('login-signin')\n",
    "print('clicking on next button:')\n",
    "next_bt.click()\n",
    "browser.implicitly_wait(10)\n",
    "\n",
    "try:\n",
    "    print('Sorting out recaptcha:')\n",
    "    recaptcha = browser.find_element_by_id('recaptcha-anchor')\n",
    "    recaptcha.click()\n",
    "    recaptcha_sub = browser.find_element_by_id('recaptcha-submit')\n",
    "    recaptcha_sub.click()\n",
    "except:\n",
    "    pass\n",
    "browser.implicitly_wait(10)\n",
    "\n",
    "pwd = browser.find_element_by_id('login-passwd')\n",
    "print('Enter Password:')\n",
    "password = input()\n",
    "pwd.send_keys(password)\n",
    "next_bt.click()\n",
    "browser.implicitly_wait(5)\n",
    "try:\n",
    "    print('Sorting out recaptcha:')      \n",
    "    recaptcha.click()     \n",
    "    recaptcha_sub.click()\n",
    "except:\n",
    "    pass\n"
   ]
  },
  {
   "cell_type": "markdown",
   "id": "2bc3c0dc",
   "metadata": {},
   "source": [
    "# Entering Password and Username using Selenium"
   ]
  },
  {
   "cell_type": "code",
   "execution_count": null,
   "id": "416177c1",
   "metadata": {},
   "outputs": [],
   "source": [
    "from selenium import webdriver"
   ]
  },
  {
   "cell_type": "code",
   "execution_count": null,
   "id": "230a72d0",
   "metadata": {},
   "outputs": [],
   "source": [
    "browser = webdriver.Edge()\n",
    "browser.get('https://stackoverflow.com/users/login?ssrc=head&returnurl=https%3a%2f%2fstackoverflow.com%2f')\n",
    "usern_elem = browser.find_element_by_id('email')\n",
    "print('Enter Your Username:')\n",
    "name = input()\n",
    "usern_elem.send_keys(name)\n",
    "pwd_elem = browser.find_element_by_id('password')\n",
    "print('Enter Your Password:')\n",
    "password = input()\n",
    "pwd_elem.send_keys(password)\n",
    "pwd_elem.submit()"
   ]
  },
  {
   "cell_type": "markdown",
   "id": "b2fcfc37",
   "metadata": {},
   "source": [
    "# Scrolling webpage using Selenium"
   ]
  },
  {
   "cell_type": "code",
   "execution_count": 3,
   "id": "a8a9f3da",
   "metadata": {},
   "outputs": [],
   "source": [
    "from selenium import webdriver\n",
    "from selenium.webdriver.common.by import By\n",
    "from selenium.webdriver.support.ui import WebDriverWait\n",
    "from selenium.webdriver.support import expected_conditions as EC\n",
    "from selenium.webdriver.support.select import Select\n",
    "from selenium.common.exceptions import TimeoutException\n",
    "from selenium.webdriver.common.action_chains import ActionChains\n",
    "from selenium.webdriver.common.keys import Keys\n",
    "import time\n",
    "import requests\n",
    "from bs4 import BeautifulSoup"
   ]
  },
  {
   "cell_type": "code",
   "execution_count": null,
   "id": "356a1e6a",
   "metadata": {},
   "outputs": [],
   "source": [
    "quotes = driver.find_elements_by_css_selector('div[id ^= \"pos_1\"]>a>div')\n",
    "\n",
    "wait = WebDriverWait(driver,30).until(EC.presence_of_element_located((By.CSS_SELECTOR, 'div#checkbox')))\n",
    "wait.click()"
   ]
  },
  {
   "cell_type": "code",
   "execution_count": null,
   "id": "b880ad6b",
   "metadata": {},
   "outputs": [],
   "source": [
    "driver = webdriver.Edge()\n",
    "\n",
    "driver.get('https://www.brainyquote.com/')\n",
    "\n",
    "\n",
    "time.sleep(20)\n",
    "        \n",
    "        \n",
    "keyword = input(\"Please enter the keyword for the Quotes: \")\n",
    "\n",
    "search_bt = driver.find_element_by_id('hmsearch')\n",
    "search_bt.click()\n",
    "\n",
    "\n",
    "\n",
    "quote_list = WebDriverWait(driver,10).until(EC.presence_of_element_located((BY.ID, 'quotesList')))\n",
    "\n",
    "\n",
    "\n",
    "for quote in quotes:\n",
    "    print(quote.text)"
   ]
  },
  {
   "cell_type": "code",
   "execution_count": null,
   "id": "72904ba0",
   "metadata": {},
   "outputs": [],
   "source": []
  },
  {
   "cell_type": "code",
   "execution_count": null,
   "id": "29f1e038",
   "metadata": {},
   "outputs": [],
   "source": [
    "#first using beautiful soup and requests -- Didn't work"
   ]
  },
  {
   "cell_type": "code",
   "execution_count": null,
   "id": "fe8c394e",
   "metadata": {},
   "outputs": [],
   "source": [
    "\n",
    "keyword = input('Please Enter the Keyword: ')\n",
    "url  ='https://www.google.com/search?q='+keyword\n",
    "print(url)\n",
    "res = requests.get(url)\n",
    "\n",
    "soup = BeautifulSoup(res.text,'html.parser')\n",
    "tag_obj = soup.find('yuRUbf')\n",
    "print(tag_obj)\n",
    "for i in tag_obj:\n",
    "    links = i.get_text()\n",
    "    \n",
    "    print(links)\n",
    "\n",
    "\n",
    "\n",
    "\n",
    "\n"
   ]
  },
  {
   "cell_type": "code",
   "execution_count": null,
   "id": "4fb648d6",
   "metadata": {},
   "outputs": [],
   "source": [
    "#using selenium -- Worked"
   ]
  },
  {
   "cell_type": "code",
   "execution_count": null,
   "id": "dd15d0e8",
   "metadata": {},
   "outputs": [],
   "source": [
    "driver = webdriver.Edge()\n",
    "driver.get(url)\n",
    "\n",
    "ob = WebDriverWait(driver,10).until(EC.presence_of_all_elements_located((By.CSS_SELECTOR, 'div.yuRUbf>a')))\n",
    "\n",
    "print(ob)\n",
    "for i in ob:\n",
    "    links = i.get_attribute('href') #to extract attribute from a webelement\n",
    "    \n",
    "    \n"
   ]
  },
  {
   "cell_type": "markdown",
   "id": "fa7eb647",
   "metadata": {},
   "source": [
    "# scraping BCCI Website using Selenium"
   ]
  },
  {
   "cell_type": "code",
   "execution_count": null,
   "id": "a8f2e9ad",
   "metadata": {},
   "outputs": [],
   "source": [
    "url = 'https://www.bcci.tv/events/73/india-tour-of-west-indies-t20-series-2022/match/588/2nd-t20i'\n",
    "driver = webdriver.Edge()#driver interacts with the webbrowser\n",
    "driver.get(url)\n",
    "\n",
    "#using explicit wait which offers finer controls over wait time.\n",
    "ob = WebDriverWait(driver,30).until(EC.presence_of_all_elements_located((By.CSS_SELECTOR,'div[class=\"cmdText ng-binding ng-scope\"]')))\n",
    "\n",
    "#presence of all_elements_located returns Web elements, which can be read using text \n",
    "txtcom = []\n",
    "for i in ob:\n",
    "    com = i.text\n",
    "    txtcom.append(com)"
   ]
  },
  {
   "cell_type": "code",
   "execution_count": null,
   "id": "cd6eb735",
   "metadata": {},
   "outputs": [],
   "source": [
    "url = 'https://www.bcci.tv/events/73/india-tour-of-west-indies-t20-series-2022/match/588/2nd-t20i'\n",
    "driver = webdriver.Edge()\n",
    "driver.get(url)\n",
    "\n",
    "#without using any wait \n",
    "ob = driver.find_elements_by_css_selector('div.cmdText.ng-binding.ng-scope')\n",
    "\n",
    "txtcom = []\n",
    "for i in ob:\n",
    "    com = i.text\n",
    "    txtcom.append(com)\n",
    "input('Press Enter to close the web browser')\n",
    "    \n",
    "driver.quit()\n",
    "    \n"
   ]
  },
  {
   "cell_type": "code",
   "execution_count": null,
   "id": "c0b669b8",
   "metadata": {},
   "outputs": [],
   "source": [
    "#BeautifulSoup can be applied with selenium too.\n",
    "\n",
    "url = 'https://www.bcci.tv/events/73/india-tour-of-west-indies-t20-series-2022/match/588/2nd-t20i'\n",
    "driver = webdriver.Edge()\n",
    "driver.get(url)\n",
    "\n",
    "#page_souruce attribute will fetch the source code including the elements loaded by javascript. This can then be parsed using\n",
    "#Beautiful Soup\n",
    "\n",
    "source_code = driver.page_source\n",
    "\n",
    "soup = BeautifulSoup(source_code,'html.parser')\n",
    "\n",
    "tag_obj = soup.select('div.cmdText.ng-binding.ng-scope')\n",
    "\n",
    "new = []\n",
    "for i in tag_obj:\n",
    "    new.append(i.get_text())"
   ]
  },
  {
   "cell_type": "code",
   "execution_count": null,
   "id": "52748905",
   "metadata": {},
   "outputs": [],
   "source": [
    "url = 'https://currentaffairs.adda247.com/commonwealth-games-2022-medal-tally-of-india-in-cwg/'\n",
    "\n",
    "res = requests.get(url)\n",
    "soup = BeautifulSoup(res.text,'html.parser')\n",
    "\n",
    "tag_obj = soup.find_all('table')\n",
    "\n",
    "cwg_table = tag_obj[1]\n",
    "\n",
    "header_elem = cwg_table.find('tr').find_all('td')\n",
    "\n",
    "medal_tally = []\n",
    "header = []\n",
    "for i in header_elem:\n",
    "    \n",
    "    header.append(i.get_text())\n",
    "    \n",
    "row_elems = cwg_table.find_all('tr')[1:]\n",
    "\n",
    "for i in row_elems:\n",
    "    eachrow = i.find_all('td')\n",
    "    rows = []\n",
    "    for j in eachrow:\n",
    "        \n",
    "        row1 = j.get_text()\n",
    "        rows.append(row1)\n",
    "     \n",
    "    for k in range(len(header)):\n",
    "        dic = {header[k]:rows[k]}            \n",
    "        medal_tally.append(dic)"
   ]
  },
  {
   "cell_type": "code",
   "execution_count": null,
   "id": "40f54fe9",
   "metadata": {},
   "outputs": [],
   "source": [
    "medal_tally"
   ]
  },
  {
   "cell_type": "code",
   "execution_count": 5,
   "id": "3c59fff1",
   "metadata": {
    "collapsed": true
   },
   "outputs": [
    {
     "name": "stdout",
     "output_type": "stream",
     "text": [
      "[{'Ranks': '1.', 'Country': 'Australia', 'Gold': '42', 'Silver': '32', 'Bronze': '32', 'Total Medal': '106'}]\n",
      "[{'Ranks': '1.', 'Country': 'Australia', 'Gold': '42', 'Silver': '32', 'Bronze': '32', 'Total Medal': '106'}, {'Ranks': '2.', 'Country': 'England', 'Gold': '31', 'Silver': '34', 'Bronze': '31', 'Total Medal': '86'}]\n",
      "[{'Ranks': '1.', 'Country': 'Australia', 'Gold': '42', 'Silver': '32', 'Bronze': '32', 'Total Medal': '106'}, {'Ranks': '2.', 'Country': 'England', 'Gold': '31', 'Silver': '34', 'Bronze': '31', 'Total Medal': '86'}, {'Ranks': '3.', 'Country': 'New Zealand', 'Gold': '13', 'Silver': '7', 'Bronze': '6', 'Total Medal': '26'}]\n",
      "[{'Ranks': '1.', 'Country': 'Australia', 'Gold': '42', 'Silver': '32', 'Bronze': '32', 'Total Medal': '106'}, {'Ranks': '2.', 'Country': 'England', 'Gold': '31', 'Silver': '34', 'Bronze': '31', 'Total Medal': '86'}, {'Ranks': '3.', 'Country': 'New Zealand', 'Gold': '13', 'Silver': '7', 'Bronze': '6', 'Total Medal': '26'}, {'Ranks': '4.', 'Country': 'Canada', 'Gold': '11', 'Silver': '16', 'Bronze': '19', 'Total Medal': '46'}]\n",
      "[{'Ranks': '1.', 'Country': 'Australia', 'Gold': '42', 'Silver': '32', 'Bronze': '32', 'Total Medal': '106'}, {'Ranks': '2.', 'Country': 'England', 'Gold': '31', 'Silver': '34', 'Bronze': '31', 'Total Medal': '86'}, {'Ranks': '3.', 'Country': 'New Zealand', 'Gold': '13', 'Silver': '7', 'Bronze': '6', 'Total Medal': '26'}, {'Ranks': '4.', 'Country': 'Canada', 'Gold': '11', 'Silver': '16', 'Bronze': '19', 'Total Medal': '46'}, {'Ranks': '5.', 'Country': 'South Africa', 'Gold': '6', 'Silver': '5', 'Bronze': '5', 'Total Medal': '16'}]\n",
      "[{'Ranks': '1.', 'Country': 'Australia', 'Gold': '42', 'Silver': '32', 'Bronze': '32', 'Total Medal': '106'}, {'Ranks': '2.', 'Country': 'England', 'Gold': '31', 'Silver': '34', 'Bronze': '31', 'Total Medal': '86'}, {'Ranks': '3.', 'Country': 'New Zealand', 'Gold': '13', 'Silver': '7', 'Bronze': '6', 'Total Medal': '26'}, {'Ranks': '4.', 'Country': 'Canada', 'Gold': '11', 'Silver': '16', 'Bronze': '19', 'Total Medal': '46'}, {'Ranks': '5.', 'Country': 'South Africa', 'Gold': '6', 'Silver': '5', 'Bronze': '5', 'Total Medal': '16'}, {'Ranks': '6.', 'Country': 'India', 'Gold': '5', 'Silver': '5', 'Bronze': '3', 'Total Medal': '14'}]\n",
      "[{'Ranks': '1.', 'Country': 'Australia', 'Gold': '42', 'Silver': '32', 'Bronze': '32', 'Total Medal': '106'}, {'Ranks': '2.', 'Country': 'England', 'Gold': '31', 'Silver': '34', 'Bronze': '31', 'Total Medal': '86'}, {'Ranks': '3.', 'Country': 'New Zealand', 'Gold': '13', 'Silver': '7', 'Bronze': '6', 'Total Medal': '26'}, {'Ranks': '4.', 'Country': 'Canada', 'Gold': '11', 'Silver': '16', 'Bronze': '19', 'Total Medal': '46'}, {'Ranks': '5.', 'Country': 'South Africa', 'Gold': '6', 'Silver': '5', 'Bronze': '5', 'Total Medal': '16'}, {'Ranks': '6.', 'Country': 'India', 'Gold': '5', 'Silver': '5', 'Bronze': '3', 'Total Medal': '14'}, {'Ranks': '7.', 'Country': 'Scotland', 'Gold': '3', 'Silver': '8', 'Bronze': '15', 'Total Medal': '26'}]\n",
      "[{'Ranks': '1.', 'Country': 'Australia', 'Gold': '42', 'Silver': '32', 'Bronze': '32', 'Total Medal': '106'}, {'Ranks': '2.', 'Country': 'England', 'Gold': '31', 'Silver': '34', 'Bronze': '31', 'Total Medal': '86'}, {'Ranks': '3.', 'Country': 'New Zealand', 'Gold': '13', 'Silver': '7', 'Bronze': '6', 'Total Medal': '26'}, {'Ranks': '4.', 'Country': 'Canada', 'Gold': '11', 'Silver': '16', 'Bronze': '19', 'Total Medal': '46'}, {'Ranks': '5.', 'Country': 'South Africa', 'Gold': '6', 'Silver': '5', 'Bronze': '5', 'Total Medal': '16'}, {'Ranks': '6.', 'Country': 'India', 'Gold': '5', 'Silver': '5', 'Bronze': '3', 'Total Medal': '14'}, {'Ranks': '7.', 'Country': 'Scotland', 'Gold': '3', 'Silver': '8', 'Bronze': '15', 'Total Medal': '26'}, {'Ranks': '8.', 'Country': 'Wales', 'Gold': '3', 'Silver': '2', 'Bronze': '8', 'Total Medal': '13'}]\n",
      "[{'Ranks': '1.', 'Country': 'Australia', 'Gold': '42', 'Silver': '32', 'Bronze': '32', 'Total Medal': '106'}, {'Ranks': '2.', 'Country': 'England', 'Gold': '31', 'Silver': '34', 'Bronze': '31', 'Total Medal': '86'}, {'Ranks': '3.', 'Country': 'New Zealand', 'Gold': '13', 'Silver': '7', 'Bronze': '6', 'Total Medal': '26'}, {'Ranks': '4.', 'Country': 'Canada', 'Gold': '11', 'Silver': '16', 'Bronze': '19', 'Total Medal': '46'}, {'Ranks': '5.', 'Country': 'South Africa', 'Gold': '6', 'Silver': '5', 'Bronze': '5', 'Total Medal': '16'}, {'Ranks': '6.', 'Country': 'India', 'Gold': '5', 'Silver': '5', 'Bronze': '3', 'Total Medal': '14'}, {'Ranks': '7.', 'Country': 'Scotland', 'Gold': '3', 'Silver': '8', 'Bronze': '15', 'Total Medal': '26'}, {'Ranks': '8.', 'Country': 'Wales', 'Gold': '3', 'Silver': '2', 'Bronze': '8', 'Total Medal': '13'}, {'Ranks': '9.', 'Country': 'Malaysia', 'Gold': '3', 'Silver': '2', 'Bronze': '3', 'Total Medal': '8'}]\n",
      "[{'Ranks': '1.', 'Country': 'Australia', 'Gold': '42', 'Silver': '32', 'Bronze': '32', 'Total Medal': '106'}, {'Ranks': '2.', 'Country': 'England', 'Gold': '31', 'Silver': '34', 'Bronze': '31', 'Total Medal': '86'}, {'Ranks': '3.', 'Country': 'New Zealand', 'Gold': '13', 'Silver': '7', 'Bronze': '6', 'Total Medal': '26'}, {'Ranks': '4.', 'Country': 'Canada', 'Gold': '11', 'Silver': '16', 'Bronze': '19', 'Total Medal': '46'}, {'Ranks': '5.', 'Country': 'South Africa', 'Gold': '6', 'Silver': '5', 'Bronze': '5', 'Total Medal': '16'}, {'Ranks': '6.', 'Country': 'India', 'Gold': '5', 'Silver': '5', 'Bronze': '3', 'Total Medal': '14'}, {'Ranks': '7.', 'Country': 'Scotland', 'Gold': '3', 'Silver': '8', 'Bronze': '15', 'Total Medal': '26'}, {'Ranks': '8.', 'Country': 'Wales', 'Gold': '3', 'Silver': '2', 'Bronze': '8', 'Total Medal': '13'}, {'Ranks': '9.', 'Country': 'Malaysia', 'Gold': '3', 'Silver': '2', 'Bronze': '3', 'Total Medal': '8'}, {'Ranks': '10.', 'Country': 'Nigeria', 'Gold': '2', 'Silver': '1', 'Bronze': '2', 'Total Medal': '5'}]\n",
      "[{'Ranks': '1.', 'Country': 'Australia', 'Gold': '42', 'Silver': '32', 'Bronze': '32', 'Total Medal': '106'}, {'Ranks': '2.', 'Country': 'England', 'Gold': '31', 'Silver': '34', 'Bronze': '31', 'Total Medal': '86'}, {'Ranks': '3.', 'Country': 'New Zealand', 'Gold': '13', 'Silver': '7', 'Bronze': '6', 'Total Medal': '26'}, {'Ranks': '4.', 'Country': 'Canada', 'Gold': '11', 'Silver': '16', 'Bronze': '19', 'Total Medal': '46'}, {'Ranks': '5.', 'Country': 'South Africa', 'Gold': '6', 'Silver': '5', 'Bronze': '5', 'Total Medal': '16'}, {'Ranks': '6.', 'Country': 'India', 'Gold': '5', 'Silver': '5', 'Bronze': '3', 'Total Medal': '14'}, {'Ranks': '7.', 'Country': 'Scotland', 'Gold': '3', 'Silver': '8', 'Bronze': '15', 'Total Medal': '26'}, {'Ranks': '8.', 'Country': 'Wales', 'Gold': '3', 'Silver': '2', 'Bronze': '8', 'Total Medal': '13'}, {'Ranks': '9.', 'Country': 'Malaysia', 'Gold': '3', 'Silver': '2', 'Bronze': '3', 'Total Medal': '8'}, {'Ranks': '10.', 'Country': 'Nigeria', 'Gold': '2', 'Silver': '1', 'Bronze': '2', 'Total Medal': '5'}, {'Ranks': '11.', 'Country': 'Singapore', 'Gold': '1', 'Silver': '2', 'Bronze': '0', 'Total Medal': '3'}]\n",
      "[{'Ranks': '1.', 'Country': 'Australia', 'Gold': '42', 'Silver': '32', 'Bronze': '32', 'Total Medal': '106'}, {'Ranks': '2.', 'Country': 'England', 'Gold': '31', 'Silver': '34', 'Bronze': '31', 'Total Medal': '86'}, {'Ranks': '3.', 'Country': 'New Zealand', 'Gold': '13', 'Silver': '7', 'Bronze': '6', 'Total Medal': '26'}, {'Ranks': '4.', 'Country': 'Canada', 'Gold': '11', 'Silver': '16', 'Bronze': '19', 'Total Medal': '46'}, {'Ranks': '5.', 'Country': 'South Africa', 'Gold': '6', 'Silver': '5', 'Bronze': '5', 'Total Medal': '16'}, {'Ranks': '6.', 'Country': 'India', 'Gold': '5', 'Silver': '5', 'Bronze': '3', 'Total Medal': '14'}, {'Ranks': '7.', 'Country': 'Scotland', 'Gold': '3', 'Silver': '8', 'Bronze': '15', 'Total Medal': '26'}, {'Ranks': '8.', 'Country': 'Wales', 'Gold': '3', 'Silver': '2', 'Bronze': '8', 'Total Medal': '13'}, {'Ranks': '9.', 'Country': 'Malaysia', 'Gold': '3', 'Silver': '2', 'Bronze': '3', 'Total Medal': '8'}, {'Ranks': '10.', 'Country': 'Nigeria', 'Gold': '2', 'Silver': '1', 'Bronze': '2', 'Total Medal': '5'}, {'Ranks': '11.', 'Country': 'Singapore', 'Gold': '1', 'Silver': '2', 'Bronze': '0', 'Total Medal': '3'}, {'Ranks': '12.', 'Country': 'Cyprus', 'Gold': '1', 'Silver': '1', 'Bronze': '2', 'Total Medal': '4'}]\n",
      "[{'Ranks': '1.', 'Country': 'Australia', 'Gold': '42', 'Silver': '32', 'Bronze': '32', 'Total Medal': '106'}, {'Ranks': '2.', 'Country': 'England', 'Gold': '31', 'Silver': '34', 'Bronze': '31', 'Total Medal': '86'}, {'Ranks': '3.', 'Country': 'New Zealand', 'Gold': '13', 'Silver': '7', 'Bronze': '6', 'Total Medal': '26'}, {'Ranks': '4.', 'Country': 'Canada', 'Gold': '11', 'Silver': '16', 'Bronze': '19', 'Total Medal': '46'}, {'Ranks': '5.', 'Country': 'South Africa', 'Gold': '6', 'Silver': '5', 'Bronze': '5', 'Total Medal': '16'}, {'Ranks': '6.', 'Country': 'India', 'Gold': '5', 'Silver': '5', 'Bronze': '3', 'Total Medal': '14'}, {'Ranks': '7.', 'Country': 'Scotland', 'Gold': '3', 'Silver': '8', 'Bronze': '15', 'Total Medal': '26'}, {'Ranks': '8.', 'Country': 'Wales', 'Gold': '3', 'Silver': '2', 'Bronze': '8', 'Total Medal': '13'}, {'Ranks': '9.', 'Country': 'Malaysia', 'Gold': '3', 'Silver': '2', 'Bronze': '3', 'Total Medal': '8'}, {'Ranks': '10.', 'Country': 'Nigeria', 'Gold': '2', 'Silver': '1', 'Bronze': '2', 'Total Medal': '5'}, {'Ranks': '11.', 'Country': 'Singapore', 'Gold': '1', 'Silver': '2', 'Bronze': '0', 'Total Medal': '3'}, {'Ranks': '12.', 'Country': 'Cyprus', 'Gold': '1', 'Silver': '1', 'Bronze': '2', 'Total Medal': '4'}, {'Ranks': '13.', 'Country': 'Trinidad & Tobago', 'Gold': '1', 'Silver': '1', 'Bronze': '1', 'Total Medal': '3'}]\n",
      "[{'Ranks': '1.', 'Country': 'Australia', 'Gold': '42', 'Silver': '32', 'Bronze': '32', 'Total Medal': '106'}, {'Ranks': '2.', 'Country': 'England', 'Gold': '31', 'Silver': '34', 'Bronze': '31', 'Total Medal': '86'}, {'Ranks': '3.', 'Country': 'New Zealand', 'Gold': '13', 'Silver': '7', 'Bronze': '6', 'Total Medal': '26'}, {'Ranks': '4.', 'Country': 'Canada', 'Gold': '11', 'Silver': '16', 'Bronze': '19', 'Total Medal': '46'}, {'Ranks': '5.', 'Country': 'South Africa', 'Gold': '6', 'Silver': '5', 'Bronze': '5', 'Total Medal': '16'}, {'Ranks': '6.', 'Country': 'India', 'Gold': '5', 'Silver': '5', 'Bronze': '3', 'Total Medal': '14'}, {'Ranks': '7.', 'Country': 'Scotland', 'Gold': '3', 'Silver': '8', 'Bronze': '15', 'Total Medal': '26'}, {'Ranks': '8.', 'Country': 'Wales', 'Gold': '3', 'Silver': '2', 'Bronze': '8', 'Total Medal': '13'}, {'Ranks': '9.', 'Country': 'Malaysia', 'Gold': '3', 'Silver': '2', 'Bronze': '3', 'Total Medal': '8'}, {'Ranks': '10.', 'Country': 'Nigeria', 'Gold': '2', 'Silver': '1', 'Bronze': '2', 'Total Medal': '5'}, {'Ranks': '11.', 'Country': 'Singapore', 'Gold': '1', 'Silver': '2', 'Bronze': '0', 'Total Medal': '3'}, {'Ranks': '12.', 'Country': 'Cyprus', 'Gold': '1', 'Silver': '1', 'Bronze': '2', 'Total Medal': '4'}, {'Ranks': '13.', 'Country': 'Trinidad & Tobago', 'Gold': '1', 'Silver': '1', 'Bronze': '1', 'Total Medal': '3'}, {'Ranks': '14.', 'Country': 'Bermuda', 'Gold': '1', 'Silver': '0', 'Bronze': '0', 'Total Medal': '1'}]\n",
      "[{'Ranks': '1.', 'Country': 'Australia', 'Gold': '42', 'Silver': '32', 'Bronze': '32', 'Total Medal': '106'}, {'Ranks': '2.', 'Country': 'England', 'Gold': '31', 'Silver': '34', 'Bronze': '31', 'Total Medal': '86'}, {'Ranks': '3.', 'Country': 'New Zealand', 'Gold': '13', 'Silver': '7', 'Bronze': '6', 'Total Medal': '26'}, {'Ranks': '4.', 'Country': 'Canada', 'Gold': '11', 'Silver': '16', 'Bronze': '19', 'Total Medal': '46'}, {'Ranks': '5.', 'Country': 'South Africa', 'Gold': '6', 'Silver': '5', 'Bronze': '5', 'Total Medal': '16'}, {'Ranks': '6.', 'Country': 'India', 'Gold': '5', 'Silver': '5', 'Bronze': '3', 'Total Medal': '14'}, {'Ranks': '7.', 'Country': 'Scotland', 'Gold': '3', 'Silver': '8', 'Bronze': '15', 'Total Medal': '26'}, {'Ranks': '8.', 'Country': 'Wales', 'Gold': '3', 'Silver': '2', 'Bronze': '8', 'Total Medal': '13'}, {'Ranks': '9.', 'Country': 'Malaysia', 'Gold': '3', 'Silver': '2', 'Bronze': '3', 'Total Medal': '8'}, {'Ranks': '10.', 'Country': 'Nigeria', 'Gold': '2', 'Silver': '1', 'Bronze': '2', 'Total Medal': '5'}, {'Ranks': '11.', 'Country': 'Singapore', 'Gold': '1', 'Silver': '2', 'Bronze': '0', 'Total Medal': '3'}, {'Ranks': '12.', 'Country': 'Cyprus', 'Gold': '1', 'Silver': '1', 'Bronze': '2', 'Total Medal': '4'}, {'Ranks': '13.', 'Country': 'Trinidad & Tobago', 'Gold': '1', 'Silver': '1', 'Bronze': '1', 'Total Medal': '3'}, {'Ranks': '14.', 'Country': 'Bermuda', 'Gold': '1', 'Silver': '0', 'Bronze': '0', 'Total Medal': '1'}, {'Ranks': '14.', 'Country': 'Uganda', 'Gold': '1', 'Silver': '0', 'Bronze': '0', 'Total Medal': '1'}]\n",
      "[{'Ranks': '1.', 'Country': 'Australia', 'Gold': '42', 'Silver': '32', 'Bronze': '32', 'Total Medal': '106'}, {'Ranks': '2.', 'Country': 'England', 'Gold': '31', 'Silver': '34', 'Bronze': '31', 'Total Medal': '86'}, {'Ranks': '3.', 'Country': 'New Zealand', 'Gold': '13', 'Silver': '7', 'Bronze': '6', 'Total Medal': '26'}, {'Ranks': '4.', 'Country': 'Canada', 'Gold': '11', 'Silver': '16', 'Bronze': '19', 'Total Medal': '46'}, {'Ranks': '5.', 'Country': 'South Africa', 'Gold': '6', 'Silver': '5', 'Bronze': '5', 'Total Medal': '16'}, {'Ranks': '6.', 'Country': 'India', 'Gold': '5', 'Silver': '5', 'Bronze': '3', 'Total Medal': '14'}, {'Ranks': '7.', 'Country': 'Scotland', 'Gold': '3', 'Silver': '8', 'Bronze': '15', 'Total Medal': '26'}, {'Ranks': '8.', 'Country': 'Wales', 'Gold': '3', 'Silver': '2', 'Bronze': '8', 'Total Medal': '13'}, {'Ranks': '9.', 'Country': 'Malaysia', 'Gold': '3', 'Silver': '2', 'Bronze': '3', 'Total Medal': '8'}, {'Ranks': '10.', 'Country': 'Nigeria', 'Gold': '2', 'Silver': '1', 'Bronze': '2', 'Total Medal': '5'}, {'Ranks': '11.', 'Country': 'Singapore', 'Gold': '1', 'Silver': '2', 'Bronze': '0', 'Total Medal': '3'}, {'Ranks': '12.', 'Country': 'Cyprus', 'Gold': '1', 'Silver': '1', 'Bronze': '2', 'Total Medal': '4'}, {'Ranks': '13.', 'Country': 'Trinidad & Tobago', 'Gold': '1', 'Silver': '1', 'Bronze': '1', 'Total Medal': '3'}, {'Ranks': '14.', 'Country': 'Bermuda', 'Gold': '1', 'Silver': '0', 'Bronze': '0', 'Total Medal': '1'}, {'Ranks': '14.', 'Country': 'Uganda', 'Gold': '1', 'Silver': '0', 'Bronze': '0', 'Total Medal': '1'}, {'Ranks': '16.', 'Country': 'Northern Ireland', 'Gold': '0', 'Silver': '2', 'Bronze': '3', 'Total Medal': '5'}]\n",
      "[{'Ranks': '1.', 'Country': 'Australia', 'Gold': '42', 'Silver': '32', 'Bronze': '32', 'Total Medal': '106'}, {'Ranks': '2.', 'Country': 'England', 'Gold': '31', 'Silver': '34', 'Bronze': '31', 'Total Medal': '86'}, {'Ranks': '3.', 'Country': 'New Zealand', 'Gold': '13', 'Silver': '7', 'Bronze': '6', 'Total Medal': '26'}, {'Ranks': '4.', 'Country': 'Canada', 'Gold': '11', 'Silver': '16', 'Bronze': '19', 'Total Medal': '46'}, {'Ranks': '5.', 'Country': 'South Africa', 'Gold': '6', 'Silver': '5', 'Bronze': '5', 'Total Medal': '16'}, {'Ranks': '6.', 'Country': 'India', 'Gold': '5', 'Silver': '5', 'Bronze': '3', 'Total Medal': '14'}, {'Ranks': '7.', 'Country': 'Scotland', 'Gold': '3', 'Silver': '8', 'Bronze': '15', 'Total Medal': '26'}, {'Ranks': '8.', 'Country': 'Wales', 'Gold': '3', 'Silver': '2', 'Bronze': '8', 'Total Medal': '13'}, {'Ranks': '9.', 'Country': 'Malaysia', 'Gold': '3', 'Silver': '2', 'Bronze': '3', 'Total Medal': '8'}, {'Ranks': '10.', 'Country': 'Nigeria', 'Gold': '2', 'Silver': '1', 'Bronze': '2', 'Total Medal': '5'}, {'Ranks': '11.', 'Country': 'Singapore', 'Gold': '1', 'Silver': '2', 'Bronze': '0', 'Total Medal': '3'}, {'Ranks': '12.', 'Country': 'Cyprus', 'Gold': '1', 'Silver': '1', 'Bronze': '2', 'Total Medal': '4'}, {'Ranks': '13.', 'Country': 'Trinidad & Tobago', 'Gold': '1', 'Silver': '1', 'Bronze': '1', 'Total Medal': '3'}, {'Ranks': '14.', 'Country': 'Bermuda', 'Gold': '1', 'Silver': '0', 'Bronze': '0', 'Total Medal': '1'}, {'Ranks': '14.', 'Country': 'Uganda', 'Gold': '1', 'Silver': '0', 'Bronze': '0', 'Total Medal': '1'}, {'Ranks': '16.', 'Country': 'Northern Ireland', 'Gold': '0', 'Silver': '2', 'Bronze': '3', 'Total Medal': '5'}, {'Ranks': '17.', 'Country': 'Fiji', 'Gold': '0', 'Silver': '2', 'Bronze': '0', 'Total Medal': '2'}]\n",
      "[{'Ranks': '1.', 'Country': 'Australia', 'Gold': '42', 'Silver': '32', 'Bronze': '32', 'Total Medal': '106'}, {'Ranks': '2.', 'Country': 'England', 'Gold': '31', 'Silver': '34', 'Bronze': '31', 'Total Medal': '86'}, {'Ranks': '3.', 'Country': 'New Zealand', 'Gold': '13', 'Silver': '7', 'Bronze': '6', 'Total Medal': '26'}, {'Ranks': '4.', 'Country': 'Canada', 'Gold': '11', 'Silver': '16', 'Bronze': '19', 'Total Medal': '46'}, {'Ranks': '5.', 'Country': 'South Africa', 'Gold': '6', 'Silver': '5', 'Bronze': '5', 'Total Medal': '16'}, {'Ranks': '6.', 'Country': 'India', 'Gold': '5', 'Silver': '5', 'Bronze': '3', 'Total Medal': '14'}, {'Ranks': '7.', 'Country': 'Scotland', 'Gold': '3', 'Silver': '8', 'Bronze': '15', 'Total Medal': '26'}, {'Ranks': '8.', 'Country': 'Wales', 'Gold': '3', 'Silver': '2', 'Bronze': '8', 'Total Medal': '13'}, {'Ranks': '9.', 'Country': 'Malaysia', 'Gold': '3', 'Silver': '2', 'Bronze': '3', 'Total Medal': '8'}, {'Ranks': '10.', 'Country': 'Nigeria', 'Gold': '2', 'Silver': '1', 'Bronze': '2', 'Total Medal': '5'}, {'Ranks': '11.', 'Country': 'Singapore', 'Gold': '1', 'Silver': '2', 'Bronze': '0', 'Total Medal': '3'}, {'Ranks': '12.', 'Country': 'Cyprus', 'Gold': '1', 'Silver': '1', 'Bronze': '2', 'Total Medal': '4'}, {'Ranks': '13.', 'Country': 'Trinidad & Tobago', 'Gold': '1', 'Silver': '1', 'Bronze': '1', 'Total Medal': '3'}, {'Ranks': '14.', 'Country': 'Bermuda', 'Gold': '1', 'Silver': '0', 'Bronze': '0', 'Total Medal': '1'}, {'Ranks': '14.', 'Country': 'Uganda', 'Gold': '1', 'Silver': '0', 'Bronze': '0', 'Total Medal': '1'}, {'Ranks': '16.', 'Country': 'Northern Ireland', 'Gold': '0', 'Silver': '2', 'Bronze': '3', 'Total Medal': '5'}, {'Ranks': '17.', 'Country': 'Fiji', 'Gold': '0', 'Silver': '2', 'Bronze': '0', 'Total Medal': '2'}, {'Ranks': '18.', 'Country': 'Kenya', 'Gold': '0', 'Silver': '1', 'Bronze': '1', 'Total Medal': '2'}]\n",
      "[{'Ranks': '1.', 'Country': 'Australia', 'Gold': '42', 'Silver': '32', 'Bronze': '32', 'Total Medal': '106'}, {'Ranks': '2.', 'Country': 'England', 'Gold': '31', 'Silver': '34', 'Bronze': '31', 'Total Medal': '86'}, {'Ranks': '3.', 'Country': 'New Zealand', 'Gold': '13', 'Silver': '7', 'Bronze': '6', 'Total Medal': '26'}, {'Ranks': '4.', 'Country': 'Canada', 'Gold': '11', 'Silver': '16', 'Bronze': '19', 'Total Medal': '46'}, {'Ranks': '5.', 'Country': 'South Africa', 'Gold': '6', 'Silver': '5', 'Bronze': '5', 'Total Medal': '16'}, {'Ranks': '6.', 'Country': 'India', 'Gold': '5', 'Silver': '5', 'Bronze': '3', 'Total Medal': '14'}, {'Ranks': '7.', 'Country': 'Scotland', 'Gold': '3', 'Silver': '8', 'Bronze': '15', 'Total Medal': '26'}, {'Ranks': '8.', 'Country': 'Wales', 'Gold': '3', 'Silver': '2', 'Bronze': '8', 'Total Medal': '13'}, {'Ranks': '9.', 'Country': 'Malaysia', 'Gold': '3', 'Silver': '2', 'Bronze': '3', 'Total Medal': '8'}, {'Ranks': '10.', 'Country': 'Nigeria', 'Gold': '2', 'Silver': '1', 'Bronze': '2', 'Total Medal': '5'}, {'Ranks': '11.', 'Country': 'Singapore', 'Gold': '1', 'Silver': '2', 'Bronze': '0', 'Total Medal': '3'}, {'Ranks': '12.', 'Country': 'Cyprus', 'Gold': '1', 'Silver': '1', 'Bronze': '2', 'Total Medal': '4'}, {'Ranks': '13.', 'Country': 'Trinidad & Tobago', 'Gold': '1', 'Silver': '1', 'Bronze': '1', 'Total Medal': '3'}, {'Ranks': '14.', 'Country': 'Bermuda', 'Gold': '1', 'Silver': '0', 'Bronze': '0', 'Total Medal': '1'}, {'Ranks': '14.', 'Country': 'Uganda', 'Gold': '1', 'Silver': '0', 'Bronze': '0', 'Total Medal': '1'}, {'Ranks': '16.', 'Country': 'Northern Ireland', 'Gold': '0', 'Silver': '2', 'Bronze': '3', 'Total Medal': '5'}, {'Ranks': '17.', 'Country': 'Fiji', 'Gold': '0', 'Silver': '2', 'Bronze': '0', 'Total Medal': '2'}, {'Ranks': '18.', 'Country': 'Kenya', 'Gold': '0', 'Silver': '1', 'Bronze': '1', 'Total Medal': '2'}, {'Ranks': '18.', 'Country': 'Mauritius', 'Gold': '0', 'Silver': '1', 'Bronze': '1', 'Total Medal': '2'}]\n",
      "[{'Ranks': '1.', 'Country': 'Australia', 'Gold': '42', 'Silver': '32', 'Bronze': '32', 'Total Medal': '106'}, {'Ranks': '2.', 'Country': 'England', 'Gold': '31', 'Silver': '34', 'Bronze': '31', 'Total Medal': '86'}, {'Ranks': '3.', 'Country': 'New Zealand', 'Gold': '13', 'Silver': '7', 'Bronze': '6', 'Total Medal': '26'}, {'Ranks': '4.', 'Country': 'Canada', 'Gold': '11', 'Silver': '16', 'Bronze': '19', 'Total Medal': '46'}, {'Ranks': '5.', 'Country': 'South Africa', 'Gold': '6', 'Silver': '5', 'Bronze': '5', 'Total Medal': '16'}, {'Ranks': '6.', 'Country': 'India', 'Gold': '5', 'Silver': '5', 'Bronze': '3', 'Total Medal': '14'}, {'Ranks': '7.', 'Country': 'Scotland', 'Gold': '3', 'Silver': '8', 'Bronze': '15', 'Total Medal': '26'}, {'Ranks': '8.', 'Country': 'Wales', 'Gold': '3', 'Silver': '2', 'Bronze': '8', 'Total Medal': '13'}, {'Ranks': '9.', 'Country': 'Malaysia', 'Gold': '3', 'Silver': '2', 'Bronze': '3', 'Total Medal': '8'}, {'Ranks': '10.', 'Country': 'Nigeria', 'Gold': '2', 'Silver': '1', 'Bronze': '2', 'Total Medal': '5'}, {'Ranks': '11.', 'Country': 'Singapore', 'Gold': '1', 'Silver': '2', 'Bronze': '0', 'Total Medal': '3'}, {'Ranks': '12.', 'Country': 'Cyprus', 'Gold': '1', 'Silver': '1', 'Bronze': '2', 'Total Medal': '4'}, {'Ranks': '13.', 'Country': 'Trinidad & Tobago', 'Gold': '1', 'Silver': '1', 'Bronze': '1', 'Total Medal': '3'}, {'Ranks': '14.', 'Country': 'Bermuda', 'Gold': '1', 'Silver': '0', 'Bronze': '0', 'Total Medal': '1'}, {'Ranks': '14.', 'Country': 'Uganda', 'Gold': '1', 'Silver': '0', 'Bronze': '0', 'Total Medal': '1'}, {'Ranks': '16.', 'Country': 'Northern Ireland', 'Gold': '0', 'Silver': '2', 'Bronze': '3', 'Total Medal': '5'}, {'Ranks': '17.', 'Country': 'Fiji', 'Gold': '0', 'Silver': '2', 'Bronze': '0', 'Total Medal': '2'}, {'Ranks': '18.', 'Country': 'Kenya', 'Gold': '0', 'Silver': '1', 'Bronze': '1', 'Total Medal': '2'}, {'Ranks': '18.', 'Country': 'Mauritius', 'Gold': '0', 'Silver': '1', 'Bronze': '1', 'Total Medal': '2'}, {'Ranks': '20.', 'Country': 'Guernsey', 'Gold': '0', 'Silver': '1', 'Bronze': '0', 'Total Medal': '1'}]\n",
      "[{'Ranks': '1.', 'Country': 'Australia', 'Gold': '42', 'Silver': '32', 'Bronze': '32', 'Total Medal': '106'}, {'Ranks': '2.', 'Country': 'England', 'Gold': '31', 'Silver': '34', 'Bronze': '31', 'Total Medal': '86'}, {'Ranks': '3.', 'Country': 'New Zealand', 'Gold': '13', 'Silver': '7', 'Bronze': '6', 'Total Medal': '26'}, {'Ranks': '4.', 'Country': 'Canada', 'Gold': '11', 'Silver': '16', 'Bronze': '19', 'Total Medal': '46'}, {'Ranks': '5.', 'Country': 'South Africa', 'Gold': '6', 'Silver': '5', 'Bronze': '5', 'Total Medal': '16'}, {'Ranks': '6.', 'Country': 'India', 'Gold': '5', 'Silver': '5', 'Bronze': '3', 'Total Medal': '14'}, {'Ranks': '7.', 'Country': 'Scotland', 'Gold': '3', 'Silver': '8', 'Bronze': '15', 'Total Medal': '26'}, {'Ranks': '8.', 'Country': 'Wales', 'Gold': '3', 'Silver': '2', 'Bronze': '8', 'Total Medal': '13'}, {'Ranks': '9.', 'Country': 'Malaysia', 'Gold': '3', 'Silver': '2', 'Bronze': '3', 'Total Medal': '8'}, {'Ranks': '10.', 'Country': 'Nigeria', 'Gold': '2', 'Silver': '1', 'Bronze': '2', 'Total Medal': '5'}, {'Ranks': '11.', 'Country': 'Singapore', 'Gold': '1', 'Silver': '2', 'Bronze': '0', 'Total Medal': '3'}, {'Ranks': '12.', 'Country': 'Cyprus', 'Gold': '1', 'Silver': '1', 'Bronze': '2', 'Total Medal': '4'}, {'Ranks': '13.', 'Country': 'Trinidad & Tobago', 'Gold': '1', 'Silver': '1', 'Bronze': '1', 'Total Medal': '3'}, {'Ranks': '14.', 'Country': 'Bermuda', 'Gold': '1', 'Silver': '0', 'Bronze': '0', 'Total Medal': '1'}, {'Ranks': '14.', 'Country': 'Uganda', 'Gold': '1', 'Silver': '0', 'Bronze': '0', 'Total Medal': '1'}, {'Ranks': '16.', 'Country': 'Northern Ireland', 'Gold': '0', 'Silver': '2', 'Bronze': '3', 'Total Medal': '5'}, {'Ranks': '17.', 'Country': 'Fiji', 'Gold': '0', 'Silver': '2', 'Bronze': '0', 'Total Medal': '2'}, {'Ranks': '18.', 'Country': 'Kenya', 'Gold': '0', 'Silver': '1', 'Bronze': '1', 'Total Medal': '2'}, {'Ranks': '18.', 'Country': 'Mauritius', 'Gold': '0', 'Silver': '1', 'Bronze': '1', 'Total Medal': '2'}, {'Ranks': '20.', 'Country': 'Guernsey', 'Gold': '0', 'Silver': '1', 'Bronze': '0', 'Total Medal': '1'}, {'Ranks': '20.', 'Country': 'Papua New Guinea', 'Gold': '0', 'Silver': '1', 'Bronze': '0', 'Total Medal': '1'}]\n",
      "[{'Ranks': '1.', 'Country': 'Australia', 'Gold': '42', 'Silver': '32', 'Bronze': '32', 'Total Medal': '106'}, {'Ranks': '2.', 'Country': 'England', 'Gold': '31', 'Silver': '34', 'Bronze': '31', 'Total Medal': '86'}, {'Ranks': '3.', 'Country': 'New Zealand', 'Gold': '13', 'Silver': '7', 'Bronze': '6', 'Total Medal': '26'}, {'Ranks': '4.', 'Country': 'Canada', 'Gold': '11', 'Silver': '16', 'Bronze': '19', 'Total Medal': '46'}, {'Ranks': '5.', 'Country': 'South Africa', 'Gold': '6', 'Silver': '5', 'Bronze': '5', 'Total Medal': '16'}, {'Ranks': '6.', 'Country': 'India', 'Gold': '5', 'Silver': '5', 'Bronze': '3', 'Total Medal': '14'}, {'Ranks': '7.', 'Country': 'Scotland', 'Gold': '3', 'Silver': '8', 'Bronze': '15', 'Total Medal': '26'}, {'Ranks': '8.', 'Country': 'Wales', 'Gold': '3', 'Silver': '2', 'Bronze': '8', 'Total Medal': '13'}, {'Ranks': '9.', 'Country': 'Malaysia', 'Gold': '3', 'Silver': '2', 'Bronze': '3', 'Total Medal': '8'}, {'Ranks': '10.', 'Country': 'Nigeria', 'Gold': '2', 'Silver': '1', 'Bronze': '2', 'Total Medal': '5'}, {'Ranks': '11.', 'Country': 'Singapore', 'Gold': '1', 'Silver': '2', 'Bronze': '0', 'Total Medal': '3'}, {'Ranks': '12.', 'Country': 'Cyprus', 'Gold': '1', 'Silver': '1', 'Bronze': '2', 'Total Medal': '4'}, {'Ranks': '13.', 'Country': 'Trinidad & Tobago', 'Gold': '1', 'Silver': '1', 'Bronze': '1', 'Total Medal': '3'}, {'Ranks': '14.', 'Country': 'Bermuda', 'Gold': '1', 'Silver': '0', 'Bronze': '0', 'Total Medal': '1'}, {'Ranks': '14.', 'Country': 'Uganda', 'Gold': '1', 'Silver': '0', 'Bronze': '0', 'Total Medal': '1'}, {'Ranks': '16.', 'Country': 'Northern Ireland', 'Gold': '0', 'Silver': '2', 'Bronze': '3', 'Total Medal': '5'}, {'Ranks': '17.', 'Country': 'Fiji', 'Gold': '0', 'Silver': '2', 'Bronze': '0', 'Total Medal': '2'}, {'Ranks': '18.', 'Country': 'Kenya', 'Gold': '0', 'Silver': '1', 'Bronze': '1', 'Total Medal': '2'}, {'Ranks': '18.', 'Country': 'Mauritius', 'Gold': '0', 'Silver': '1', 'Bronze': '1', 'Total Medal': '2'}, {'Ranks': '20.', 'Country': 'Guernsey', 'Gold': '0', 'Silver': '1', 'Bronze': '0', 'Total Medal': '1'}, {'Ranks': '20.', 'Country': 'Papua New Guinea', 'Gold': '0', 'Silver': '1', 'Bronze': '0', 'Total Medal': '1'}, {'Ranks': '20.', 'Country': 'Samoa', 'Gold': '0', 'Silver': '1', 'Bronze': '0', 'Total Medal': '1'}]\n",
      "[{'Ranks': '1.', 'Country': 'Australia', 'Gold': '42', 'Silver': '32', 'Bronze': '32', 'Total Medal': '106'}, {'Ranks': '2.', 'Country': 'England', 'Gold': '31', 'Silver': '34', 'Bronze': '31', 'Total Medal': '86'}, {'Ranks': '3.', 'Country': 'New Zealand', 'Gold': '13', 'Silver': '7', 'Bronze': '6', 'Total Medal': '26'}, {'Ranks': '4.', 'Country': 'Canada', 'Gold': '11', 'Silver': '16', 'Bronze': '19', 'Total Medal': '46'}, {'Ranks': '5.', 'Country': 'South Africa', 'Gold': '6', 'Silver': '5', 'Bronze': '5', 'Total Medal': '16'}, {'Ranks': '6.', 'Country': 'India', 'Gold': '5', 'Silver': '5', 'Bronze': '3', 'Total Medal': '14'}, {'Ranks': '7.', 'Country': 'Scotland', 'Gold': '3', 'Silver': '8', 'Bronze': '15', 'Total Medal': '26'}, {'Ranks': '8.', 'Country': 'Wales', 'Gold': '3', 'Silver': '2', 'Bronze': '8', 'Total Medal': '13'}, {'Ranks': '9.', 'Country': 'Malaysia', 'Gold': '3', 'Silver': '2', 'Bronze': '3', 'Total Medal': '8'}, {'Ranks': '10.', 'Country': 'Nigeria', 'Gold': '2', 'Silver': '1', 'Bronze': '2', 'Total Medal': '5'}, {'Ranks': '11.', 'Country': 'Singapore', 'Gold': '1', 'Silver': '2', 'Bronze': '0', 'Total Medal': '3'}, {'Ranks': '12.', 'Country': 'Cyprus', 'Gold': '1', 'Silver': '1', 'Bronze': '2', 'Total Medal': '4'}, {'Ranks': '13.', 'Country': 'Trinidad & Tobago', 'Gold': '1', 'Silver': '1', 'Bronze': '1', 'Total Medal': '3'}, {'Ranks': '14.', 'Country': 'Bermuda', 'Gold': '1', 'Silver': '0', 'Bronze': '0', 'Total Medal': '1'}, {'Ranks': '14.', 'Country': 'Uganda', 'Gold': '1', 'Silver': '0', 'Bronze': '0', 'Total Medal': '1'}, {'Ranks': '16.', 'Country': 'Northern Ireland', 'Gold': '0', 'Silver': '2', 'Bronze': '3', 'Total Medal': '5'}, {'Ranks': '17.', 'Country': 'Fiji', 'Gold': '0', 'Silver': '2', 'Bronze': '0', 'Total Medal': '2'}, {'Ranks': '18.', 'Country': 'Kenya', 'Gold': '0', 'Silver': '1', 'Bronze': '1', 'Total Medal': '2'}, {'Ranks': '18.', 'Country': 'Mauritius', 'Gold': '0', 'Silver': '1', 'Bronze': '1', 'Total Medal': '2'}, {'Ranks': '20.', 'Country': 'Guernsey', 'Gold': '0', 'Silver': '1', 'Bronze': '0', 'Total Medal': '1'}, {'Ranks': '20.', 'Country': 'Papua New Guinea', 'Gold': '0', 'Silver': '1', 'Bronze': '0', 'Total Medal': '1'}, {'Ranks': '20.', 'Country': 'Samoa', 'Gold': '0', 'Silver': '1', 'Bronze': '0', 'Total Medal': '1'}, {'Ranks': '20.', 'Country': 'Tanzania', 'Gold': '0', 'Silver': '1', 'Bronze': '0', 'Total Medal': '1'}]\n",
      "[{'Ranks': '1.', 'Country': 'Australia', 'Gold': '42', 'Silver': '32', 'Bronze': '32', 'Total Medal': '106'}, {'Ranks': '2.', 'Country': 'England', 'Gold': '31', 'Silver': '34', 'Bronze': '31', 'Total Medal': '86'}, {'Ranks': '3.', 'Country': 'New Zealand', 'Gold': '13', 'Silver': '7', 'Bronze': '6', 'Total Medal': '26'}, {'Ranks': '4.', 'Country': 'Canada', 'Gold': '11', 'Silver': '16', 'Bronze': '19', 'Total Medal': '46'}, {'Ranks': '5.', 'Country': 'South Africa', 'Gold': '6', 'Silver': '5', 'Bronze': '5', 'Total Medal': '16'}, {'Ranks': '6.', 'Country': 'India', 'Gold': '5', 'Silver': '5', 'Bronze': '3', 'Total Medal': '14'}, {'Ranks': '7.', 'Country': 'Scotland', 'Gold': '3', 'Silver': '8', 'Bronze': '15', 'Total Medal': '26'}, {'Ranks': '8.', 'Country': 'Wales', 'Gold': '3', 'Silver': '2', 'Bronze': '8', 'Total Medal': '13'}, {'Ranks': '9.', 'Country': 'Malaysia', 'Gold': '3', 'Silver': '2', 'Bronze': '3', 'Total Medal': '8'}, {'Ranks': '10.', 'Country': 'Nigeria', 'Gold': '2', 'Silver': '1', 'Bronze': '2', 'Total Medal': '5'}, {'Ranks': '11.', 'Country': 'Singapore', 'Gold': '1', 'Silver': '2', 'Bronze': '0', 'Total Medal': '3'}, {'Ranks': '12.', 'Country': 'Cyprus', 'Gold': '1', 'Silver': '1', 'Bronze': '2', 'Total Medal': '4'}, {'Ranks': '13.', 'Country': 'Trinidad & Tobago', 'Gold': '1', 'Silver': '1', 'Bronze': '1', 'Total Medal': '3'}, {'Ranks': '14.', 'Country': 'Bermuda', 'Gold': '1', 'Silver': '0', 'Bronze': '0', 'Total Medal': '1'}, {'Ranks': '14.', 'Country': 'Uganda', 'Gold': '1', 'Silver': '0', 'Bronze': '0', 'Total Medal': '1'}, {'Ranks': '16.', 'Country': 'Northern Ireland', 'Gold': '0', 'Silver': '2', 'Bronze': '3', 'Total Medal': '5'}, {'Ranks': '17.', 'Country': 'Fiji', 'Gold': '0', 'Silver': '2', 'Bronze': '0', 'Total Medal': '2'}, {'Ranks': '18.', 'Country': 'Kenya', 'Gold': '0', 'Silver': '1', 'Bronze': '1', 'Total Medal': '2'}, {'Ranks': '18.', 'Country': 'Mauritius', 'Gold': '0', 'Silver': '1', 'Bronze': '1', 'Total Medal': '2'}, {'Ranks': '20.', 'Country': 'Guernsey', 'Gold': '0', 'Silver': '1', 'Bronze': '0', 'Total Medal': '1'}, {'Ranks': '20.', 'Country': 'Papua New Guinea', 'Gold': '0', 'Silver': '1', 'Bronze': '0', 'Total Medal': '1'}, {'Ranks': '20.', 'Country': 'Samoa', 'Gold': '0', 'Silver': '1', 'Bronze': '0', 'Total Medal': '1'}, {'Ranks': '20.', 'Country': 'Tanzania', 'Gold': '0', 'Silver': '1', 'Bronze': '0', 'Total Medal': '1'}, {'Ranks': '24.', 'Country': 'Malta', 'Gold': '0', 'Silver': '0', 'Bronze': '1', 'Total Medal': '1'}]\n",
      "[{'Ranks': '1.', 'Country': 'Australia', 'Gold': '42', 'Silver': '32', 'Bronze': '32', 'Total Medal': '106'}, {'Ranks': '2.', 'Country': 'England', 'Gold': '31', 'Silver': '34', 'Bronze': '31', 'Total Medal': '86'}, {'Ranks': '3.', 'Country': 'New Zealand', 'Gold': '13', 'Silver': '7', 'Bronze': '6', 'Total Medal': '26'}, {'Ranks': '4.', 'Country': 'Canada', 'Gold': '11', 'Silver': '16', 'Bronze': '19', 'Total Medal': '46'}, {'Ranks': '5.', 'Country': 'South Africa', 'Gold': '6', 'Silver': '5', 'Bronze': '5', 'Total Medal': '16'}, {'Ranks': '6.', 'Country': 'India', 'Gold': '5', 'Silver': '5', 'Bronze': '3', 'Total Medal': '14'}, {'Ranks': '7.', 'Country': 'Scotland', 'Gold': '3', 'Silver': '8', 'Bronze': '15', 'Total Medal': '26'}, {'Ranks': '8.', 'Country': 'Wales', 'Gold': '3', 'Silver': '2', 'Bronze': '8', 'Total Medal': '13'}, {'Ranks': '9.', 'Country': 'Malaysia', 'Gold': '3', 'Silver': '2', 'Bronze': '3', 'Total Medal': '8'}, {'Ranks': '10.', 'Country': 'Nigeria', 'Gold': '2', 'Silver': '1', 'Bronze': '2', 'Total Medal': '5'}, {'Ranks': '11.', 'Country': 'Singapore', 'Gold': '1', 'Silver': '2', 'Bronze': '0', 'Total Medal': '3'}, {'Ranks': '12.', 'Country': 'Cyprus', 'Gold': '1', 'Silver': '1', 'Bronze': '2', 'Total Medal': '4'}, {'Ranks': '13.', 'Country': 'Trinidad & Tobago', 'Gold': '1', 'Silver': '1', 'Bronze': '1', 'Total Medal': '3'}, {'Ranks': '14.', 'Country': 'Bermuda', 'Gold': '1', 'Silver': '0', 'Bronze': '0', 'Total Medal': '1'}, {'Ranks': '14.', 'Country': 'Uganda', 'Gold': '1', 'Silver': '0', 'Bronze': '0', 'Total Medal': '1'}, {'Ranks': '16.', 'Country': 'Northern Ireland', 'Gold': '0', 'Silver': '2', 'Bronze': '3', 'Total Medal': '5'}, {'Ranks': '17.', 'Country': 'Fiji', 'Gold': '0', 'Silver': '2', 'Bronze': '0', 'Total Medal': '2'}, {'Ranks': '18.', 'Country': 'Kenya', 'Gold': '0', 'Silver': '1', 'Bronze': '1', 'Total Medal': '2'}, {'Ranks': '18.', 'Country': 'Mauritius', 'Gold': '0', 'Silver': '1', 'Bronze': '1', 'Total Medal': '2'}, {'Ranks': '20.', 'Country': 'Guernsey', 'Gold': '0', 'Silver': '1', 'Bronze': '0', 'Total Medal': '1'}, {'Ranks': '20.', 'Country': 'Papua New Guinea', 'Gold': '0', 'Silver': '1', 'Bronze': '0', 'Total Medal': '1'}, {'Ranks': '20.', 'Country': 'Samoa', 'Gold': '0', 'Silver': '1', 'Bronze': '0', 'Total Medal': '1'}, {'Ranks': '20.', 'Country': 'Tanzania', 'Gold': '0', 'Silver': '1', 'Bronze': '0', 'Total Medal': '1'}, {'Ranks': '24.', 'Country': 'Malta', 'Gold': '0', 'Silver': '0', 'Bronze': '1', 'Total Medal': '1'}, {'Ranks': '24.', 'Country': 'Namibia', 'Gold': '0', 'Silver': '0', 'Bronze': '1', 'Total Medal': '1'}]\n",
      "[{'Ranks': '1.', 'Country': 'Australia', 'Gold': '42', 'Silver': '32', 'Bronze': '32', 'Total Medal': '106'}, {'Ranks': '2.', 'Country': 'England', 'Gold': '31', 'Silver': '34', 'Bronze': '31', 'Total Medal': '86'}, {'Ranks': '3.', 'Country': 'New Zealand', 'Gold': '13', 'Silver': '7', 'Bronze': '6', 'Total Medal': '26'}, {'Ranks': '4.', 'Country': 'Canada', 'Gold': '11', 'Silver': '16', 'Bronze': '19', 'Total Medal': '46'}, {'Ranks': '5.', 'Country': 'South Africa', 'Gold': '6', 'Silver': '5', 'Bronze': '5', 'Total Medal': '16'}, {'Ranks': '6.', 'Country': 'India', 'Gold': '5', 'Silver': '5', 'Bronze': '3', 'Total Medal': '14'}, {'Ranks': '7.', 'Country': 'Scotland', 'Gold': '3', 'Silver': '8', 'Bronze': '15', 'Total Medal': '26'}, {'Ranks': '8.', 'Country': 'Wales', 'Gold': '3', 'Silver': '2', 'Bronze': '8', 'Total Medal': '13'}, {'Ranks': '9.', 'Country': 'Malaysia', 'Gold': '3', 'Silver': '2', 'Bronze': '3', 'Total Medal': '8'}, {'Ranks': '10.', 'Country': 'Nigeria', 'Gold': '2', 'Silver': '1', 'Bronze': '2', 'Total Medal': '5'}, {'Ranks': '11.', 'Country': 'Singapore', 'Gold': '1', 'Silver': '2', 'Bronze': '0', 'Total Medal': '3'}, {'Ranks': '12.', 'Country': 'Cyprus', 'Gold': '1', 'Silver': '1', 'Bronze': '2', 'Total Medal': '4'}, {'Ranks': '13.', 'Country': 'Trinidad & Tobago', 'Gold': '1', 'Silver': '1', 'Bronze': '1', 'Total Medal': '3'}, {'Ranks': '14.', 'Country': 'Bermuda', 'Gold': '1', 'Silver': '0', 'Bronze': '0', 'Total Medal': '1'}, {'Ranks': '14.', 'Country': 'Uganda', 'Gold': '1', 'Silver': '0', 'Bronze': '0', 'Total Medal': '1'}, {'Ranks': '16.', 'Country': 'Northern Ireland', 'Gold': '0', 'Silver': '2', 'Bronze': '3', 'Total Medal': '5'}, {'Ranks': '17.', 'Country': 'Fiji', 'Gold': '0', 'Silver': '2', 'Bronze': '0', 'Total Medal': '2'}, {'Ranks': '18.', 'Country': 'Kenya', 'Gold': '0', 'Silver': '1', 'Bronze': '1', 'Total Medal': '2'}, {'Ranks': '18.', 'Country': 'Mauritius', 'Gold': '0', 'Silver': '1', 'Bronze': '1', 'Total Medal': '2'}, {'Ranks': '20.', 'Country': 'Guernsey', 'Gold': '0', 'Silver': '1', 'Bronze': '0', 'Total Medal': '1'}, {'Ranks': '20.', 'Country': 'Papua New Guinea', 'Gold': '0', 'Silver': '1', 'Bronze': '0', 'Total Medal': '1'}, {'Ranks': '20.', 'Country': 'Samoa', 'Gold': '0', 'Silver': '1', 'Bronze': '0', 'Total Medal': '1'}, {'Ranks': '20.', 'Country': 'Tanzania', 'Gold': '0', 'Silver': '1', 'Bronze': '0', 'Total Medal': '1'}, {'Ranks': '24.', 'Country': 'Malta', 'Gold': '0', 'Silver': '0', 'Bronze': '1', 'Total Medal': '1'}, {'Ranks': '24.', 'Country': 'Namibia', 'Gold': '0', 'Silver': '0', 'Bronze': '1', 'Total Medal': '1'}, {'Ranks': '24.', 'Country': 'Sri Lanka', 'Gold': '0', 'Silver': '0', 'Bronze': '1', 'Total Medal': '1'}]\n"
     ]
    }
   ],
   "source": [
    "url = 'https://currentaffairs.adda247.com/commonwealth-games-2022-medal-tally-of-india-in-cwg/'\n",
    "\n",
    "res = requests.get(url)\n",
    "soup = BeautifulSoup(res.text,'html.parser')\n",
    "\n",
    "tag_obj = soup.find_all('table')\n",
    "\n",
    "cwg_table = tag_obj[1]\n",
    "\n",
    "header_elem = cwg_table.find('tr').find_all('td')\n",
    "\n",
    "medal_tally = {}\n",
    "final = []\n",
    "header = []\n",
    "for i in header_elem:\n",
    "    \n",
    "    header.append(i.get_text())\n",
    "    \n",
    "row_elems = cwg_table.find_all('tr')[1:]\n",
    "\n",
    "for i in row_elems:\n",
    "    eachrow = i.find_all('td')\n",
    "    rows = []\n",
    "    for j in eachrow:\n",
    "        \n",
    "        row1 = j.get_text()\n",
    "        rows.append(row1)\n",
    "     \n",
    "    for k in range(len(header)):\n",
    "        medal_tally[header[k]] = rows[k]\n",
    "    print(medal_tally)\n",
    "    final.append(medal_tally.copy())\n",
    "     \n",
    "        "
   ]
  },
  {
   "cell_type": "code",
   "execution_count": 8,
   "id": "6ade0df2",
   "metadata": {
    "collapsed": true
   },
   "outputs": [
    {
     "data": {
      "text/html": [
       "<div>\n",
       "<style scoped>\n",
       "    .dataframe tbody tr th:only-of-type {\n",
       "        vertical-align: middle;\n",
       "    }\n",
       "\n",
       "    .dataframe tbody tr th {\n",
       "        vertical-align: top;\n",
       "    }\n",
       "\n",
       "    .dataframe thead th {\n",
       "        text-align: right;\n",
       "    }\n",
       "</style>\n",
       "<table border=\"1\" class=\"dataframe\">\n",
       "  <thead>\n",
       "    <tr style=\"text-align: right;\">\n",
       "      <th></th>\n",
       "      <th>Country</th>\n",
       "      <th>Gold</th>\n",
       "      <th>Silver</th>\n",
       "      <th>Bronze</th>\n",
       "      <th>Total Medal</th>\n",
       "    </tr>\n",
       "    <tr>\n",
       "      <th>Ranks</th>\n",
       "      <th></th>\n",
       "      <th></th>\n",
       "      <th></th>\n",
       "      <th></th>\n",
       "      <th></th>\n",
       "    </tr>\n",
       "  </thead>\n",
       "  <tbody>\n",
       "    <tr>\n",
       "      <th>1.</th>\n",
       "      <td>Australia</td>\n",
       "      <td>42</td>\n",
       "      <td>32</td>\n",
       "      <td>32</td>\n",
       "      <td>106</td>\n",
       "    </tr>\n",
       "    <tr>\n",
       "      <th>2.</th>\n",
       "      <td>England</td>\n",
       "      <td>31</td>\n",
       "      <td>34</td>\n",
       "      <td>31</td>\n",
       "      <td>86</td>\n",
       "    </tr>\n",
       "    <tr>\n",
       "      <th>3.</th>\n",
       "      <td>New Zealand</td>\n",
       "      <td>13</td>\n",
       "      <td>7</td>\n",
       "      <td>6</td>\n",
       "      <td>26</td>\n",
       "    </tr>\n",
       "    <tr>\n",
       "      <th>4.</th>\n",
       "      <td>Canada</td>\n",
       "      <td>11</td>\n",
       "      <td>16</td>\n",
       "      <td>19</td>\n",
       "      <td>46</td>\n",
       "    </tr>\n",
       "    <tr>\n",
       "      <th>5.</th>\n",
       "      <td>South Africa</td>\n",
       "      <td>6</td>\n",
       "      <td>5</td>\n",
       "      <td>5</td>\n",
       "      <td>16</td>\n",
       "    </tr>\n",
       "    <tr>\n",
       "      <th>6.</th>\n",
       "      <td>India</td>\n",
       "      <td>5</td>\n",
       "      <td>5</td>\n",
       "      <td>3</td>\n",
       "      <td>14</td>\n",
       "    </tr>\n",
       "    <tr>\n",
       "      <th>7.</th>\n",
       "      <td>Scotland</td>\n",
       "      <td>3</td>\n",
       "      <td>8</td>\n",
       "      <td>15</td>\n",
       "      <td>26</td>\n",
       "    </tr>\n",
       "    <tr>\n",
       "      <th>8.</th>\n",
       "      <td>Wales</td>\n",
       "      <td>3</td>\n",
       "      <td>2</td>\n",
       "      <td>8</td>\n",
       "      <td>13</td>\n",
       "    </tr>\n",
       "    <tr>\n",
       "      <th>9.</th>\n",
       "      <td>Malaysia</td>\n",
       "      <td>3</td>\n",
       "      <td>2</td>\n",
       "      <td>3</td>\n",
       "      <td>8</td>\n",
       "    </tr>\n",
       "    <tr>\n",
       "      <th>10.</th>\n",
       "      <td>Nigeria</td>\n",
       "      <td>2</td>\n",
       "      <td>1</td>\n",
       "      <td>2</td>\n",
       "      <td>5</td>\n",
       "    </tr>\n",
       "    <tr>\n",
       "      <th>11.</th>\n",
       "      <td>Singapore</td>\n",
       "      <td>1</td>\n",
       "      <td>2</td>\n",
       "      <td>0</td>\n",
       "      <td>3</td>\n",
       "    </tr>\n",
       "    <tr>\n",
       "      <th>12.</th>\n",
       "      <td>Cyprus</td>\n",
       "      <td>1</td>\n",
       "      <td>1</td>\n",
       "      <td>2</td>\n",
       "      <td>4</td>\n",
       "    </tr>\n",
       "    <tr>\n",
       "      <th>13.</th>\n",
       "      <td>Trinidad &amp; Tobago</td>\n",
       "      <td>1</td>\n",
       "      <td>1</td>\n",
       "      <td>1</td>\n",
       "      <td>3</td>\n",
       "    </tr>\n",
       "    <tr>\n",
       "      <th>14.</th>\n",
       "      <td>Bermuda</td>\n",
       "      <td>1</td>\n",
       "      <td>0</td>\n",
       "      <td>0</td>\n",
       "      <td>1</td>\n",
       "    </tr>\n",
       "    <tr>\n",
       "      <th>14.</th>\n",
       "      <td>Uganda</td>\n",
       "      <td>1</td>\n",
       "      <td>0</td>\n",
       "      <td>0</td>\n",
       "      <td>1</td>\n",
       "    </tr>\n",
       "    <tr>\n",
       "      <th>16.</th>\n",
       "      <td>Northern Ireland</td>\n",
       "      <td>0</td>\n",
       "      <td>2</td>\n",
       "      <td>3</td>\n",
       "      <td>5</td>\n",
       "    </tr>\n",
       "    <tr>\n",
       "      <th>17.</th>\n",
       "      <td>Fiji</td>\n",
       "      <td>0</td>\n",
       "      <td>2</td>\n",
       "      <td>0</td>\n",
       "      <td>2</td>\n",
       "    </tr>\n",
       "    <tr>\n",
       "      <th>18.</th>\n",
       "      <td>Kenya</td>\n",
       "      <td>0</td>\n",
       "      <td>1</td>\n",
       "      <td>1</td>\n",
       "      <td>2</td>\n",
       "    </tr>\n",
       "    <tr>\n",
       "      <th>18.</th>\n",
       "      <td>Mauritius</td>\n",
       "      <td>0</td>\n",
       "      <td>1</td>\n",
       "      <td>1</td>\n",
       "      <td>2</td>\n",
       "    </tr>\n",
       "    <tr>\n",
       "      <th>20.</th>\n",
       "      <td>Guernsey</td>\n",
       "      <td>0</td>\n",
       "      <td>1</td>\n",
       "      <td>0</td>\n",
       "      <td>1</td>\n",
       "    </tr>\n",
       "    <tr>\n",
       "      <th>20.</th>\n",
       "      <td>Papua New Guinea</td>\n",
       "      <td>0</td>\n",
       "      <td>1</td>\n",
       "      <td>0</td>\n",
       "      <td>1</td>\n",
       "    </tr>\n",
       "    <tr>\n",
       "      <th>20.</th>\n",
       "      <td>Samoa</td>\n",
       "      <td>0</td>\n",
       "      <td>1</td>\n",
       "      <td>0</td>\n",
       "      <td>1</td>\n",
       "    </tr>\n",
       "    <tr>\n",
       "      <th>20.</th>\n",
       "      <td>Tanzania</td>\n",
       "      <td>0</td>\n",
       "      <td>1</td>\n",
       "      <td>0</td>\n",
       "      <td>1</td>\n",
       "    </tr>\n",
       "    <tr>\n",
       "      <th>24.</th>\n",
       "      <td>Malta</td>\n",
       "      <td>0</td>\n",
       "      <td>0</td>\n",
       "      <td>1</td>\n",
       "      <td>1</td>\n",
       "    </tr>\n",
       "    <tr>\n",
       "      <th>24.</th>\n",
       "      <td>Namibia</td>\n",
       "      <td>0</td>\n",
       "      <td>0</td>\n",
       "      <td>1</td>\n",
       "      <td>1</td>\n",
       "    </tr>\n",
       "    <tr>\n",
       "      <th>24.</th>\n",
       "      <td>Sri Lanka</td>\n",
       "      <td>0</td>\n",
       "      <td>0</td>\n",
       "      <td>1</td>\n",
       "      <td>1</td>\n",
       "    </tr>\n",
       "  </tbody>\n",
       "</table>\n",
       "</div>"
      ],
      "text/plain": [
       "                 Country Gold Silver Bronze Total Medal\n",
       "Ranks                                                  \n",
       "1.     Australia          42   32     32     106       \n",
       "2.     England            31   34     31     86        \n",
       "3.     New Zealand        13   7      6      26        \n",
       "4.     Canada             11   16     19     46        \n",
       "5.     South Africa       6    5      5      16        \n",
       "6.     India              5    5      3      14        \n",
       "7.     Scotland           3    8      15     26        \n",
       "8.     Wales              3    2      8      13        \n",
       "9.     Malaysia           3    2      3      8         \n",
       "10.    Nigeria            2    1      2      5         \n",
       "11.    Singapore          1    2      0      3         \n",
       "12.    Cyprus             1    1      2      4         \n",
       "13.    Trinidad & Tobago  1    1      1      3         \n",
       "14.    Bermuda            1    0      0      1         \n",
       "14.    Uganda             1    0      0      1         \n",
       "16.    Northern Ireland   0    2      3      5         \n",
       "17.    Fiji               0    2      0      2         \n",
       "18.    Kenya              0    1      1      2         \n",
       "18.    Mauritius          0    1      1      2         \n",
       "20.    Guernsey           0    1      0      1         \n",
       "20.    Papua New Guinea   0    1      0      1         \n",
       "20.    Samoa              0    1      0      1         \n",
       "20.    Tanzania           0    1      0      1         \n",
       "24.    Malta              0    0      1      1         \n",
       "24.    Namibia            0    0      1      1         \n",
       "24.    Sri Lanka          0    0      1      1         "
      ]
     },
     "execution_count": 8,
     "metadata": {},
     "output_type": "execute_result"
    }
   ],
   "source": [
    "pd.DataFrame(final).set_index('Ranks')"
   ]
  },
  {
   "cell_type": "code",
   "execution_count": 16,
   "id": "436a21a7",
   "metadata": {},
   "outputs": [
    {
     "name": "stdout",
     "output_type": "stream",
     "text": [
      "[{'good': 'bad'}]\n"
     ]
    }
   ],
   "source": [
    "alist = []\n",
    "adic = {}\n",
    "for i in range(10):\n",
    "    adic['good']= 'bad'\n",
    "alist.append(adic)\n",
    "print(alist)"
   ]
  },
  {
   "cell_type": "markdown",
   "id": "ce580ecf",
   "metadata": {},
   "source": [
    "# Wagon Wheel"
   ]
  },
  {
   "cell_type": "code",
   "execution_count": null,
   "id": "89fac14d",
   "metadata": {},
   "outputs": [],
   "source": [
    "data-tab=\"wagonWheelContent\" #wagonwheel click\n"
   ]
  },
  {
   "cell_type": "code",
   "execution_count": 11,
   "id": "2f0f6934",
   "metadata": {},
   "outputs": [
    {
     "name": "stdout",
     "output_type": "stream",
     "text": [
      "[<selenium.webdriver.remote.webelement.WebElement (session=\"3722c1e317041401828ef6102dad7746\", element=\"c0d05459-a768-4ab4-a678-c8deb6f17ad6\")>, <selenium.webdriver.remote.webelement.WebElement (session=\"3722c1e317041401828ef6102dad7746\", element=\"0d850d3c-6090-48ac-941f-5dc3877b6268\")>, <selenium.webdriver.remote.webelement.WebElement (session=\"3722c1e317041401828ef6102dad7746\", element=\"2a8d2bea-4f09-4fc1-9820-2fb456e52bb6\")>, <selenium.webdriver.remote.webelement.WebElement (session=\"3722c1e317041401828ef6102dad7746\", element=\"d9820ffb-11a4-40a0-855c-35b68da05e2a\")>]\n"
     ]
    }
   ],
   "source": [
    "driver = webdriver.Edge()\n",
    "driver.get('https://www.bcci.tv/events/73/india-tour-of-west-indies-t20-series-2022/match/589/3rd-t20i')\n",
    "\n",
    "wagon_tab = driver.find_element_by_css_selector('li[data-tab=\"wagonWheelContent\"]')\n",
    "wagon_tab.click()#click on the wagon tab\n",
    "\n",
    "#find the dropdown element to select a batter\n",
    "#obj = WebDriverWait(driver,30).until(EC.presence_of_element_located((By.CSS_SELECTOR,'div.col.s12.m12.l12.settingWrap.uniform-grid')))\n",
    "#elem = Select(obj.find_element_by_tag_name('select'))\n",
    "    \n",
    "#batter = elem.select_by_value('Suryakumar Yadav ')     \n",
    "                      \n",
    "wagon_elm = driver.find_elements_by_css_selector('div.wagonData.uniform-grid.js-wagonSideElements.offside div')\n",
    "\n",
    "print(wagon_elm)\n",
    "                      \n",
    "# final = []\n",
    "# for sides in wagon_elm:\n",
    "#     region = sides.find_element_by_tag_name('h6').text\n",
    "    \n",
    "#     runs = sides.find_element_by_css_selector('span>i').text\n",
    "      \n",
    "#     dic = {'Region':region,'Runs':runs}                  \n",
    "                      \n",
    "#     final.append(dic.copy())                  \n",
    "                      \n",
    "                      \n",
    "                      "
   ]
  },
  {
   "cell_type": "code",
   "execution_count": null,
   "id": "0bdc8858",
   "metadata": {},
   "outputs": [],
   "source": []
  },
  {
   "cell_type": "code",
   "execution_count": null,
   "id": "0de55e28",
   "metadata": {},
   "outputs": [],
   "source": [
    "# SQL, TABLEAU, EXCEL, Python, Power BI,"
   ]
  },
  {
   "cell_type": "code",
   "execution_count": null,
   "id": "90506307",
   "metadata": {},
   "outputs": [],
   "source": []
  },
  {
   "cell_type": "markdown",
   "id": "625314dd",
   "metadata": {},
   "source": [
    "# Scraping Linkdin "
   ]
  },
  {
   "cell_type": "code",
   "execution_count": 9,
   "id": "ed91d376",
   "metadata": {
    "scrolled": false
   },
   "outputs": [],
   "source": [
    "driver = webdriver.Edge()\n",
    "driver.get('https://in.linkedin.com/jobs/search?keywords=Data%2BAnalyst&location=India&geoId=102713980&f_TPR=r2592000&currentJobId=3211781970&position=7&pageNum=0')\n",
    "\n",
    "\n",
    "webelem = driver.find_element_by_css_selector('section.two-pane-serp-page__results-list>ul')\n",
    "\n",
    "\n",
    "#Script for infinite scrolling\n",
    "SCROLL_PAUSE_TIME = 3\n",
    "last_height = driver.execute_script(\"return document.body.scrollHeight\")\n",
    "\n",
    "\n",
    "while True:\n",
    "    \n",
    "   \n",
    "   \n",
    "    # Scroll down to bottom\n",
    "    driver.execute_script(\"window.scrollTo(0, document.body.scrollHeight);\")\n",
    "\n",
    "    # Wait to load page\n",
    "    time.sleep(SCROLL_PAUSE_TIME)\n",
    "    \n",
    "   \n",
    "\n",
    "\n",
    "    # Calculate new scroll height and compare with last scroll height\n",
    "    new_height = driver.execute_script(\"return document.body.scrollHeight\")\n",
    "    if new_height == last_height:\n",
    "        break      \n",
    "    last_height = new_height\n",
    "    \n",
    "    \n",
    "last_height = driver.execute_script(\"return document.body.scrollHeight\")   \n",
    "\n",
    "for i in range(400):\n",
    "    #find the \"show more\" button\n",
    "    button_elem = WebDriverWait(driver,5).until(EC.element_to_be_clickable((By.CSS_SELECTOR,'button.infinite-scroller__show-more-button.infinite-scroller__show-more-button--visible')))\n",
    "    #click on that button\n",
    "    button_elem.click()\n",
    "    \n",
    "    time.sleep(SCROLL_PAUSE_TIME)\n",
    "    #scroll down to the bottom of the page\n",
    "    driver.execute_script(\"window.scrollTo(0, document.body.scrollHeight);\")\n",
    "    new_height = driver.execute_script(\"return document.body.scrollHeight\")\n",
    "    if new_height == last_height:\n",
    "        break      \n",
    "    last_height = new_height\n",
    "\n",
    "#find the links to the job description\n",
    "lis = webelem.find_elements_by_css_selector('li>div>a')\n",
    "\n",
    "\n",
    "link_list = []\n",
    "for i in lis:\n",
    "    links = i.get_attribute('href')\n",
    "    link_list.append(links)\n",
    "\n",
    "text = []\n",
    "for link in link_list:\n",
    "    res = requests.get(link)\n",
    "    soup = BeautifulSoup(res.text,'html.parser')\n",
    "    descr_elem = soup.select(\"div.show-more-less-html__markup.show-more-less-html__markup--clamp-after-5 p\")\n",
    "    for i in descr_elem:\n",
    "        element= i.get_text()\n",
    "        text.append(element)\n",
    "\n",
    "    \n",
    "        "
   ]
  },
  {
   "cell_type": "code",
   "execution_count": 49,
   "id": "15b16394",
   "metadata": {},
   "outputs": [
    {
     "name": "stdout",
     "output_type": "stream",
     "text": [
      "LeadSquared is looking for a Data Analyst (2-5 Years only) ( Very good SQL exp required) \n",
      "● Own the design, development, and maintenance of ongoing metrics, reports, analyses, dashboards, etc. within SQL,\n",
      "● Advanced proficiency in SQL, Python, and Excel\n",
      "We are looking for candidates with excellent problem solving, excellent customer focus, and analytical skills to join our ABS Technical team. The ideal candidate should have a bachelors or master s degree in Technology with zero to two years of industry experience / interest in handling ETL processes for data projects. The candidate should possess excellent communication skills with the ability to articulate complex topics with business and technical teams. Candidate should be proficient in SQL, ETL tools, and at least in programming language. Working experience in Python to perform data manipulation and statistical analysis will be a good to have skill set. We are looking for self-motivated candidates who are pro-active, take end to end ownership of data products, and have exceptional focus on data quality.\n",
      "We are looking for candidates with excellent problem solving, excellent customer focus, and analytical skills to join our ABS Technical team. The ideal candidate should have a bachelors or master s degree in Technology with zero to two years of industry experience / interest in handling ETL processes for data projects. The candidate should possess excellent communication skills with the ability to articulate complex topics with business and technical teams. Candidate should be proficient in SQL, ETL tools, and at least in programming language. Working experience in Python to perform data manipulation and statistical analysis will be a good to have skill set. We are looking for self-motivated candidates who are pro-active, take end to end ownership of data products, and have exceptional focus on data quality.\n",
      "● Excellent knowledge of SQL, comfortable working with large and noisy datasets.\n",
      "• Strong SQL and Python knowledge and Hands-on experience\n",
      "We are looking for candidates with excellent problem solving, excellent customer focus, and analytical skills to join our ABS Technical team. The ideal candidate should have a bachelors or master s degree in Technology with zero to two years of industry experience / interest in handling ETL processes for data projects. The candidate should possess excellent communication skills with the ability to articulate complex topics with business and technical teams. Candidate should be proficient in SQL, ETL tools, and at least in programming language. Working experience in Python to perform data manipulation and statistical analysis will be a good to have skill set. We are looking for self-motivated candidates who are pro-active, take end to end ownership of data products, and have exceptional focus on data quality.\n",
      "with knowledge in analyzing data, SQL and must experience working in banking domain\n",
      "SQL, SQL SERVER, MS ACCESS, MS EXCEL\n",
      "This position involves a) directly interacting with higher management and marketing leaders to gather requirements, b) implementing SQL transformations where necessary and building out reports and dashboards and c) presenting the insights to end-users and iterating on their feedback.\n",
      "SQL, SQL SERVER, MS ACCESS, MS EXCEL\n",
      " Good hands on SQL\n",
      "We are hiring a smart individual having excellent analytical skills. As an analyst, you will be required to perform data analytics to solve complex problems and find the desired solution. You will be working closely with all the departments in the company and some clients to develop BI reports. Along with SQL, google sheet and various BI tools, you would also be required to learn multiple tools and platforms used by the different teams in the organization.\n",
      "Learn Data Analyst with Python, Sql & Tableau @ Just 9,999 INR Per Month\n",
      " SQL, SQL SERVER, MS ACCESS, MS EXCEL\n",
      "● Data extraction using SQL / Macro business objects or similar.\n",
      "● Write Python Scripts, SQL queries and understands the tech product to drive improvement.\n",
      "● Expertise in databases and scripting languages (SQL, Basic Python, Advanced Excel).\n",
      "· Experience with articulating product questions, pulling data from datasets (SQL) and using statistics to perform rigorous analysis.\n",
      "o Expert in SQL, well-versed in R or Python . Knowledge of both R and Python is a plus \n",
      "· Maintain up-to-date and detailed documentation of the current reporting landscape (specifications, definitions, timelines, distribution lists, SQL queries, execution guides, etc.)\n",
      "· Knowledge of SQL and experience in writing and executing queries in e.g. Microsoft SQL Management Studio\n",
      "The Analytic Consulting Group (ACG) collaborates with both internal and external clients, and data providers, leveraging various analytics to drive strategic thought and effective decision-making. The Data Analyst 1 is responsible for conducting data analyses using SAS/SQL/Python/R/Google Analytics/Adobe Analytics and other tools in support of a variety of analytic solutions.\n",
      "· Hands on experience in writing SQL Queries\n",
      "· Good working knowledge in using Pandas and sqlalchemy library\n",
      "Required Technical Skill : HQL, SQL, Design Patterns, Data Structure, Data Transformation Experience with Big Data tools.\n",
      "Fluent in SQL, Excel, and visualization tools such as Tableau or Qlikview; experience with a statistical programming language (e.g., R, Python) and/or web analytics tools (e.g., Adobe Ominture, Google Analytics) preferred\n",
      "We are looking for an experienced data analyst, preferably with additional data science, machine learning and AI experience. The initial assignment will be with the Data Analytics team to optimize the quality of our datasets and prepare them for upcoming machine learning and AI tasks. You will use Databricks, Apache Spark, Spark SQL, Python, Tableau, and custom APIs to perform these tasks. Previous experience with real estate, telecom or geographic information systems is a plus.\n",
      "Proficiency SAS/Base, SAS Macros, SAS/Graph and PROC SQL /Oracle\n",
      "- Technical capabilities (Hands on) : Python (Pandas, SciPy, Sklearn, PyMc), Statistics, SQL, Data visualization. Handling very large, unstructured, multi-dimensional, different varieties of data sets.\n",
      "We are looking for strong Data Engineers(MySQL, Python, Shell Script, Spark, Presto, EMR, Athena, Hudi) experienced in Wealth Management/Capital Markets domain, to create new data ingestion flows and pipelines using a wide variety of technologies centered around Python, MySQL, Shell Script and Spark. You’ll be working on data pipelines and tools to provide the underlying data ingestion framework for a leading wealth management platform for financial professionals and investors alike\n",
      "3. Proficiency with the statistical tools such as Stata or SPSS and coding proficiency in programming languages such as R, SQL and Python, would tilt the scale significantly in favor of the candidate.\n",
      "6. High level of proficiency with Excel, Macros, SQL.\n",
      "iii.)Comfortable using macros and working knowledge of SQL would be an advantage\n",
      "Role: Data Analytics (PowerBI, SQL, R/Python)\n",
      "Excellent understanding of SQL, Python/R. Ability to be hands-on as needed. Experience in working on large datasets is a must.\n",
      "• Working proficiency in effective use of analytics software (R, Python, SQL) and technology tools, especially related to analytics, data and modeling is mandatory. \n",
      " - SQL\n",
      " - Experience with latest databases technologies in the industry including Data Warehousing/ETL and Relational Databases (PostgreSQL, Snowflake, Databricks delta lake, etc.)\n",
      " - Proficiency in writing complex SQL with Redshift, PostgreSQL and Columnar Databases\n",
      "POSITION : SQL Developer\n",
      "NOTE : Please share your resume and below detail in one mail with subject line (SQL Developer(Mumbai))with your name to get processed your application immediately .\n",
      "Role : SQL Developer\n",
      "SQL, Campaign Developer \n",
      "· Strong knowledge of and experience with BI tools (e.g. SSRS, PowerBI, Tableau) and databases (e.g. SQL, PostgreSQL)\n",
      "• Understanding and experience using SQL to maintain, create and retrieve information from relational databases. \n",
      "●     Developing SQL Server scripts within DataMC coding guidelines and practices \n",
      "•       Demonstrated SQL Server coding ability \n",
      "•       The ability to create and document scripts/programs to facilitate the extraction, transformation and loading of legacy data using Microsoft SQL Server, or like ETL tools, to implement new system or data warehouse repositories \n",
      "•       Coding in T-SQL or Oracle PL-SQL \n",
      "Excellent understanding of SQL, Python/R. Ability to be hands-on as needed. Experience in working on large datasets is a must.\n",
      "•         SQL, Python, Amazon AWS understanding: Lambda Function, EC2, RDS.\n",
      "•         6 months to 1 years of SQL experience (MySQL experience is a plus)\n",
      "POSITION : SQL Developer\n",
      "NOTE : Please share your resume and below detail in one mail with subject line (SQL Developer(Bangalore))with your name to get processed your application immediately .\n",
      "Role : SQL Developer(Bangalore)\n",
      " • Familiarity with database architecture and one or more database platforms (e.g. SQL Server).\n",
      "· Develop test data scripts (primarily in SQL & Python) based on ETL mapping artifacts and other technical documentation\n",
      "· Integration testing - Services, ETL, Database (SQL/Oracle) - covering DML Validations, Batch Monitoring etc\n",
      " Hands on experience in SQL is mandatory.\n",
      "● Perform various data analytics experiences in SQL, DBT, Google Data Studio, Tableau, and MS Excel using industry-accepted tools.\n",
      "● Expert SQL skills to create views and power dashboards for analysis.\n",
      "● Good working knowledge of SQL and R/Python to perform data querying, build BI models, and conduct data analysis. Experience with AWS or other cloud-based technology is a plus\n",
      "- Hands-on knowledge and experience with tools and techniques for analysis (data warehouses, databases (e.g., SAS, SQL, Cognos, etc.), and data processing tools, analysis, presentation and application\n",
      "loading of data from a wide variety of data sources using SQL ,SnowFlake and\n",
      "● Advanced working SQL knowledge and experience working with relational\n",
      "databases, query authoring (SQL) as well as working familiarity with a variety of\n",
      "○ Experience with relational SQL and NoSQL databases, including Postgres\n",
      "· Designing solutions for Big Data with a good understanding of cluster and parallel architecture as well as high-scale or distributed RDBMS and/or knowledge on NoSQL platforms, Java, Hadoop, Spark, Kafka, Databricks, Azure Cloud, Azure SQL etc.\n",
      "· Expert in Design & Architecture in Java, Kafka, Hadoop, Spark, Azure Data Lake, Data bricks, Splunk, Elastic, Azure SQL, DB Architect, Schema Design, Report Design using Power BI etc\n",
      "· Expert in structured & unstructured data - No-SQL Database such as Couchbase or Mongo, RBMS such as Oracle\n",
      "Mandate Skills: VBA Macros, sql db, java script api, google app script\n",
      "• Proficiencies in Google Tools , Microsoft tools and MRP systems: Excel power user, Macro (VBA), Power Point, Google Scripts, Knowledge on creating workflow on Sharepoint, Cognos/DOMO reporting & Query, Oracle, Agile, SQL(Structured Query Language), API(Application Programming Interface), RPA(Robotics Process Automation).\n",
      "•            Experience with relational SQL, NoSQL DB, Streaming and ETL.\n",
      "Skills needed - Python, Pyspark, Big Data Technologies - Hadoop, Hive, Scala, Spark, SparkSQL, Sqoop. Development on AWS Cloud preferable\n",
      "· experience in SQL optimization and performance tuning, and development experience in programming languages like Python, PySpark, Scala etc.).\n",
      "Mandatory Skills:SQL DB, Azure Data Lake\n",
      "· experience in SQL optimization and performance tuning, and development experience in programming languages like Python, PySpark, Scala etc.).\n",
      "- Must have efficiency on - Advanced Excel including Macros, R/Python, SQL/BigQuery, Data Studio, Power BI\n",
      "Dealing with Data sources such as SQL(MSSQL, SSIS )/no-SQL(Mongo), third-party WebAPIs and \n",
      "·         Advanced working SQL knowledge to create complex queries.\n",
      "· Deep understanding of SQL, Python/R. Extensive hands-on with these tools, experience of working on large datasets is a must.\n",
      "· Experience working with SQL \n",
      "· SQL scripting experience is an advantage\n",
      "Qualifications• Bachelor’s Degree in related field with relevant work experience• Strong MS Office skills especially Excel and Access• Ability to master current and learn new computer systems• 2+ years’ experience in related field preferred• Hands on analytical tool skills preferred• Excellent English spoken, comprehension and written skills• Excellent customer service skills preferred• Strong ability to manage and prioritize multiple projects preferred• SAP ECC, SAP MDG, SAP HANA experience preferred• Functional Requirements documentation skills preferred• Digital Fluency – exposure to AI/ML/NLP/RPA strongly preferred• Lean Mindset – LSS/Operational Excellence training and background preferred• MS Access/SQL/VBA/Python not required, but would be a great addition to the qualifications above \n",
      "• Strong understanding of scripting languages, including R, Python, Scala, and SQL.\n",
      "Access, business objects, Cognos, Excel, Hadoop, Apache Hive, Oracle, Power BI, Powermap, Power Pivot, Power Query, SAS, SharePoint, Apache Spark, SQL Server, SSRS, Tableau, Teradata, Visio\n",
      "Programming/Scripting Languages: Apache Hive, Java, JavaScript, mdx, Python, r, SQL, T-SQL\n",
      "4. strong in writing SQL queries. \n",
      "• Proficiency with one or more relevant programming languages such as R, SQL, Python\n",
      "● Experience working with SQL to manipulate medium/large data sets from multiple sources\n",
      "2+ years of experience in data engineering and pipeline development using Python, Spark, and/or SQL \n",
      "Familiarity with common databases (e.g. JDBC, SQL, Microsoft SQL, Oracle DB). Not all types required \n",
      "· Use R / Python / SAS / SQL / Python /Excel & other relevant technologies to deliver analytics, dashboards and automated recurring insights/reports at desired frequency.\n",
      "• Excellent knowledge in SQL scripting with complex query.\n",
      "• Good knowledge of AZURE Cloud platform services stack - Azure Data Factory, Azure SQL Database, AZURE Data Warehouse, Azure Databricks, Azure Blob Storage, Azure Data Lake Storage, HDInsight, Cosmos DB, etc.\n",
      "• Load/extract data from multiple cloud applications like Salesforce.com etc. and legacy applications (e.g., SQL Server).\n",
      "● Experience in developing solutions in some of SQL (+ variants), Python, Scala, Java\n",
      "Hands-on experience with EMR Apache Spark Hadoop technologies Good knowledge of Configuring and working on Multi-node clusters and distributed data processing framework Spark. Python and PySpark, Spark SQL.\n",
      "We are looking for PL/SQL Developer\n",
      "Hands on experience on latest PL-SQL version and complete DB understanding\n",
      "• At least 2 years of experience in SQL and PySpark\n",
      "•\tSQL\n",
      "Must Have – Python/Scala, Spark, SQL\n",
      "Data Integration Engineer - T-SQL/SSIS\n",
      "· Good Knowledge in T-SQL ( SQL Server 2008 or Later )\n",
      "Hiring for PLSQL Developer for PAN India\n",
      "Job Title: PLSQL Developer\n",
      "· Expertise in SQL and PL/SQL programming, developing complex code units\n",
      "Hiring for PLSQL Developer for PAN India\n",
      "Job Title: PLSQL Developer\n",
      "· Expertise in SQL and PL/SQL programming, developing complex code units\n",
      "● Proficiency in SQL \n",
      "Job Title: PLSQL Developer\n",
      "· Expertise in SQL and PL/SQL programming, developing complex code units\n",
      "Need a SQL Server Developer with Postgres Migration experience.\n",
      "MS SQL, Postgres, DBA, Migration experience.\n",
      "· Expertise in relational databases and usage of SQL.\n",
      "SQL is mandatory \n",
      "3. Have experience with performance tuning specific to SQL.\n",
      "4. Excellent Expertise in SQL, can independently mine data to translate Business data needs into creative\n",
      "5. Knowledge of Optimization and fine tuning in SQL\n",
      "14. Projects will include design, deployment ,and on-going enhancements request through SQL and Visualize the data through optimized manner. Build prototypes for demonstration and illustration purposes for peer groups ,Business partners, or senior leaders.\n",
      "Hiring for PLSQL Developer for PAN India \n",
      "Job Title: PLSQL Developer \n",
      "Job Title: PLSQL Developer\n",
      "· Expertise in SQL and PL/SQL programming, developing complex code units\n",
      "Job Title: PLSQL Developer\n",
      "· Expertise in SQL and PL/SQL programming, developing complex code units\n",
      "Job Title: PLSQL Developer\n",
      "· Expertise in SQL and PL/SQL programming, developing complex code units\n",
      "We are hiring Pl/Sql Developer\n",
      "- Python & SQL\n",
      "Skills -Talend Tool,SQL\n",
      "SQL Developer with SSIS : 7+ Yrs. Experience\n",
      "SQL Developer with SSIS.- 7 to 12 Years\n",
      "· Developing, installing, maintaining, monitoring and providing support for SQL databases using MS-SQL and T-SQL tools;\n",
      " Utilizing development tools/environments like Microsoft Visual Studio, SQL Management Studio, SQL Profiler, Microsoft Team Foundation Server and\n",
      " Programming languages including C# and T-SQL\n",
      "Hiring for PLSQL Developer for PAN India\n",
      "Job Title: PLSQL Developer\n",
      "· Expert level of SQL skills, including reverse-engineering database structures and data definitions by investigating actual data to create and validate hypothesis\n",
      "•\tSQL\n",
      "● Proficiency in SQL \n",
      "Must-Have: Expertise on SQL and PL/ SQL skills\n",
      "Good-to-Have: RAC, performance tuning, SQL tuning.\n",
      "Job Title: PLSQL Developer\n",
      "What we are looking for: Expertise in SQL and PL/SQL programming, developing complex code units.\n"
     ]
    }
   ],
   "source": [
    "count = 0\n",
    "for i in text:\n",
    "    regexobj = re.compile(r'SQL',re.I)\n",
    "    match = regexobj.findall(i)\n",
    "    if match != []:\n",
    "        print(i)\n",
    "        count+=1"
   ]
  },
  {
   "cell_type": "code",
   "execution_count": 50,
   "id": "0e15d4a2",
   "metadata": {},
   "outputs": [
    {
     "data": {
      "text/plain": [
       "149"
      ]
     },
     "execution_count": 50,
     "metadata": {},
     "output_type": "execute_result"
    }
   ],
   "source": [
    "count"
   ]
  },
  {
   "cell_type": "code",
   "execution_count": null,
   "id": "2fd4c0c9",
   "metadata": {},
   "outputs": [],
   "source": [
    "'SQL|Python|Power BI|PowerBI|Tableau|Excel|R|Qlik|'"
   ]
  },
  {
   "cell_type": "code",
   "execution_count": 10,
   "id": "57766700",
   "metadata": {},
   "outputs": [
    {
     "data": {
      "text/plain": [
       "987"
      ]
     },
     "execution_count": 10,
     "metadata": {},
     "output_type": "execute_result"
    }
   ],
   "source": [
    "len(link_list)"
   ]
  },
  {
   "cell_type": "code",
   "execution_count": 27,
   "id": "b9c428f0",
   "metadata": {
    "scrolled": true
   },
   "outputs": [
    {
     "data": {
      "text/plain": [
       "3949"
      ]
     },
     "execution_count": 27,
     "metadata": {},
     "output_type": "execute_result"
    }
   ],
   "source": [
    "len(text) # contains empty strings"
   ]
  },
  {
   "cell_type": "code",
   "execution_count": 26,
   "id": "bd6b9126",
   "metadata": {},
   "outputs": [],
   "source": [
    "while (\"\" in text):\n",
    "    \n",
    "    text.remove(\"\")#use remove to strip off empty strings from the list\n",
    "    text.remove(\" \")"
   ]
  },
  {
   "cell_type": "code",
   "execution_count": null,
   "id": "19e879f7",
   "metadata": {},
   "outputs": [],
   "source": [
    "len(text) #check the length again"
   ]
  },
  {
   "cell_type": "code",
   "execution_count": 54,
   "id": "94aa5e26",
   "metadata": {},
   "outputs": [
    {
     "data": {
      "text/plain": [
       "18"
      ]
     },
     "execution_count": 54,
     "metadata": {},
     "output_type": "execute_result"
    }
   ],
   "source": [
    "text.index('● Advanced proficiency in SQL, Python, and Excel')"
   ]
  },
  {
   "cell_type": "code",
   "execution_count": 51,
   "id": "364e11ef",
   "metadata": {},
   "outputs": [
    {
     "data": {
      "text/plain": [
       "'LeadSquared is looking for a Data Analyst (2-5 Years only) ( Very good SQL exp required) '"
      ]
     },
     "execution_count": 51,
     "metadata": {},
     "output_type": "execute_result"
    }
   ],
   "source": [
    "text[0]"
   ]
  },
  {
   "cell_type": "code",
   "execution_count": null,
   "id": "7dd7a2fc",
   "metadata": {},
   "outputs": [],
   "source": []
  },
  {
   "cell_type": "markdown",
   "id": "7b041719",
   "metadata": {},
   "source": [
    "# Submit Form using Selenium"
   ]
  },
  {
   "cell_type": "code",
   "execution_count": null,
   "id": "3bfd6635",
   "metadata": {},
   "outputs": [],
   "source": [
    "driver = webdriver.Edge()\n",
    "\n",
    "driver.get('http://www.webscrapingfordatascience.com/postform2/')\n",
    "\n",
    "driver.find_element_by_name('name').send_keys('Pranav')\n",
    "driver.find_element_by_css_selector('input[value=\"M\"]').click()\n",
    "driver.find_element_by_name('salad').click()\n",
    "driver.find_element_by_name('fries').click()\n",
    "Select(driver.find_element_by_name('haircolor')).select_by_value('black')\n",
    "driver.find_element_by_name('comments').send_keys('I am currently learning to code in Python',Keys.ENTER ,'and aspire to become a Data Analyst')\n",
    "input('Press Enter to Submit your Form')\n",
    "driver.find_element_by_css_selector('input[value=\"Submit my information\"]').click()\n",
    "\n",
    "input('Press Enter to close the browser')\n",
    "\n",
    "driver.quit()"
   ]
  },
  {
   "cell_type": "code",
   "execution_count": null,
   "id": "5030a36d",
   "metadata": {},
   "outputs": [],
   "source": [
    "\n"
   ]
  },
  {
   "cell_type": "code",
   "execution_count": null,
   "id": "80b8dd48",
   "metadata": {},
   "outputs": [],
   "source": []
  },
  {
   "cell_type": "code",
   "execution_count": null,
   "id": "fb97e70b",
   "metadata": {},
   "outputs": [],
   "source": []
  },
  {
   "cell_type": "code",
   "execution_count": null,
   "id": "9ace4a75",
   "metadata": {},
   "outputs": [],
   "source": []
  },
  {
   "cell_type": "code",
   "execution_count": null,
   "id": "b35c4411",
   "metadata": {},
   "outputs": [],
   "source": []
  },
  {
   "cell_type": "code",
   "execution_count": null,
   "id": "62eb970c",
   "metadata": {},
   "outputs": [],
   "source": []
  },
  {
   "cell_type": "code",
   "execution_count": null,
   "id": "fdca6c66",
   "metadata": {},
   "outputs": [],
   "source": []
  },
  {
   "cell_type": "code",
   "execution_count": null,
   "id": "785b0855",
   "metadata": {},
   "outputs": [],
   "source": []
  },
  {
   "cell_type": "code",
   "execution_count": null,
   "id": "b433fb10",
   "metadata": {},
   "outputs": [],
   "source": [
    "browser = webdriver.Edge()\n",
    "browser.get('https://nostarch.com/')\n",
    "\n",
    "html_elem = browser.find_element_by_tag_name('html')\n",
    "html_elem.send_keys(Keys.HOME)\n",
    "html_elem.send_keys(Keys.END)"
   ]
  },
  {
   "cell_type": "code",
   "execution_count": null,
   "id": "6f75d895",
   "metadata": {},
   "outputs": [],
   "source": [
    "browser = webdriver.Edge()\n",
    "browser.get('https://www.espncricinfo.com/series/india-in-west-indies-2022-1317885/west-indies-vs-india-1st-odi-1317900/match-overs-comparison')\n",
    "\n",
    "elem = browser.find_elements_by_class_name('ds-border-b ds-border-line')\n",
    "for i in range(len(elem)):\n",
    "    elem[i].click()`"
   ]
  },
  {
   "cell_type": "code",
   "execution_count": null,
   "id": "430de344",
   "metadata": {},
   "outputs": [],
   "source": [
    "driver = webdriver.Edge()\n",
    "driver.get('http://www.webscrapingfordatascience.com/complexjavascript/')\n",
    "input('press Enter to close the webbrowser')\n",
    "driver.quit()"
   ]
  },
  {
   "cell_type": "code",
   "execution_count": null,
   "id": "4e751026",
   "metadata": {},
   "outputs": [],
   "source": [
    "driver = webdriver.Edge()\n",
    "driver.implicitly_wait(30)\n",
    "driver.get('http://www.webscrapingfordatascience.com/complexjavascript/')\n",
    "\n",
    "elements = driver.find_elements_by_class_name('quotes')\n",
    "\n",
    "for i in elements:\n",
    "    print(i.text)\n",
    "\n",
    "input('Press Enter to close:')\n",
    "\n",
    "driver.quit()"
   ]
  },
  {
   "cell_type": "code",
   "execution_count": null,
   "id": "65359b13",
   "metadata": {},
   "outputs": [],
   "source": []
  },
  {
   "cell_type": "code",
   "execution_count": null,
   "id": "bdfaba05",
   "metadata": {},
   "outputs": [],
   "source": []
  },
  {
   "cell_type": "code",
   "execution_count": null,
   "id": "f6116d12",
   "metadata": {},
   "outputs": [],
   "source": []
  },
  {
   "cell_type": "code",
   "execution_count": null,
   "id": "7686a9e8",
   "metadata": {},
   "outputs": [],
   "source": []
  },
  {
   "cell_type": "code",
   "execution_count": null,
   "id": "e5d996b3",
   "metadata": {},
   "outputs": [],
   "source": [
    "import requests\n",
    "from bs4 import BeautifulSoup"
   ]
  },
  {
   "cell_type": "code",
   "execution_count": null,
   "id": "7df4aaa5",
   "metadata": {},
   "outputs": [],
   "source": [
    "res = requests.get('https://en.wikipedia.org/w/index.php?title=List_of_Game_of_Thrones_episodes')\n",
    "soup = BeautifulSoup(res.text)\n",
    "type(soup)"
   ]
  },
  {
   "cell_type": "code",
   "execution_count": null,
   "id": "79da8691",
   "metadata": {},
   "outputs": [],
   "source": [
    "tagobj1 = soup.find('h1')"
   ]
  },
  {
   "cell_type": "code",
   "execution_count": null,
   "id": "dbc87929",
   "metadata": {},
   "outputs": [],
   "source": [
    "tagobj"
   ]
  },
  {
   "cell_type": "code",
   "execution_count": null,
   "id": "7f6f6537",
   "metadata": {},
   "outputs": [],
   "source": [
    "tagobj.name"
   ]
  },
  {
   "cell_type": "code",
   "execution_count": null,
   "id": "64a6eb6f",
   "metadata": {},
   "outputs": [],
   "source": [
    "str(tagobj)"
   ]
  },
  {
   "cell_type": "code",
   "execution_count": null,
   "id": "d5eb69ad",
   "metadata": {},
   "outputs": [],
   "source": [
    "tagobj.text"
   ]
  },
  {
   "cell_type": "code",
   "execution_count": null,
   "id": "60468e1d",
   "metadata": {},
   "outputs": [],
   "source": [
    "tagobj.get_text()"
   ]
  },
  {
   "cell_type": "code",
   "execution_count": null,
   "id": "b4d50f98",
   "metadata": {},
   "outputs": [],
   "source": [
    "tagobj.contents"
   ]
  },
  {
   "cell_type": "code",
   "execution_count": null,
   "id": "3d52a4cb",
   "metadata": {},
   "outputs": [],
   "source": [
    "tagobj.attrs"
   ]
  },
  {
   "cell_type": "code",
   "execution_count": null,
   "id": "1af74058",
   "metadata": {},
   "outputs": [],
   "source": [
    "soup.find_all(['h1','h2'])[0].get_text('--')"
   ]
  },
  {
   "cell_type": "code",
   "execution_count": null,
   "id": "0368c4f8",
   "metadata": {},
   "outputs": [],
   "source": [
    "cite_elems = soup.find_all('cite',attrs = {'class':'citation'},limit = 5)"
   ]
  },
  {
   "cell_type": "code",
   "execution_count": null,
   "id": "7fd276d7",
   "metadata": {},
   "outputs": [],
   "source": [
    "for cont in  cite_elems:\n",
    "    print(cont.get_text())\n",
    "    link = cont.find('a')\n",
    "    print(link.get('href'))\n",
    "    \n",
    "    "
   ]
  },
  {
   "cell_type": "code",
   "execution_count": null,
   "id": "df348627",
   "metadata": {},
   "outputs": [],
   "source": [
    "res = requests.get('https://en.wikipedia.org/w/index.php?title=List_of_Game_of_Thrones_episodes')\n",
    "soup = BeautifulSoup(res.text,'html.parser')\n",
    "\n",
    "tagobj = soup.find_all('table',class_='wikiepisodetable')\n",
    "\n",
    "episodes = []\n",
    "\n",
    "for tables in tagobj:\n",
    "    header=[]\n",
    "    header_elem = tables.find_all('th',scope = 'col')\n",
    "    for i in header_elem:\n",
    "        header.append(i.get_text())\n",
    "    \n",
    "    \n",
    "    \n",
    "    for rows in tables.find_all('tr')[1:] :\n",
    "        value = []\n",
    "        value_elem = rows.find_all(['td','th'])\n",
    "        \n",
    "        for j in value_elem:\n",
    "            value.append(j.get_text())\n",
    "       \n",
    "        for k in range(len(value)):\n",
    "            episode_dict = {header[k]:value[k]}\n",
    "            episodes.append(episode_dict)\n",
    "        "
   ]
  },
  {
   "cell_type": "code",
   "execution_count": null,
   "id": "f393671c",
   "metadata": {},
   "outputs": [],
   "source": [
    "episodes"
   ]
  },
  {
   "cell_type": "markdown",
   "id": "cb9b8faa",
   "metadata": {},
   "source": [
    "# links from Wikipedia page"
   ]
  },
  {
   "cell_type": "code",
   "execution_count": null,
   "id": "af6dcd2c",
   "metadata": {},
   "outputs": [],
   "source": [
    "res = requests.get('https://en.wikipedia.org/w/index.php?title=List_of_Game_of_Thrones_episodes')\n",
    "soup = BeautifulSoup(res.text, 'html.parser')\n",
    "\n",
    "elem_tag = soup.find_all('a')\n",
    "\n",
    "for i in elem_tag:\n",
    "    try:\n",
    "        print(i.get_text())\n",
    "        print('https://en.wikipedia.org'+ i.get('href'))\n",
    "    except:\n",
    "        pass\n",
    "    "
   ]
  },
  {
   "cell_type": "code",
   "execution_count": null,
   "id": "915c3718",
   "metadata": {},
   "outputs": [],
   "source": [
    "res = requests.get('https://en.wikipedia.org/w/index.php?title=List_of_Game_of_Thrones_episodes')\n",
    "soup = BeautifulSoup(res.text, 'html.parser')\n",
    "\n",
    "elem = soup.find_all('table')\n",
    "table_str = []\n",
    "\n",
    "for i in elem:\n",
    "    \n",
    "    regexobj = re.compile(r'^<table\\sclass=\"wikitable\"\\sstyle=\"text-align:center\">')\n",
    "    cont = regexobj.findall(str(i))\n",
    "   \n",
    "    if cont!=[]:\n",
    "        \n",
    "        table_str.append(i)\n",
    "        \n",
    "episodes = []  \n",
    "\n",
    "for table in table_str:\n",
    "    headers = ['Season']\n",
    "    for rows in table.find_all('tr')[1].find_all('th'):\n",
    "        headers.append(rows.get_text())\n",
    "   \n",
    "    headers += ['Average']\n",
    "    print(headers)\n",
    "    for rest in table.find_all('tr')[2:8]:\n",
    "        values = []\n",
    "        val = rest.find_all(['th','td'])\n",
    "        for j in val[1:]:\n",
    "            \n",
    "            values.append(j.get_text())\n",
    "        \n",
    "        for k in range(len(values)):\n",
    "            dic = {headers[k]:values[k]}\n",
    "          \n",
    "            episodes.append(dic)"
   ]
  },
  {
   "cell_type": "code",
   "execution_count": null,
   "id": "04eb4f1d",
   "metadata": {
    "scrolled": true
   },
   "outputs": [],
   "source": [
    "for epis in episodes:\n",
    "    print (epis)"
   ]
  },
  {
   "cell_type": "code",
   "execution_count": null,
   "id": "74c6057a",
   "metadata": {},
   "outputs": [],
   "source": [
    "episodes.split('{')"
   ]
  },
  {
   "cell_type": "code",
   "execution_count": null,
   "id": "437626b5",
   "metadata": {},
   "outputs": [],
   "source": [
    "tags1 = [t for t in soup.select('cite a[href]') if 'nofollow' in t.get('rel','')]"
   ]
  },
  {
   "cell_type": "code",
   "execution_count": null,
   "id": "d6261ff9",
   "metadata": {
    "scrolled": true
   },
   "outputs": [],
   "source": [
    "tags2 = [t for t in soup.select('cite a[href]')]\n",
    "\n",
    "for i in tags2:\n",
    "    if 'nofollow' in None:\n",
    "        print('ok')\n",
    "    else:\n",
    "        print('no')"
   ]
  },
  {
   "cell_type": "code",
   "execution_count": null,
   "id": "d5979e2b",
   "metadata": {},
   "outputs": [],
   "source": [
    "a = soup.select('cite>a[href]')"
   ]
  },
  {
   "cell_type": "code",
   "execution_count": null,
   "id": "7409d5d3",
   "metadata": {},
   "outputs": [],
   "source": [
    "for i in a:\n",
    "    if i not in tags1:\n",
    "        print(i)"
   ]
  },
  {
   "cell_type": "code",
   "execution_count": null,
   "id": "9d6876d6",
   "metadata": {},
   "outputs": [],
   "source": [
    "tags2[0].get('rel',[])"
   ]
  },
  {
   "cell_type": "code",
   "execution_count": null,
   "id": "ec4eebf7",
   "metadata": {},
   "outputs": [],
   "source": [
    "for t in soup.select('cite a[href]'):\n",
    "    print (t.get('rel',[]))"
   ]
  },
  {
   "cell_type": "markdown",
   "id": "78471346",
   "metadata": {},
   "source": [
    "# Cricinfo commentary scraper to find the length distribution of a bowler(.....)"
   ]
  },
  {
   "cell_type": "code",
   "execution_count": null,
   "id": "ea088c7a",
   "metadata": {},
   "outputs": [],
   "source": [
    "from bs4 import BeautifulSoup\n",
    "import requests"
   ]
  },
  {
   "cell_type": "code",
   "execution_count": null,
   "id": "4de7c34a",
   "metadata": {},
   "outputs": [],
   "source": [
    "res= requests.get('https://www.espncricinfo.com/series/india-in-west-indies-2022-1317885/west-indies-vs-india-1st-odi-1317900/ball-by-ball-commentary')\n",
    "\n",
    "soup = BeautifulSoup(res.text,'html.parser')\n",
    "\n",
    "com_elem = soup.find_all('div', class_='ds-ml-4 lg:ds-ml-3')\n",
    "over_elem = soup.find_all('div',class_ = 'lg:ds-flex lg:ds-items-center lg:ds-px-2')\n",
    "\n",
    "\n",
    "com = [i.find('p').get_text() for i in com_elem]\n",
    "over = [i.find('span').get_text() for i in over_elem]\n",
    "\n",
    "dic = {'overs':over, 'commentary':com}      "
   ]
  },
  {
   "cell_type": "code",
   "execution_count": null,
   "id": "fe1e0590",
   "metadata": {
    "scrolled": true
   },
   "outputs": [],
   "source": [
    "df = pd.DataFrame(dic)"
   ]
  },
  {
   "cell_type": "code",
   "execution_count": null,
   "id": "e938d4df",
   "metadata": {
    "scrolled": true
   },
   "outputs": [],
   "source": [
    "df"
   ]
  },
  {
   "cell_type": "code",
   "execution_count": null,
   "id": "a560823c",
   "metadata": {},
   "outputs": [],
   "source": [
    "deliveries = []\n",
    "for i,j in df.iterrows():\n",
    "    regexobj = re.compile(r'full\\stoss|full|hard\\slength|good|yorker|short|bouncer',re.I)\n",
    "    cont = regexobj.findall(df['commentary'][i])\n",
    "    \n",
    "    \n",
    "    if cont!=[]:\n",
    "        if 'yorker' and ''\n",
    "        print(df['overs'][i],cont)\n",
    "        deliveries +=cont\n",
    "        \n",
    "deliveries = [i.lower() for i in deliveries]\n",
    "count_york = 0    \n",
    "for i in deliveries:\n",
    "    if 'yorker' in i:\n",
    "        count_york +=1\n",
    "\n",
    "york_perc = 100*count_york/len(df)\n",
    "print(york_perc)"
   ]
  },
  {
   "cell_type": "code",
   "execution_count": null,
   "id": "31e31164",
   "metadata": {},
   "outputs": [],
   "source": [
    "count_york"
   ]
  },
  {
   "cell_type": "code",
   "execution_count": null,
   "id": "408d53f5",
   "metadata": {
    "scrolled": true
   },
   "outputs": [],
   "source": [
    "res= requests.get('https://www.bcci.tv/events/72/india-tour-of-west-indies-odi-series-2022/match/584/1st-odi')\n",
    "\n",
    "soup = BeautifulSoup(res.text,'html.parser')\n",
    "\n",
    "com_elem = soup.find_all('div', class_='cmdEvent fourCmd mcBall mcBall mcBall mcBall mcBall mcBall')\n",
    "\n",
    "com = [i.find('div').find('p').get_text() for i in com_elem]"
   ]
  },
  {
   "cell_type": "code",
   "execution_count": null,
   "id": "f5b0f2e8",
   "metadata": {},
   "outputs": [],
   "source": [
    "type(soup)"
   ]
  },
  {
   "cell_type": "code",
   "execution_count": null,
   "id": "fe7f31ec",
   "metadata": {},
   "outputs": [],
   "source": [
    " 'full oss' and 'had' in ['yorker', 'full toss', 'hard']"
   ]
  },
  {
   "cell_type": "code",
   "execution_count": null,
   "id": "b9e969a0",
   "metadata": {},
   "outputs": [],
   "source": []
  },
  {
   "cell_type": "markdown",
   "id": "c07fb040",
   "metadata": {},
   "source": [
    "# If a website is using  protection, use GET method to extract the value that's refreshing everytime"
   ]
  },
  {
   "cell_type": "code",
   "execution_count": null,
   "id": "c967a33e",
   "metadata": {},
   "outputs": [],
   "source": [
    "#res = requests.get('http://www.webscrapingfordatascience.com/postform3/')\n",
    "\n",
    "formdata = {'protection':'060739331cf34ba85b4ec2191a3a7950','name': 'Pranav','gender':'M', 'haircolor':'black','comments':''}\n",
    "\n",
    "res = requests.post('http://www.webscrapingfordatascience.com/postform3/', data = formdata)\n",
    "print(res.text)"
   ]
  },
  {
   "cell_type": "code",
   "execution_count": null,
   "id": "86b27897",
   "metadata": {
    "scrolled": true
   },
   "outputs": [],
   "source": [
    "res = requests.get('http://www.webscrapingfordatascience.com/postform3/')\n",
    "\n",
    "soup = BeautifulSoup(res.text,'html.parser')\n",
    "\n",
    "value = soup.find('input').get('value')\n",
    "\n",
    "formdata = {'protection':value,'name': 'Pranav','gender':'M', 'haircolor':'black','comments':''}\n",
    "\n",
    "res = requests.post('http://www.webscrapingfordatascience.com/postform3/')\n",
    "print(res.text)\n"
   ]
  },
  {
   "cell_type": "markdown",
   "id": "07c5192b",
   "metadata": {},
   "source": [
    "# Downloading image file"
   ]
  },
  {
   "cell_type": "code",
   "execution_count": null,
   "id": "2758d684",
   "metadata": {},
   "outputs": [],
   "source": [
    "res = requests.get('http://www.webscrapingfordatascience.com/files/kitten.jpg',stream =True)\n",
    "\n",
    "with open('image.jpg','wb') as file:\n",
    "    file.write(res.content)"
   ]
  },
  {
   "cell_type": "code",
   "execution_count": null,
   "id": "702188ae",
   "metadata": {},
   "outputs": [],
   "source": [
    "file = open('image_new.jpg','wb')\n",
    "\n",
    "for chunk in res.iter_content(1000000):\n",
    "    file.write(chunk)\n",
    "file.close()"
   ]
  },
  {
   "cell_type": "code",
   "execution_count": null,
   "id": "db73f342",
   "metadata": {},
   "outputs": [],
   "source": [
    "res = requests.post('http://www.webscrapingfordatascience.com/jsonajax/results2.php', json={'api_code': 'C123456'})\n",
    "\n",
    "print(res.json())\n",
    "print(res.json().get('results'))\n",
    "print(res.request.headers)"
   ]
  },
  {
   "cell_type": "code",
   "execution_count": null,
   "id": "48accfe9",
   "metadata": {},
   "outputs": [],
   "source": [
    "res = requests.get('http://www.webscrapingfordatascience.com/simplejavascript/')\n",
    "soup = BeautifulSoup(res.text,'html.parser')\n",
    "\n",
    "tagel = soup.find('u1')\n",
    "print(tagel)\n",
    "script_tag = soup.find('script',attrs = {'src':None})\n",
    "print(script_tag)"
   ]
  },
  {
   "cell_type": "code",
   "execution_count": null,
   "id": "e3eafedb",
   "metadata": {},
   "outputs": [],
   "source": [
    "res = requests.get('http://www.webscrapingfordatascience.com/simplejavascript/quotes.php',cookies = {'jsenabled':'1'})\n",
    "\n",
    "res.json()"
   ]
  },
  {
   "cell_type": "code",
   "execution_count": null,
   "id": "90cee1cf",
   "metadata": {},
   "outputs": [],
   "source": [
    "res = requests.get('https://www.bcci.tv/events/72/india-tour-of-west-indies-odi-series-2022/match/586/3rd-odi')\n",
    "soup = BeautifulSoup(res.text,'html.parser')\n",
    "\n",
    "script = soup.find('script',src=None)\n",
    "print(script)\n"
   ]
  },
  {
   "cell_type": "code",
   "execution_count": null,
   "id": "c4908402",
   "metadata": {},
   "outputs": [],
   "source": []
  }
 ],
 "metadata": {
  "kernelspec": {
   "display_name": "Python 3 (ipykernel)",
   "language": "python",
   "name": "python3"
  },
  "language_info": {
   "codemirror_mode": {
    "name": "ipython",
    "version": 3
   },
   "file_extension": ".py",
   "mimetype": "text/x-python",
   "name": "python",
   "nbconvert_exporter": "python",
   "pygments_lexer": "ipython3",
   "version": "3.9.7"
  }
 },
 "nbformat": 4,
 "nbformat_minor": 5
}
